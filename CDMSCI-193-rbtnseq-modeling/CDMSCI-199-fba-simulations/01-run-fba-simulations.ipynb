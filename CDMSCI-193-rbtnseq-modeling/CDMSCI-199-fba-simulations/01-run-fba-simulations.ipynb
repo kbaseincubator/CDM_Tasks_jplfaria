{
 "cells": [
  {
   "cell_type": "markdown",
   "metadata": {},
   "source": [
    "# CDMSCI-199: Run FBA Simulations\n",
    "\n",
    "## Objective\n",
    "\n",
    "Run Flux Balance Analysis (FBA) simulations to predict growth of 44 organisms on 121 carbon sources.\n",
    "\n",
    "**Scope**: 121 carbon sources × 44 organisms = 5,324 FBA simulations\n",
    "\n",
    "## Workflow\n",
    "\n",
    "1. Load 44 gap-filled organism models from CDMSCI-198\n",
    "2. Load 121 media formulations from CDMSCI-197\n",
    "3. For each organism × carbon source combination:\n",
    "   - Apply media to model\n",
    "   - Run FBA (optimize biomass)\n",
    "   - Record biomass flux and prediction\n",
    "4. Save results as CSV and binary matrix\n",
    "\n",
    "## Outputs\n",
    "\n",
    "- `results/fba_simulation_results.csv` - All 5,324 simulation results\n",
    "- `results/insilico_growth_predictions.csv` - Binary matrix (121 × 44)\n",
    "- `results/biomass_flux_matrix.csv` - Continuous flux values (121 × 44)"
   ]
  },
  {
   "cell_type": "markdown",
   "metadata": {},
   "source": [
    "## Setup and Imports"
   ]
  },
  {
   "cell_type": "code",
   "execution_count": 1,
   "metadata": {},
   "outputs": [
    {
     "name": "stdout",
     "output_type": "stream",
     "text": [
      "COBRApy version: 0.29.1\n",
      "Pandas version: 2.2.2\n"
     ]
    }
   ],
   "source": [
    "import cobra\n",
    "import pandas as pd\n",
    "import numpy as np\n",
    "import json\n",
    "from pathlib import Path\n",
    "from tqdm import tqdm\n",
    "import warnings\n",
    "warnings.filterwarnings('ignore')\n",
    "\n",
    "print(f\"COBRApy version: {cobra.__version__}\")\n",
    "print(f\"Pandas version: {pd.__version__}\")"
   ]
  },
  {
   "cell_type": "markdown",
   "metadata": {},
   "source": [
    "## Load Simulatable Carbon Sources\n",
    "\n",
    "Load the 121 carbon sources that have both experimental data and media files."
   ]
  },
  {
   "cell_type": "code",
   "execution_count": 2,
   "metadata": {},
   "outputs": [
    {
     "name": "stdout",
     "output_type": "stream",
     "text": [
      "Simulatable carbon sources: 121\n",
      "\n",
      "Columns: ['experimental_name', 'media_name', 'media_filename', 'standardized']\n",
      "\n",
      "First 5 sources:\n",
      "    experimental_name          media_name           media_filename  \\\n",
      "0     1,2-Propanediol      12-Propanediol      12-Propanediol.json   \n",
      "1       1,3-Butandiol        13-Butandiol        13-Butandiol.json   \n",
      "2          1-Pentanol          1-Pentanol          1-Pentanol.json   \n",
      "3    2-Deoxy-D-Ribose    2-Deoxy-D-Ribose    2-Deoxy-D-Ribose.json   \n",
      "4  2-methyl-1-butanol  2-methyl-1-butanol  2-methyl-1-butanol.json   \n",
      "\n",
      "      standardized  \n",
      "0    12propanediol  \n",
      "1      13butandiol  \n",
      "2        1pentanol  \n",
      "3    2deoxydribose  \n",
      "4  2methyl1butanol  \n"
     ]
    }
   ],
   "source": [
    "# Load simulatable sources from overlap analysis\n",
    "simulatable_df = pd.read_csv('results/simulatable_carbon_sources.csv')\n",
    "\n",
    "print(f\"Simulatable carbon sources: {len(simulatable_df)}\")\n",
    "print(f\"\\nColumns: {list(simulatable_df.columns)}\")\n",
    "print(f\"\\nFirst 5 sources:\")\n",
    "print(simulatable_df.head())"
   ]
  },
  {
   "cell_type": "markdown",
   "metadata": {},
   "source": [
    "## Load Organism List\n",
    "\n",
    "Get the list of 44 organisms from the experimental data."
   ]
  },
  {
   "cell_type": "code",
   "execution_count": 3,
   "metadata": {},
   "outputs": [
    {
     "name": "stdout",
     "output_type": "stream",
     "text": [
      "Total organisms: 44\n",
      "\n",
      "First 5 organisms:\n",
      "  1. Shewanella sp. ANA-3\n",
      "  2. Burkholderia phytofirmans PsJN\n",
      "  3. Bifidobacterium breve UCC2003\n",
      "  4. Brevundimonas sp. GW460-12-10-14-LB2\n",
      "  5. Bacteroides thetaiotaomicron VPI-5482\n"
     ]
    }
   ],
   "source": [
    "# Load experimental data to get organism names\n",
    "experimental_data = pd.read_csv('../CDMSCI-196-carbon-sources/results/combined_growth_matrix_filtered.csv', index_col=0)\n",
    "\n",
    "organisms = list(experimental_data.columns)\n",
    "print(f\"Total organisms: {len(organisms)}\")\n",
    "print(f\"\\nFirst 5 organisms:\")\n",
    "for i, org in enumerate(organisms[:5], 1):\n",
    "    print(f\"  {i}. {org}\")"
   ]
  },
  {
   "cell_type": "markdown",
   "metadata": {},
   "source": [
    "## Create Organism Name to Model ID Mapping\n",
    "\n",
    "Model filenames use short `orgId` codes (e.g., `ANA3`, `BFirm`) but experimental data uses full species names.\n",
    "Load the organism metadata to create the mapping."
   ]
  },
  {
   "cell_type": "code",
   "execution_count": 4,
   "metadata": {},
   "outputs": [
    {
     "name": "stdout",
     "output_type": "stream",
     "text": [
      "Organism metadata loaded: 57 organisms\n",
      "\n",
      "Columns: ['orgId', 'Full_Species_Name', 'NCBI_TaxID', 'division', 'genus', 'species', 'strain', 'Species_Name']\n",
      "\n",
      "First 5 rows:\n",
      "    orgId                           Species_Name\n",
      "0    ANA3                   Shewanella sp. ANA-3\n",
      "1   BFirm         Burkholderia phytofirmans PsJN\n",
      "2  Bifido          Bifidobacterium breve UCC2003\n",
      "3   Brev2   Brevundimonas sp. GW460-12-10-14-LB2\n",
      "4  Btheta  Bacteroides thetaiotaomicron VPI-5482\n",
      "\n",
      "All 44 organisms successfully mapped to orgIds!\n",
      "\n",
      "Example mappings:\n",
      "  Shewanella sp. ANA-3 → ANA3\n",
      "  Burkholderia phytofirmans PsJN → BFirm\n",
      "  Bifidobacterium breve UCC2003 → Bifido\n",
      "  Brevundimonas sp. GW460-12-10-14-LB2 → Brev2\n",
      "  Bacteroides thetaiotaomicron VPI-5482 → Btheta\n"
     ]
    }
   ],
   "source": [
    "# Load organism metadata from CDMSCI-196\n",
    "organism_metadata = pd.read_csv('../CDMSCI-196-carbon-sources/results/organism_metadata.csv')\n",
    "\n",
    "print(f\"Organism metadata loaded: {len(organism_metadata)} organisms\")\n",
    "print(f\"\\nColumns: {list(organism_metadata.columns)}\")\n",
    "print(f\"\\nFirst 5 rows:\")\n",
    "print(organism_metadata[['orgId', 'Species_Name']].head())\n",
    "print()\n",
    "\n",
    "# Create mapping: Species_Name -> orgId\n",
    "name_to_orgid = dict(zip(organism_metadata['Species_Name'], organism_metadata['orgId']))\n",
    "\n",
    "# Map organism names to orgIds\n",
    "organism_ids = [name_to_orgid.get(org) for org in organisms]\n",
    "\n",
    "# Check for unmapped organisms\n",
    "unmapped = [org for org, org_id in zip(organisms, organism_ids) if org_id is None]\n",
    "if unmapped:\n",
    "    print(f\"WARNING: {len(unmapped)} organisms not found in metadata:\")\n",
    "    for org in unmapped:\n",
    "        print(f\"  - {org}\")\n",
    "else:\n",
    "    print(f\"All {len(organisms)} organisms successfully mapped to orgIds!\")\n",
    "    print(f\"\\nExample mappings:\")\n",
    "    for i in range(min(5, len(organisms))):\n",
    "        print(f\"  {organisms[i]} → {organism_ids[i]}\")"
   ]
  },
  {
   "cell_type": "markdown",
   "metadata": {},
   "source": [
    "## Verify Model Files Exist\n",
    "\n",
    "Check that all 44 organism models are available from CDMSCI-198."
   ]
  },
  {
   "cell_type": "code",
   "execution_count": 5,
   "metadata": {},
   "outputs": [
    {
     "name": "stdout",
     "output_type": "stream",
     "text": [
      "Available models: 44 / 44\n",
      "\n",
      "All 44 organism models are available.\n",
      "\n",
      "Example model files:\n",
      "  ANA3_gapfilled.json → Shewanella sp. ANA-3\n",
      "  BFirm_gapfilled.json → Burkholderia phytofirmans PsJN\n",
      "  Bifido_gapfilled.json → Bifidobacterium breve UCC2003\n",
      "  Brev2_gapfilled.json → Brevundimonas sp. GW460-12-10-14-LB2\n",
      "  Btheta_gapfilled.json → Bacteroides thetaiotaomicron VPI-5482\n"
     ]
    }
   ],
   "source": [
    "models_dir = Path('../CDMSCI-198-build-models/models')\n",
    "\n",
    "# Check for model files using orgIds\n",
    "missing_models = []\n",
    "available_models = []\n",
    "organism_name_map = {}  # Maps orgId -> Species_Name\n",
    "\n",
    "for org_name, org_id in zip(organisms, organism_ids):\n",
    "    if org_id is None:\n",
    "        missing_models.append(org_name)\n",
    "        continue\n",
    "    \n",
    "    model_path = models_dir / f\"{org_id}_gapfilled.json\"\n",
    "    if model_path.exists():\n",
    "        available_models.append(org_id)\n",
    "        organism_name_map[org_id] = org_name\n",
    "    else:\n",
    "        missing_models.append(org_name)\n",
    "\n",
    "print(f\"Available models: {len(available_models)} / {len(organisms)}\")\n",
    "\n",
    "if missing_models:\n",
    "    print(f\"\\nWARNING: Missing {len(missing_models)} models:\")\n",
    "    for org in missing_models:\n",
    "        print(f\"  - {org}\")\n",
    "else:\n",
    "    print(f\"\\nAll {len(organisms)} organism models are available.\")\n",
    "    print(f\"\\nExample model files:\")\n",
    "    for i, org_id in enumerate(available_models[:5]):\n",
    "        print(f\"  {org_id}_gapfilled.json → {organism_name_map[org_id]}\")"
   ]
  },
  {
   "cell_type": "markdown",
   "metadata": {},
   "source": [
    "## Verify Media Files Exist\n",
    "\n",
    "Check that all 121 media formulations are available from CDMSCI-197."
   ]
  },
  {
   "cell_type": "code",
   "execution_count": 6,
   "metadata": {},
   "outputs": [
    {
     "name": "stdout",
     "output_type": "stream",
     "text": [
      "Available media files: 121 / 121\n",
      "\n",
      "All 121 media formulations are available.\n"
     ]
    }
   ],
   "source": [
    "media_dir = Path('../CDMSCI-197-media-formulations/media')\n",
    "\n",
    "# Check for media files\n",
    "missing_media = []\n",
    "available_media = []\n",
    "\n",
    "for idx, row in simulatable_df.iterrows():\n",
    "    media_file = row['media_filename']\n",
    "    media_path = media_dir / media_file\n",
    "    if media_path.exists():\n",
    "        available_media.append(media_file)\n",
    "    else:\n",
    "        missing_media.append(media_file)\n",
    "\n",
    "print(f\"Available media files: {len(available_media)} / {len(simulatable_df)}\")\n",
    "\n",
    "if missing_media:\n",
    "    print(f\"\\nWARNING: Missing {len(missing_media)} media files:\")\n",
    "    for media in missing_media:\n",
    "        print(f\"  - {media}\")\n",
    "else:\n",
    "    print(f\"\\nAll {len(simulatable_df)} media formulations are available.\")"
   ]
  },
  {
   "cell_type": "markdown",
   "metadata": {},
   "source": [
    "## Define Growth Threshold\n",
    "\n",
    "Growth threshold matches the gap-filling threshold from CDMSCI-198."
   ]
  },
  {
   "cell_type": "code",
   "execution_count": 7,
   "metadata": {},
   "outputs": [
    {
     "name": "stdout",
     "output_type": "stream",
     "text": [
      "Growth threshold: 0.001 h^-1\n",
      "\n",
      "Classification:\n",
      "  - Biomass flux > 0.001 → Growth (1)\n",
      "  - Biomass flux ≤ 0.001 → No Growth (0)\n"
     ]
    }
   ],
   "source": [
    "GROWTH_THRESHOLD = 0.001  # h^-1 (biomass flux threshold)\n",
    "\n",
    "print(f\"Growth threshold: {GROWTH_THRESHOLD} h^-1\")\n",
    "print(f\"\\nClassification:\")\n",
    "print(f\"  - Biomass flux > {GROWTH_THRESHOLD} → Growth (1)\")\n",
    "print(f\"  - Biomass flux ≤ {GROWTH_THRESHOLD} → No Growth (0)\")"
   ]
  },
  {
   "cell_type": "markdown",
   "metadata": {},
   "source": [
    "## Helper Function: Convert Media Format\n",
    "\n",
    "Media files contain ModelSEED compound IDs (e.g., `cpd00007`) but models use exchange reaction IDs (e.g., `EX_cpd00007_e0`).\n",
    "This function converts the media dictionary format."
   ]
  },
  {
   "cell_type": "code",
   "execution_count": 8,
   "metadata": {},
   "outputs": [
    {
     "name": "stdout",
     "output_type": "stream",
     "text": [
      "Media converter function defined.\n",
      "This will convert ModelSEED compound IDs to model exchange reaction IDs.\n",
      "Returns: (converted_media_dict, list_of_missing_compound_ids)\n"
     ]
    }
   ],
   "source": [
    "def convert_media_to_model_format(media_dict, model):\n",
    "    \"\"\"\n",
    "    Convert media dictionary from ModelSEED format to model exchange reaction format.\n",
    "    \n",
    "    Media files have format: {'cpd00007': [-10, 100], 'cpd00001': [-10, 100], ...}\n",
    "    Models need format: {'EX_cpd00007_e0': 10, 'EX_cpd00001_e0': 10, ...}\n",
    "    \n",
    "    Args:\n",
    "        media_dict: Dictionary with ModelSEED compound IDs as keys\n",
    "        model: COBRApy model object\n",
    "    \n",
    "    Returns:\n",
    "        tuple: (model_media dict, list of missing compound IDs)\n",
    "    \"\"\"\n",
    "    model_media = {}\n",
    "    missing_exchanges = []\n",
    "    \n",
    "    for cpd_id, bounds in media_dict.items():\n",
    "        # Extract uptake rate (first value in bounds, make positive)\n",
    "        uptake_rate = abs(bounds[0]) if isinstance(bounds, list) else abs(bounds)\n",
    "        \n",
    "        # Try to find the exchange reaction for this compound\n",
    "        # Common formats: EX_cpd_e0, EX_cpd_e, etc.\n",
    "        possible_ids = [\n",
    "            f\"EX_{cpd_id}_e0\",\n",
    "            f\"EX_{cpd_id}_e\",\n",
    "            f\"EX_{cpd_id}(e)\",\n",
    "            f\"{cpd_id}_e0\",\n",
    "        ]\n",
    "        \n",
    "        found = False\n",
    "        for ex_id in possible_ids:\n",
    "            if ex_id in model.reactions:\n",
    "                model_media[ex_id] = uptake_rate\n",
    "                found = True\n",
    "                break\n",
    "        \n",
    "        if not found:\n",
    "            missing_exchanges.append(cpd_id)\n",
    "    \n",
    "    # Note: It's normal to have some missing exchanges if the model doesn't have\n",
    "    # transport reactions for all compounds in the media (e.g., trace metals)\n",
    "    \n",
    "    return model_media, missing_exchanges\n",
    "\n",
    "print(\"Media converter function defined.\")\n",
    "print(\"This will convert ModelSEED compound IDs to model exchange reaction IDs.\")\n",
    "print(\"Returns: (converted_media_dict, list_of_missing_compound_ids)\")"
   ]
  },
  {
   "cell_type": "markdown",
   "metadata": {},
   "source": [
    "## Test Single Simulation\n",
    "\n",
    "Test FBA on one organism × carbon source to verify workflow."
   ]
  },
  {
   "cell_type": "code",
   "execution_count": 9,
   "metadata": {},
   "outputs": [
    {
     "name": "stdout",
     "output_type": "stream",
     "text": [
      "Test organism: Shewanella sp. ANA-3\n",
      "Test organism ID: ANA3\n",
      "Test carbon source: 1,2-Propanediol\n",
      "Test media file: 12-Propanediol.json\n",
      "\n",
      "Loading model: ../CDMSCI-198-build-models/models/ANA3_gapfilled.json\n",
      "Model loaded: ANA3\n",
      "  Reactions: 1348\n",
      "  Metabolites: 1194\n",
      "  Genes: 946\n",
      "\n",
      "Loading media: ../CDMSCI-197-media-formulations/media/12-Propanediol.json\n",
      "Media compounds: 20\n",
      "\n",
      "Converting media format...\n",
      "Converted media: 18 exchange reactions\n",
      "  Missing 2 compounds (model lacks transport reactions)\n",
      "\n",
      "Applying media to model...\n",
      "Running FBA...\n",
      "\n",
      "Results:\n",
      "  Status: optimal\n",
      "  Biomass flux: 0.000000 h^-1\n",
      "  Prediction: No Growth (0)\n",
      "\n",
      "Test successful!\n"
     ]
    }
   ],
   "source": [
    "# Test with first organism and first carbon source\n",
    "test_org_id = available_models[0]\n",
    "test_org_name = organism_name_map[test_org_id]\n",
    "test_source = simulatable_df.iloc[0]\n",
    "\n",
    "print(f\"Test organism: {test_org_name}\")\n",
    "print(f\"Test organism ID: {test_org_id}\")\n",
    "print(f\"Test carbon source: {test_source['experimental_name']}\")\n",
    "print(f\"Test media file: {test_source['media_filename']}\")\n",
    "print()\n",
    "\n",
    "# Load model\n",
    "model_path = models_dir / f\"{test_org_id}_gapfilled.json\"\n",
    "print(f\"Loading model: {model_path}\")\n",
    "model = cobra.io.load_json_model(str(model_path))\n",
    "print(f\"Model loaded: {model.id}\")\n",
    "print(f\"  Reactions: {len(model.reactions)}\")\n",
    "print(f\"  Metabolites: {len(model.metabolites)}\")\n",
    "print(f\"  Genes: {len(model.genes)}\")\n",
    "print()\n",
    "\n",
    "# Load media\n",
    "media_path = media_dir / test_source['media_filename']\n",
    "print(f\"Loading media: {media_path}\")\n",
    "with open(media_path) as f:\n",
    "    media_dict = json.load(f)\n",
    "print(f\"Media compounds: {len(media_dict)}\")\n",
    "print()\n",
    "\n",
    "# Convert media format\n",
    "print(\"Converting media format...\")\n",
    "model_media, missing = convert_media_to_model_format(media_dict, model)\n",
    "print(f\"Converted media: {len(model_media)} exchange reactions\")\n",
    "if missing:\n",
    "    print(f\"  Missing {len(missing)} compounds (model lacks transport reactions)\")\n",
    "print()\n",
    "\n",
    "# Apply media and run FBA\n",
    "print(\"Applying media to model...\")\n",
    "model.medium = model_media\n",
    "print(\"Running FBA...\")\n",
    "solution = model.optimize()\n",
    "\n",
    "print(f\"\\nResults:\")\n",
    "print(f\"  Status: {solution.status}\")\n",
    "print(f\"  Biomass flux: {solution.objective_value:.6f} h^-1\")\n",
    "print(f\"  Prediction: {'Growth (1)' if solution.objective_value > GROWTH_THRESHOLD else 'No Growth (0)'}\")\n",
    "print()\n",
    "print(\"Test successful!\")"
   ]
  },
  {
   "cell_type": "markdown",
   "metadata": {},
   "source": [
    "## Run 5% Test Simulations\n",
    "\n",
    "Run a random 5% subset of simulations (~266 simulations) to test the workflow and analyze patterns before running all 5,324 simulations.\n",
    "\n",
    "Estimated runtime: ~5-10 minutes"
   ]
  },
  {
   "cell_type": "code",
   "execution_count": 10,
   "metadata": {},
   "outputs": [
    {
     "name": "stdout",
     "output_type": "stream",
     "text": [
      "Total possible simulations: 5,324\n",
      "5% test set: 266 simulations\n",
      "Random seed: 42 (for reproducibility)\n",
      "\n",
      "Running 5% test simulations...\n"
     ]
    },
    {
     "name": "stderr",
     "output_type": "stream",
     "text": [
      "5% Test: 100%|██████████████████████████████████████████████████████████████████████████████████████████████████████████████████████████████████████████████████████████████████████| 266/266 [01:53<00:00,  2.35it/s]"
     ]
    },
    {
     "name": "stdout",
     "output_type": "stream",
     "text": [
      "\n",
      "5% Test complete!\n",
      "  Successful: 266\n",
      "  Failed: 0\n",
      "  Total: 266\n",
      "\n",
      "Saved to: results/fba_simulation_results_5pct_test.csv\n"
     ]
    },
    {
     "name": "stderr",
     "output_type": "stream",
     "text": [
      "\n"
     ]
    }
   ],
   "source": [
    "import random\n",
    "\n",
    "# Set random seed for reproducibility\n",
    "random.seed(42)\n",
    "\n",
    "# Create list of all organism-carbon source combinations\n",
    "all_combinations = []\n",
    "for org_id in available_models:\n",
    "    for idx, row in simulatable_df.iterrows():\n",
    "        all_combinations.append((org_id, idx))\n",
    "\n",
    "# Sample 5%\n",
    "test_size = int(len(all_combinations) * 0.05)\n",
    "test_combinations = random.sample(all_combinations, test_size)\n",
    "\n",
    "print(f\"Total possible simulations: {len(all_combinations):,}\")\n",
    "print(f\"5% test set: {len(test_combinations):,} simulations\")\n",
    "print(f\"Random seed: 42 (for reproducibility)\")\n",
    "print()\n",
    "\n",
    "# Initialize results\n",
    "results = []\n",
    "failed_simulations = 0\n",
    "successful_simulations = 0\n",
    "\n",
    "# Run test simulations\n",
    "print(\"Running 5% test simulations...\")\n",
    "for org_id, row_idx in tqdm(test_combinations, desc=\"5% Test\"):\n",
    "    org_name = organism_name_map[org_id]\n",
    "    row = simulatable_df.iloc[row_idx]\n",
    "    carbon_source = row['experimental_name']\n",
    "    media_file = row['media_filename']\n",
    "    \n",
    "    # Load model\n",
    "    model_path = models_dir / f\"{org_id}_gapfilled.json\"\n",
    "    try:\n",
    "        model = cobra.io.load_json_model(str(model_path))\n",
    "    except Exception as e:\n",
    "        results.append({\n",
    "            'organism': org_name,\n",
    "            'orgId': org_id,\n",
    "            'carbon_source': carbon_source,\n",
    "            'media_filename': media_file,\n",
    "            'biomass_flux': np.nan,\n",
    "            'status': 'model_load_failed',\n",
    "            'prediction': np.nan,\n",
    "            'missing_compounds': np.nan,\n",
    "            'num_missing': np.nan\n",
    "        })\n",
    "        failed_simulations += 1\n",
    "        continue\n",
    "    \n",
    "    # Load media\n",
    "    media_path = media_dir / media_file\n",
    "    try:\n",
    "        with open(media_path) as f:\n",
    "            media_dict = json.load(f)\n",
    "        \n",
    "        # Convert media format\n",
    "        model_media, missing = convert_media_to_model_format(media_dict, model)\n",
    "    except Exception as e:\n",
    "        results.append({\n",
    "            'organism': org_name,\n",
    "            'orgId': org_id,\n",
    "            'carbon_source': carbon_source,\n",
    "            'media_filename': media_file,\n",
    "            'biomass_flux': np.nan,\n",
    "            'status': 'media_load_failed',\n",
    "            'prediction': np.nan,\n",
    "            'missing_compounds': np.nan,\n",
    "            'num_missing': np.nan\n",
    "        })\n",
    "        failed_simulations += 1\n",
    "        continue\n",
    "    \n",
    "    # Run FBA\n",
    "    try:\n",
    "        model.medium = model_media\n",
    "        solution = model.optimize()\n",
    "        \n",
    "        # Record result\n",
    "        biomass_flux = solution.objective_value\n",
    "        prediction = 1 if biomass_flux > GROWTH_THRESHOLD else 0\n",
    "        \n",
    "        results.append({\n",
    "            'organism': org_name,\n",
    "            'orgId': org_id,\n",
    "            'carbon_source': carbon_source,\n",
    "            'media_filename': media_file,\n",
    "            'biomass_flux': biomass_flux,\n",
    "            'status': solution.status,\n",
    "            'prediction': prediction,\n",
    "            'missing_compounds': ','.join(missing) if missing else '',\n",
    "            'num_missing': len(missing)\n",
    "        })\n",
    "        successful_simulations += 1\n",
    "        \n",
    "    except Exception as e:\n",
    "        results.append({\n",
    "            'organism': org_name,\n",
    "            'orgId': org_id,\n",
    "            'carbon_source': carbon_source,\n",
    "            'media_filename': media_file,\n",
    "            'biomass_flux': np.nan,\n",
    "            'status': 'fba_failed',\n",
    "            'prediction': np.nan,\n",
    "            'missing_compounds': np.nan,\n",
    "            'num_missing': np.nan\n",
    "        })\n",
    "        failed_simulations += 1\n",
    "\n",
    "print()\n",
    "print(f\"5% Test complete!\")\n",
    "print(f\"  Successful: {successful_simulations:,}\")\n",
    "print(f\"  Failed: {failed_simulations:,}\")\n",
    "print(f\"  Total: {len(results):,}\")\n",
    "\n",
    "# Convert to DataFrame\n",
    "results_df = pd.DataFrame(results)\n",
    "\n",
    "# Save test results\n",
    "results_df.to_csv('results/fba_simulation_results_5pct_test.csv', index=False)\n",
    "print(f\"\\nSaved to: results/fba_simulation_results_5pct_test.csv\")"
   ]
  },
  {
   "cell_type": "markdown",
   "metadata": {},
   "source": [
    "## Analyze 5% Test Results\n",
    "\n",
    "Quick analysis of test results before running full simulation."
   ]
  },
  {
   "cell_type": "code",
   "execution_count": 11,
   "metadata": {},
   "outputs": [
    {
     "name": "stdout",
     "output_type": "stream",
     "text": [
      "================================================================================\n",
      "5% TEST RESULTS ANALYSIS\n",
      "================================================================================\n",
      "\n",
      "Simulation Status:\n",
      "status\n",
      "optimal    266\n",
      "Name: count, dtype: int64\n",
      "\n",
      "Successful simulations: 266 / 266 (100.0%)\n",
      "\n",
      "Biomass flux statistics (h^-1):\n",
      "count    266.000000\n",
      "mean       0.108144\n",
      "std        0.219005\n",
      "min        0.000000\n",
      "25%        0.000000\n",
      "50%        0.000000\n",
      "75%        0.000000\n",
      "max        0.844537\n",
      "Name: biomass_flux, dtype: float64\n",
      "\n",
      "Growth predictions:\n",
      "  No Growth (0): 207 (77.8%)\n",
      "  Growth (1): 59 (22.2%)\n",
      "\n",
      "Missing compounds analysis:\n",
      "  Average missing per simulation: 1.5\n",
      "  Max missing: 3\n",
      "  Simulations with 0 missing: 39 (14.7%)\n",
      "\n",
      "Top 10 most common missing compounds:\n",
      "  cpd00244: 91 times (34.2% of simulations)\n",
      "  cpd10515: 85 times (32.0% of simulations)\n",
      "  cpd11574: 35 times (13.2% of simulations)\n",
      "  cpd16873: 5 times (1.9% of simulations)\n",
      "  cpd00217: 5 times (1.9% of simulations)\n",
      "  cpd00508: 5 times (1.9% of simulations)\n",
      "  cpd00453: 5 times (1.9% of simulations)\n",
      "  cpd03198: 4 times (1.5% of simulations)\n",
      "  cpd16586: 4 times (1.5% of simulations)\n",
      "  cpd01113: 4 times (1.5% of simulations)\n",
      "\n",
      "5% test looks good! Ready to run full simulation.\n"
     ]
    }
   ],
   "source": [
    "print(\"=\" * 80)\n",
    "print(\"5% TEST RESULTS ANALYSIS\")\n",
    "print(\"=\" * 80)\n",
    "print()\n",
    "\n",
    "# Status distribution\n",
    "print(\"Simulation Status:\")\n",
    "print(results_df['status'].value_counts())\n",
    "print()\n",
    "\n",
    "# Successful simulations\n",
    "successful = results_df[results_df['status'] == 'optimal']\n",
    "print(f\"Successful simulations: {len(successful):,} / {len(results_df):,} ({100*len(successful)/len(results_df):.1f}%)\")\n",
    "print()\n",
    "\n",
    "# Biomass flux distribution\n",
    "print(\"Biomass flux statistics (h^-1):\")\n",
    "print(successful['biomass_flux'].describe())\n",
    "print()\n",
    "\n",
    "# Growth predictions\n",
    "print(\"Growth predictions:\")\n",
    "prediction_counts = successful['prediction'].value_counts().sort_index()\n",
    "for pred, count in prediction_counts.items():\n",
    "    label = 'Growth' if pred == 1 else 'No Growth'\n",
    "    print(f\"  {label} ({int(pred)}): {count:,} ({100*count/len(successful):.1f}%)\")\n",
    "print()\n",
    "\n",
    "# Missing compounds analysis\n",
    "print(\"Missing compounds analysis:\")\n",
    "print(f\"  Average missing per simulation: {successful['num_missing'].mean():.1f}\")\n",
    "print(f\"  Max missing: {successful['num_missing'].max():.0f}\")\n",
    "print(f\"  Simulations with 0 missing: {(successful['num_missing'] == 0).sum()} ({100*(successful['num_missing'] == 0).sum()/len(successful):.1f}%)\")\n",
    "print()\n",
    "\n",
    "# Most common missing compounds\n",
    "all_missing = []\n",
    "for missing_str in successful['missing_compounds']:\n",
    "    if pd.notna(missing_str) and missing_str:\n",
    "        all_missing.extend(missing_str.split(','))\n",
    "\n",
    "if all_missing:\n",
    "    from collections import Counter\n",
    "    missing_counts = Counter(all_missing)\n",
    "    print(\"Top 10 most common missing compounds:\")\n",
    "    for cpd_id, count in missing_counts.most_common(10):\n",
    "        print(f\"  {cpd_id}: {count} times ({100*count/len(successful):.1f}% of simulations)\")\n",
    "else:\n",
    "    print(\"No missing compounds in any simulation!\")\n",
    "print()\n",
    "\n",
    "print(\"5% test looks good! Ready to run full simulation.\")"
   ]
  },
  {
   "cell_type": "markdown",
   "metadata": {},
   "source": [
    "## Run Full FBA Simulations\n",
    "\n",
    "Run all 5,324 FBA simulations. This will skip any simulations already completed in the 5% test.\n",
    "\n",
    "Estimated runtime: 1-2 hours (approximately 1 second per simulation)"
   ]
  },
  {
   "cell_type": "code",
   "execution_count": 12,
   "metadata": {},
   "outputs": [
    {
     "name": "stdout",
     "output_type": "stream",
     "text": [
      "Loading existing 5% test results...\n",
      "Loaded 266 existing results\n",
      "Will skip 266 already-completed simulations\n",
      "\n",
      "Total simulations: 5,324\n",
      "Already completed: 266\n",
      "Remaining: 5,058\n",
      "\n",
      "Running 5,058 remaining simulations...\n",
      "\n"
     ]
    },
    {
     "name": "stderr",
     "output_type": "stream",
     "text": [
      "Organisms: 100%|██████████████████████████████████████████████████████████████████████████████████████████████████████████████████████████████████████████████████████████████████████| 44/44 [01:19<00:00,  1.81s/it]"
     ]
    },
    {
     "name": "stdout",
     "output_type": "stream",
     "text": [
      "\n",
      "Full simulation complete!\n",
      "  Successful: 5,058\n",
      "  Failed: 0\n",
      "  Skipped (already done): 266\n",
      "  Total results: 5,324\n",
      "\n",
      "Saved to: results/fba_simulation_results.csv\n"
     ]
    },
    {
     "name": "stderr",
     "output_type": "stream",
     "text": [
      "\n"
     ]
    }
   ],
   "source": [
    "# Load existing results if they exist\n",
    "existing_results_path = Path('results/fba_simulation_results_5pct_test.csv')\n",
    "if existing_results_path.exists():\n",
    "    print(\"Loading existing 5% test results...\")\n",
    "    existing_df = pd.read_csv(existing_results_path)\n",
    "    results = existing_df.to_dict('records')\n",
    "    \n",
    "    # Create set of completed simulations\n",
    "    completed = set()\n",
    "    for result in results:\n",
    "        key = (result['orgId'], result['carbon_source'])\n",
    "        completed.add(key)\n",
    "    \n",
    "    print(f\"Loaded {len(results):,} existing results\")\n",
    "    print(f\"Will skip {len(completed):,} already-completed simulations\")\n",
    "    print()\n",
    "else:\n",
    "    print(\"No existing results found, starting from scratch.\")\n",
    "    results = []\n",
    "    completed = set()\n",
    "\n",
    "# Calculate remaining simulations\n",
    "total_simulations = len(available_models) * len(simulatable_df)\n",
    "remaining_simulations = total_simulations - len(completed)\n",
    "\n",
    "print(f\"Total simulations: {total_simulations:,}\")\n",
    "print(f\"Already completed: {len(completed):,}\")\n",
    "print(f\"Remaining: {remaining_simulations:,}\")\n",
    "print()\n",
    "\n",
    "if remaining_simulations == 0:\n",
    "    print(\"All simulations already completed!\")\n",
    "else:\n",
    "    # Progress tracking\n",
    "    failed_simulations = 0\n",
    "    successful_simulations = 0\n",
    "    skipped_simulations = 0\n",
    "    \n",
    "    # Run remaining simulations\n",
    "    print(f\"Running {remaining_simulations:,} remaining simulations...\")\n",
    "    print()\n",
    "    \n",
    "    for org_id in tqdm(available_models, desc=\"Organisms\"):\n",
    "        org_name = organism_name_map[org_id]\n",
    "        \n",
    "        # Load model once per organism\n",
    "        model_path = models_dir / f\"{org_id}_gapfilled.json\"\n",
    "        try:\n",
    "            model = cobra.io.load_json_model(str(model_path))\n",
    "        except Exception as e:\n",
    "            # Record failures for all carbon sources\n",
    "            for idx, row in simulatable_df.iterrows():\n",
    "                carbon_source = row['experimental_name']\n",
    "                key = (org_id, carbon_source)\n",
    "                if key in completed:\n",
    "                    skipped_simulations += 1\n",
    "                    continue\n",
    "                \n",
    "                results.append({\n",
    "                    'organism': org_name,\n",
    "                    'orgId': org_id,\n",
    "                    'carbon_source': carbon_source,\n",
    "                    'media_filename': row['media_filename'],\n",
    "                    'biomass_flux': np.nan,\n",
    "                    'status': 'model_load_failed',\n",
    "                    'prediction': np.nan,\n",
    "                    'missing_compounds': np.nan,\n",
    "                    'num_missing': np.nan\n",
    "                })\n",
    "                failed_simulations += 1\n",
    "            continue\n",
    "        \n",
    "        # Iterate through carbon sources\n",
    "        for idx, row in simulatable_df.iterrows():\n",
    "            carbon_source = row['experimental_name']\n",
    "            media_file = row['media_filename']\n",
    "            \n",
    "            # Skip if already completed\n",
    "            key = (org_id, carbon_source)\n",
    "            if key in completed:\n",
    "                skipped_simulations += 1\n",
    "                continue\n",
    "            \n",
    "            media_path = media_dir / media_file\n",
    "            \n",
    "            # Load media\n",
    "            try:\n",
    "                with open(media_path) as f:\n",
    "                    media_dict = json.load(f)\n",
    "                \n",
    "                # Convert media format\n",
    "                model_media, missing = convert_media_to_model_format(media_dict, model)\n",
    "            except Exception as e:\n",
    "                results.append({\n",
    "                    'organism': org_name,\n",
    "                    'orgId': org_id,\n",
    "                    'carbon_source': carbon_source,\n",
    "                    'media_filename': media_file,\n",
    "                    'biomass_flux': np.nan,\n",
    "                    'status': 'media_load_failed',\n",
    "                    'prediction': np.nan,\n",
    "                    'missing_compounds': np.nan,\n",
    "                    'num_missing': np.nan\n",
    "                })\n",
    "                failed_simulations += 1\n",
    "                continue\n",
    "            \n",
    "            # Run FBA\n",
    "            try:\n",
    "                model.medium = model_media\n",
    "                solution = model.optimize()\n",
    "                \n",
    "                # Record result\n",
    "                biomass_flux = solution.objective_value\n",
    "                prediction = 1 if biomass_flux > GROWTH_THRESHOLD else 0\n",
    "                \n",
    "                results.append({\n",
    "                    'organism': org_name,\n",
    "                    'orgId': org_id,\n",
    "                    'carbon_source': carbon_source,\n",
    "                    'media_filename': media_file,\n",
    "                    'biomass_flux': biomass_flux,\n",
    "                    'status': solution.status,\n",
    "                    'prediction': prediction,\n",
    "                    'missing_compounds': ','.join(missing) if missing else '',\n",
    "                    'num_missing': len(missing)\n",
    "                })\n",
    "                successful_simulations += 1\n",
    "                \n",
    "            except Exception as e:\n",
    "                results.append({\n",
    "                    'organism': org_name,\n",
    "                    'orgId': org_id,\n",
    "                    'carbon_source': carbon_source,\n",
    "                    'media_filename': media_file,\n",
    "                    'biomass_flux': np.nan,\n",
    "                    'status': 'fba_failed',\n",
    "                    'prediction': np.nan,\n",
    "                    'missing_compounds': np.nan,\n",
    "                    'num_missing': np.nan\n",
    "                })\n",
    "                failed_simulations += 1\n",
    "    \n",
    "    print()\n",
    "    print(f\"Full simulation complete!\")\n",
    "    print(f\"  Successful: {successful_simulations:,}\")\n",
    "    print(f\"  Failed: {failed_simulations:,}\")\n",
    "    print(f\"  Skipped (already done): {skipped_simulations:,}\")\n",
    "    print(f\"  Total results: {len(results):,}\")\n",
    "\n",
    "# Convert to DataFrame\n",
    "results_df = pd.DataFrame(results)\n",
    "\n",
    "# Save full results\n",
    "results_df.to_csv('results/fba_simulation_results.csv', index=False)\n",
    "print(f\"\\nSaved to: results/fba_simulation_results.csv\")"
   ]
  },
  {
   "cell_type": "markdown",
   "metadata": {},
   "source": [
    "## Save Detailed Results\n",
    "\n",
    "Save all simulation results to CSV."
   ]
  },
  {
   "cell_type": "code",
   "execution_count": 13,
   "metadata": {},
   "outputs": [
    {
     "name": "stdout",
     "output_type": "stream",
     "text": [
      "Results DataFrame shape: (5324, 9)\n",
      "\n",
      "Columns: ['organism', 'orgId', 'carbon_source', 'media_filename', 'biomass_flux', 'status', 'prediction', 'missing_compounds', 'num_missing']\n",
      "\n",
      "First 10 results:\n",
      "                                  organism                 orgId  \\\n",
      "0  Rhodanobacter denitrificans FW104-10B01   rhodanobacter_10B01   \n",
      "1          Phocaeicola vulgatus CL09T03C04  Bvulgatus_CL09T03C04   \n",
      "2           Burkholderia phytofirmans PsJN                 BFirm   \n",
      "3                 Escherichia coli BW25113                  Keio   \n",
      "4            Dyella japonica UNC79MFTsu3.2              Dyella79   \n",
      "5            Dinoroseobacter shibae DFL-12                  Dino   \n",
      "6            Caulobacter crescentus NA1000                 Caulo   \n",
      "7         Paraburkholderia graminis OAS925   Burkholderia_OAS925   \n",
      "8            Azospirillum brasilense Sp245                azobra   \n",
      "9   Paraburkholderia bryophila 376MFSha3.1               Burk376   \n",
      "\n",
      "                          carbon_source  \\\n",
      "0                            D-Tagatose   \n",
      "1                             L-Leucine   \n",
      "2                             Melibiose   \n",
      "3                          L-Tryptophan   \n",
      "4                       L-Phenylalanine   \n",
      "5                Agro_defined_trehalose   \n",
      "6                           L-Arabinose   \n",
      "7                         Vanillic Acid   \n",
      "8                               Uridine   \n",
      "9  Sodium succinate dibasic hexahydrate   \n",
      "\n",
      "                              media_filename  biomass_flux   status  \\\n",
      "0                          D---tagatose.json      0.000000  optimal   \n",
      "1                             L-Leucine.json      0.000000  optimal   \n",
      "2                             Melibiose.json      0.000000  optimal   \n",
      "3                          L-Tryptophan.json      0.000000  optimal   \n",
      "4                       L-Phenylalanine.json      0.000000  optimal   \n",
      "5                Agro_defined_trehalose.json      0.000000  optimal   \n",
      "6                           L-Arabinose.json      0.000000  optimal   \n",
      "7                         Vanillic_Acid.json      0.000000  optimal   \n",
      "8                               Uridine.json      0.000000  optimal   \n",
      "9  Sodium_succinate_dibasic_hexahydrate.json      0.562696  optimal   \n",
      "\n",
      "   prediction           missing_compounds  num_missing  \n",
      "0           0           cpd00244,cpd00589            2  \n",
      "1           0  cpd11574,cpd00244,cpd00107            3  \n",
      "2           0           cpd10515,cpd03198            2  \n",
      "3           0                         NaN            0  \n",
      "4           0           cpd00244,cpd00066            2  \n",
      "5           0           cpd10515,cpd00794            2  \n",
      "6           0           cpd00244,cpd00224            2  \n",
      "7           0           cpd10515,cpd04073            2  \n",
      "8           0                    cpd00249            1  \n",
      "9           1                    cpd10515            1  \n",
      "\n",
      "Saved to: results/fba_simulation_results.csv\n"
     ]
    }
   ],
   "source": [
    "# Convert to DataFrame\n",
    "results_df = pd.DataFrame(results)\n",
    "\n",
    "print(f\"Results DataFrame shape: {results_df.shape}\")\n",
    "print(f\"\\nColumns: {list(results_df.columns)}\")\n",
    "print(f\"\\nFirst 10 results:\")\n",
    "print(results_df.head(10))\n",
    "\n",
    "# Save to CSV\n",
    "output_path = 'results/fba_simulation_results.csv'\n",
    "results_df.to_csv(output_path, index=False)\n",
    "print(f\"\\nSaved to: {output_path}\")"
   ]
  },
  {
   "cell_type": "markdown",
   "metadata": {},
   "source": [
    "## Analyze Simulation Success Rate"
   ]
  },
  {
   "cell_type": "code",
   "execution_count": 14,
   "metadata": {},
   "outputs": [
    {
     "name": "stdout",
     "output_type": "stream",
     "text": [
      "Simulation Status Distribution:\n",
      "status\n",
      "optimal    5324\n",
      "Name: count, dtype: int64\n",
      "\n",
      "All simulations completed successfully!\n"
     ]
    }
   ],
   "source": [
    "# Check status distribution\n",
    "print(\"Simulation Status Distribution:\")\n",
    "print(results_df['status'].value_counts())\n",
    "print()\n",
    "\n",
    "# Check for failed simulations\n",
    "failed = results_df[results_df['status'].isin(['model_load_failed', 'media_load_failed', 'fba_failed'])]\n",
    "if len(failed) > 0:\n",
    "    print(f\"WARNING: {len(failed)} simulations failed\")\n",
    "    print(f\"\\nFailed simulations by status:\")\n",
    "    print(failed['status'].value_counts())\n",
    "else:\n",
    "    print(\"All simulations completed successfully!\")"
   ]
  },
  {
   "cell_type": "markdown",
   "metadata": {},
   "source": [
    "## Analyze Biomass Flux Distribution"
   ]
  },
  {
   "cell_type": "code",
   "execution_count": 15,
   "metadata": {},
   "outputs": [
    {
     "name": "stdout",
     "output_type": "stream",
     "text": [
      "Successful simulations: 5,324\n",
      "\n",
      "Biomass flux statistics (h^-1):\n",
      "count    5.324000e+03\n",
      "mean     1.172703e-01\n",
      "std      2.496681e-01\n",
      "min     -2.510842e-14\n",
      "25%      0.000000e+00\n",
      "50%      0.000000e+00\n",
      "75%      0.000000e+00\n",
      "max      1.902357e+00\n",
      "Name: biomass_flux, dtype: float64\n",
      "\n",
      "Growth predictions:\n",
      "  No Growth (0): 4,185 (78.6%)\n",
      "  Growth (1): 1,139 (21.4%)\n"
     ]
    }
   ],
   "source": [
    "# Filter to successful simulations\n",
    "successful = results_df[results_df['status'] == 'optimal']\n",
    "\n",
    "print(f\"Successful simulations: {len(successful):,}\")\n",
    "print()\n",
    "\n",
    "# Biomass flux statistics\n",
    "print(\"Biomass flux statistics (h^-1):\")\n",
    "print(successful['biomass_flux'].describe())\n",
    "print()\n",
    "\n",
    "# Prediction distribution\n",
    "print(\"Growth predictions:\")\n",
    "prediction_counts = successful['prediction'].value_counts().sort_index()\n",
    "for pred, count in prediction_counts.items():\n",
    "    label = 'Growth' if pred == 1 else 'No Growth'\n",
    "    print(f\"  {label} ({int(pred)}): {count:,} ({100*count/len(successful):.1f}%)\")"
   ]
  },
  {
   "cell_type": "markdown",
   "metadata": {},
   "source": [
    "## Create Binary Prediction Matrix\n",
    "\n",
    "Pivot results into carbon sources (rows) × organisms (columns) matrix with binary predictions."
   ]
  },
  {
   "cell_type": "code",
   "execution_count": 16,
   "metadata": {},
   "outputs": [
    {
     "name": "stdout",
     "output_type": "stream",
     "text": [
      "Prediction matrix shape: (121, 44)\n",
      "  Carbon sources (rows): 121\n",
      "  Organisms (columns): 44\n",
      "\n",
      "Missing predictions: 0 / 5324\n",
      "\n",
      "Saved to: results/insilico_growth_predictions.csv\n"
     ]
    }
   ],
   "source": [
    "# Create pivot table with predictions\n",
    "prediction_matrix = results_df.pivot(index='carbon_source', columns='organism', values='prediction')\n",
    "\n",
    "print(f\"Prediction matrix shape: {prediction_matrix.shape}\")\n",
    "print(f\"  Carbon sources (rows): {prediction_matrix.shape[0]}\")\n",
    "print(f\"  Organisms (columns): {prediction_matrix.shape[1]}\")\n",
    "print()\n",
    "\n",
    "# Check for missing values\n",
    "missing = prediction_matrix.isna().sum().sum()\n",
    "print(f\"Missing predictions: {missing} / {prediction_matrix.shape[0] * prediction_matrix.shape[1]}\")\n",
    "print()\n",
    "\n",
    "# Save to CSV\n",
    "output_path = 'results/insilico_growth_predictions.csv'\n",
    "prediction_matrix.to_csv(output_path)\n",
    "print(f\"Saved to: {output_path}\")"
   ]
  },
  {
   "cell_type": "markdown",
   "metadata": {},
   "source": [
    "## Create Biomass Flux Matrix\n",
    "\n",
    "Pivot results into carbon sources (rows) × organisms (columns) matrix with continuous biomass flux values."
   ]
  },
  {
   "cell_type": "code",
   "execution_count": 17,
   "metadata": {},
   "outputs": [
    {
     "name": "stdout",
     "output_type": "stream",
     "text": [
      "Biomass flux matrix shape: (121, 44)\n",
      "  Carbon sources (rows): 121\n",
      "  Organisms (columns): 44\n",
      "\n",
      "Saved to: results/biomass_flux_matrix.csv\n"
     ]
    }
   ],
   "source": [
    "# Create pivot table with biomass flux\n",
    "flux_matrix = results_df.pivot(index='carbon_source', columns='organism', values='biomass_flux')\n",
    "\n",
    "print(f\"Biomass flux matrix shape: {flux_matrix.shape}\")\n",
    "print(f\"  Carbon sources (rows): {flux_matrix.shape[0]}\")\n",
    "print(f\"  Organisms (columns): {flux_matrix.shape[1]}\")\n",
    "print()\n",
    "\n",
    "# Save to CSV\n",
    "output_path = 'results/biomass_flux_matrix.csv'\n",
    "flux_matrix.to_csv(output_path)\n",
    "print(f\"Saved to: {output_path}\")"
   ]
  },
  {
   "cell_type": "markdown",
   "metadata": {},
   "source": [
    "## Summary\n",
    "\n",
    "Quick preview of what we'll compare to experimental data in Notebook 2."
   ]
  },
  {
   "cell_type": "code",
   "execution_count": 18,
   "metadata": {},
   "outputs": [
    {
     "name": "stdout",
     "output_type": "stream",
     "text": [
      "================================================================================\n",
      "FBA SIMULATION SUMMARY\n",
      "================================================================================\n",
      "\n",
      "Total simulations run: 5,324\n",
      "Successful (optimal): 5,324\n",
      "Failed: 0\n",
      "\n",
      "Growth predictions:\n",
      "  No Growth: 4,185 (78.6%)\n",
      "  Growth: 1,139 (21.4%)\n",
      "\n",
      "Outputs generated:\n",
      "  1. results/fba_simulation_results.csv - All 5,324 results\n",
      "  2. results/insilico_growth_predictions.csv - Binary matrix (121 × 44)\n",
      "  3. results/biomass_flux_matrix.csv - Continuous flux matrix (121 × 44)\n",
      "\n",
      "Ready for Notebook 2: Compare predictions to experimental data!\n"
     ]
    }
   ],
   "source": [
    "print(\"=\" * 80)\n",
    "print(\"FBA SIMULATION SUMMARY\")\n",
    "print(\"=\" * 80)\n",
    "print()\n",
    "print(f\"Total simulations run: {len(results_df):,}\")\n",
    "print(f\"Successful (optimal): {len(successful):,}\")\n",
    "print(f\"Failed: {len(results_df) - len(successful):,}\")\n",
    "print()\n",
    "print(f\"Growth predictions:\")\n",
    "for pred, count in prediction_counts.items():\n",
    "    label = 'Growth' if pred == 1 else 'No Growth'\n",
    "    print(f\"  {label}: {count:,} ({100*count/len(successful):.1f}%)\")\n",
    "print()\n",
    "print(f\"Outputs generated:\")\n",
    "print(f\"  1. results/fba_simulation_results.csv - All {len(results_df):,} results\")\n",
    "print(f\"  2. results/insilico_growth_predictions.csv - Binary matrix ({prediction_matrix.shape[0]} × {prediction_matrix.shape[1]})\")\n",
    "print(f\"  3. results/biomass_flux_matrix.csv - Continuous flux matrix ({flux_matrix.shape[0]} × {flux_matrix.shape[1]})\")\n",
    "print()\n",
    "print(\"Ready for Notebook 2: Compare predictions to experimental data!\")"
   ]
  },
  {
   "cell_type": "code",
   "execution_count": null,
   "metadata": {},
   "outputs": [],
   "source": []
  }
 ],
 "metadata": {
  "kernelspec": {
   "display_name": "Python 3 (ipykernel)",
   "language": "python",
   "name": "python3"
  },
  "language_info": {
   "codemirror_mode": {
    "name": "ipython",
    "version": 3
   },
   "file_extension": ".py",
   "mimetype": "text/x-python",
   "name": "python",
   "nbconvert_exporter": "python",
   "pygments_lexer": "ipython3",
   "version": "3.11.12"
  }
 },
 "nbformat": 4,
 "nbformat_minor": 4
}
