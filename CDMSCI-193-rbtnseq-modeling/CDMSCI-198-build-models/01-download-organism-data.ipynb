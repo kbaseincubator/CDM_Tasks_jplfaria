{
 "cells": [
  {
   "cell_type": "markdown",
   "metadata": {},
   "source": "# Download Protein Sequences for Metabolic Model Building\n\n**Purpose**: Download protein sequences (FASTA) for all 57 organisms in the carbon source growth matrix\n\n**Data Source**: Fitness Browser orgSeqs.cgi endpoint\n\n**Organism List**: Loaded from CDMSCI-196 carbon source growth matrix\n\n**Output**:\n- `../data/raw/protein_sequences/` - One FASTA file per organism (57 total)\n- `../data/raw/logs/` - Download logs and summaries\n\n**Last updated**: 2025-10-02"
  },
  {
   "cell_type": "markdown",
   "metadata": {},
   "source": [
    "## Setup"
   ]
  },
  {
   "cell_type": "code",
   "execution_count": 27,
   "metadata": {},
   "outputs": [
    {
     "name": "stdout",
     "output_type": "stream",
     "text": [
      "Dependencies installed\n"
     ]
    }
   ],
   "source": [
    "!pip install -q cloudscraper pandas tqdm\n",
    "print(\"Dependencies installed\")"
   ]
  },
  {
   "cell_type": "markdown",
   "metadata": {},
   "source": [
    "## Install Dependencies\n",
    "\n",
    "First, install cloudscraper to bypass Cloudflare protection"
   ]
  },
  {
   "cell_type": "code",
   "execution_count": 28,
   "metadata": {},
   "outputs": [
    {
     "name": "stdout",
     "output_type": "stream",
     "text": [
      "Imports successful\n"
     ]
    }
   ],
   "source": [
    "import cloudscraper\n",
    "import pandas as pd\n",
    "from pathlib import Path\n",
    "import time\n",
    "from datetime import datetime\n",
    "from tqdm.auto import tqdm\n",
    "import warnings\n",
    "warnings.filterwarnings('ignore')\n",
    "\n",
    "print(\"Imports successful\")"
   ]
  },
  {
   "cell_type": "markdown",
   "metadata": {},
   "source": [
    "## Configuration"
   ]
  },
  {
   "cell_type": "code",
   "execution_count": null,
   "metadata": {},
   "outputs": [],
   "source": "# Base URLs\nBASE_URL = \"https://fit.genomics.lbl.gov/cgi-bin\"\nPROTEIN_URL = f\"{BASE_URL}/orgSeqs.cgi\"\n\n# Output directories (use parent project's data directory)\nDATA_DIR = Path(\"../data/raw\")\nPROTEIN_DIR = DATA_DIR / \"protein_sequences\"\nLOG_DIR = DATA_DIR / \"logs\"\n\n# Create directories\nPROTEIN_DIR.mkdir(parents=True, exist_ok=True)\nLOG_DIR.mkdir(parents=True, exist_ok=True)\n\n# Log file\nLOG_FILE = LOG_DIR / \"download_log.txt\"\n\n# Request settings\nTIMEOUT = 60  # seconds\nRETRY_ATTEMPTS = 3\nDELAY_BETWEEN_REQUESTS = 1  # seconds (be polite to server)\n\nprint(f\"Configuration set\")\nprint(f\"  Protein sequences → {PROTEIN_DIR}\")\nprint(f\"  Logs → {LOG_FILE}\")"
  },
  {
   "cell_type": "markdown",
   "metadata": {},
   "source": [
    "## Load Organism List from Carbon Source Growth Matrix\n",
    "\n",
    "Load the list of all 57 organisms from CDMSCI-196 carbon source growth matrix"
   ]
  },
  {
   "cell_type": "code",
   "execution_count": 30,
   "metadata": {},
   "outputs": [
    {
     "name": "stdout",
     "output_type": "stream",
     "text": [
      "Loaded 57 organisms from carbon source growth matrix\n",
      "\n",
      "All organisms:\n",
      "======================================================================\n",
      "   1. ANA3\n",
      "   2. BFirm\n",
      "   3. Bifido\n",
      "   4. Brev2\n",
      "   5. Btheta\n",
      "   6. Burk376\n",
      "   7. Burkholderia_OAS925\n",
      "   8. Bvulgatus_CL09T03C04\n",
      "   9. CL21\n",
      "  10. Caulo\n",
      "  11. Cola\n",
      "  12. Cup4G11\n",
      "  13. Dda3937\n",
      "  14. Ddia6719\n",
      "  15. DdiaME23\n",
      "  16. Dino\n",
      "  17. DvH\n",
      "  18. Dyella79\n",
      "  19. HerbieS\n",
      "  20. Kang\n",
      "  21. Keio\n",
      "  22. Korea\n",
      "  23. Koxy\n",
      "  24. Lysobacter_OAE881\n",
      "  25. MR1\n",
      "  26. Magneto\n",
      "  27. Marino\n",
      "  28. Methanococcus_JJ\n",
      "  29. Methanococcus_S2\n",
      "  30. Miya\n",
      "  31. PS\n",
      "  32. PV4\n",
      "  33. Pedo557\n",
      "  34. Phaeo\n",
      "  35. Ponti\n",
      "  36. Putida\n",
      "  37. RalstoniaBSBF1503\n",
      "  38. RalstoniaGMI1000\n",
      "  39. RalstoniaPSI07\n",
      "  40. RalstoniaUW163\n",
      "  41. SB2B\n",
      "  42. Smeli\n",
      "  43. SynE\n",
      "  44. SyringaeB728a\n",
      "  45. SyringaeB728a_mexBdelta\n",
      "  46. Variovorax_OAS795\n",
      "  47. WCS417\n",
      "  48. Xantho\n",
      "  49. acidovorax_3H11\n",
      "  50. azobra\n",
      "  51. psRCH2\n",
      "  52. pseudo13_GW456_L13\n",
      "  53. pseudo1_N1B4\n",
      "  54. pseudo3_N2E3\n",
      "  55. pseudo5_N2C3_1\n",
      "  56. pseudo6_N2E2\n",
      "  57. rhodanobacter_10B01\n"
     ]
    }
   ],
   "source": [
    "# Load carbon source growth matrix from CDMSCI-196\n",
    "MATRIX_FILE = Path(\"../CDMSCI-196-carbon-sources/results/carbon_source_growth_matrix.csv\")\n",
    "\n",
    "if not MATRIX_FILE.exists():\n",
    "    raise FileNotFoundError(f\"Carbon source growth matrix not found at {MATRIX_FILE}. Please run CDMSCI-196 first.\")\n",
    "\n",
    "# Read matrix\n",
    "growth_matrix = pd.read_csv(MATRIX_FILE, index_col=0)\n",
    "\n",
    "# Get organism list\n",
    "ORGANISMS = growth_matrix.index.tolist()\n",
    "\n",
    "print(f\"Loaded {len(ORGANISMS)} organisms from carbon source growth matrix\")\n",
    "print(f\"\\nAll organisms:\")\n",
    "print(\"=\"*70)\n",
    "for i, org in enumerate(ORGANISMS, 1):\n",
    "    print(f\"  {i:2d}. {org}\")"
   ]
  },
  {
   "cell_type": "markdown",
   "metadata": {},
   "source": [
    "## Helper Functions"
   ]
  },
  {
   "cell_type": "code",
   "execution_count": 31,
   "metadata": {},
   "outputs": [
    {
     "name": "stdout",
     "output_type": "stream",
     "text": [
      "Helper functions defined\n",
      "Cloudscraper session created (bypasses Cloudflare protection)\n"
     ]
    }
   ],
   "source": [
    "# Create cloudscraper session (bypasses Cloudflare protection)\n",
    "scraper = cloudscraper.create_scraper(\n",
    "    browser={\n",
    "        'browser': 'chrome',\n",
    "        'platform': 'darwin',\n",
    "        'desktop': True\n",
    "    }\n",
    ")\n",
    "\n",
    "def log_message(message, also_print=True):\n",
    "    \"\"\"Write message to log file with timestamp\"\"\"\n",
    "    timestamp = datetime.now().strftime(\"%Y-%m-%d %H:%M:%S\")\n",
    "    log_entry = f\"[{timestamp}] {message}\\n\"\n",
    "    \n",
    "    with open(LOG_FILE, 'a') as f:\n",
    "        f.write(log_entry)\n",
    "    \n",
    "    if also_print:\n",
    "        print(message)\n",
    "\n",
    "\n",
    "def download_file(url, output_path, description, max_retries=RETRY_ATTEMPTS):\n",
    "    \"\"\"\n",
    "    Download file from URL with retry logic\n",
    "    Uses cloudscraper to bypass Cloudflare protection\n",
    "    \n",
    "    Returns:\n",
    "        tuple: (success: bool, file_size: int, error_message: str)\n",
    "    \"\"\"\n",
    "    for attempt in range(1, max_retries + 1):\n",
    "        try:\n",
    "            response = scraper.get(url, timeout=TIMEOUT)\n",
    "            response.raise_for_status()\n",
    "            \n",
    "            # Check if response is not an error page\n",
    "            if len(response.content) < 100 and b'error' in response.content.lower():\n",
    "                return False, 0, \"Server returned error page\"\n",
    "            \n",
    "            # Check if we got a challenge page (shouldn't happen with cloudscraper)\n",
    "            if b'challenge' in response.content.lower() and len(response.content) < 10000:\n",
    "                return False, 0, \"Cloudflare challenge not bypassed\"\n",
    "            \n",
    "            # Save file\n",
    "            with open(output_path, 'wb') as f:\n",
    "                f.write(response.content)\n",
    "            \n",
    "            file_size = len(response.content)\n",
    "            return True, file_size, None\n",
    "            \n",
    "        except Exception as e:\n",
    "            if attempt < max_retries:\n",
    "                log_message(f\"  Error on attempt {attempt}/{max_retries}: {str(e)}\", also_print=False)\n",
    "                time.sleep(2)\n",
    "            else:\n",
    "                return False, 0, str(e)\n",
    "    \n",
    "    return False, 0, \"Unknown error\"\n",
    "\n",
    "\n",
    "def format_size(size_bytes):\n",
    "    \"\"\"Format bytes to human-readable size\"\"\"\n",
    "    for unit in ['B', 'KB', 'MB', 'GB']:\n",
    "        if size_bytes < 1024.0:\n",
    "            return f\"{size_bytes:.1f} {unit}\"\n",
    "        size_bytes /= 1024.0\n",
    "    return f\"{size_bytes:.1f} TB\"\n",
    "\n",
    "\n",
    "print(\"Helper functions defined\")\n",
    "print(\"Cloudscraper session created (bypasses Cloudflare protection)\")"
   ]
  },
  {
   "cell_type": "markdown",
   "metadata": {},
   "source": [
    "## Download Functions"
   ]
  },
  {
   "cell_type": "code",
   "execution_count": 32,
   "metadata": {},
   "outputs": [
    {
     "name": "stdout",
     "output_type": "stream",
     "text": [
      "Download function defined\n"
     ]
    }
   ],
   "source": [
    "def download_protein_sequences(org_id, skip_existing=True):\n",
    "    \"\"\"\n",
    "    Download protein sequences for an organism\n",
    "    \n",
    "    Args:\n",
    "        org_id: Organism identifier (e.g., 'Keio', 'acidovorax_3H11')\n",
    "        skip_existing: If True, skip download if file already exists\n",
    "    \n",
    "    Returns:\n",
    "        tuple: (success: bool, file_path: Path, file_size: int, error: str, skipped: bool)\n",
    "    \"\"\"\n",
    "    output_file = PROTEIN_DIR / f\"{org_id}_proteins.fasta\"\n",
    "    \n",
    "    # Check if file already exists\n",
    "    if skip_existing and output_file.exists():\n",
    "        file_size = output_file.stat().st_size\n",
    "        # Verify it's a valid FASTA file (has at least 1 sequence header)\n",
    "        try:\n",
    "            with open(output_file, 'r') as f:\n",
    "                first_line = f.readline()\n",
    "                if first_line.startswith('>'):\n",
    "                    log_message(f\"  {org_id}: SKIPPED (already exists, {format_size(file_size)})\", also_print=False)\n",
    "                    return True, output_file, file_size, None, True\n",
    "        except:\n",
    "            pass  # File exists but corrupted, re-download\n",
    "    \n",
    "    # Download file\n",
    "    url = f\"{PROTEIN_URL}?orgId={org_id}\"\n",
    "    success, size, error = download_file(url, output_file, \"protein sequences\")\n",
    "    \n",
    "    if success:\n",
    "        log_message(f\"  {org_id}: DOWNLOADED {format_size(size)}\", also_print=False)\n",
    "    else:\n",
    "        log_message(f\"  {org_id} FAILED: {error}\", also_print=False)\n",
    "    \n",
    "    return success, output_file, size, error, False\n",
    "\n",
    "\n",
    "print(\"Download function defined\")"
   ]
  },
  {
   "cell_type": "markdown",
   "metadata": {},
   "source": [
    "## Test Download (Single Organism)\n",
    "\n",
    "Test with one organism before running full download"
   ]
  },
  {
   "cell_type": "code",
   "execution_count": 33,
   "metadata": {},
   "outputs": [
    {
     "name": "stdout",
     "output_type": "stream",
     "text": [
      "Testing download for: ANA3\n",
      "==================================================\n",
      "\n",
      "Test Results:\n",
      "  Protein sequences: SKIPPED\n",
      "    Size: 1.7 MB\n",
      "    Path: data/protein_sequences/ANA3_proteins.fasta\n",
      "\n",
      "SUCCESS: Test successful! Ready to download all organisms.\n"
     ]
    }
   ],
   "source": [
    "# Test with first organism\n",
    "test_org = ORGANISMS[0]\n",
    "print(f\"Testing download for: {test_org}\")\n",
    "print(\"=\"*50)\n",
    "\n",
    "success, path, size, error, skipped = download_protein_sequences(test_org)\n",
    "\n",
    "print(\"\\nTest Results:\")\n",
    "print(f\"  Protein sequences: {'SKIPPED' if skipped else 'SUCCESS' if success else 'FAILED'}\")\n",
    "if success:\n",
    "    print(f\"    Size: {format_size(size)}\")\n",
    "    print(f\"    Path: {path}\")\n",
    "elif not skipped:\n",
    "    print(f\"    Error: {error}\")\n",
    "\n",
    "if success:\n",
    "    print(\"\\nSUCCESS: Test successful! Ready to download all organisms.\")\n",
    "else:\n",
    "    print(\"\\nWARNING: Test had issues. Check errors above before proceeding.\")"
   ]
  },
  {
   "cell_type": "markdown",
   "metadata": {},
   "source": [
    "## Download All Organisms\n",
    "\n",
    "WARNING: This will download protein sequences for all 57 organisms. Should take 2-5 minutes depending on connection speed."
   ]
  },
  {
   "cell_type": "code",
   "execution_count": 34,
   "metadata": {},
   "outputs": [
    {
     "name": "stdout",
     "output_type": "stream",
     "text": [
      "======================================================================\n",
      "Starting download for 57 organisms\n",
      "======================================================================\n"
     ]
    },
    {
     "data": {
      "application/vnd.jupyter.widget-view+json": {
       "model_id": "8c3cecdb504b4997a883532f3c897715",
       "version_major": 2,
       "version_minor": 0
      },
      "text/plain": [
       "Downloading protein sequences:   0%|          | 0/57 [00:00<?, ?it/s]"
      ]
     },
     "metadata": {},
     "output_type": "display_data"
    },
    {
     "name": "stdout",
     "output_type": "stream",
     "text": [
      "\n",
      "======================================================================\n",
      "DOWNLOAD COMPLETE\n",
      "======================================================================\n",
      "\n",
      "Protein Sequences:\n",
      "  Successful: 57/57\n",
      "  Skipped (already existed): 57\n",
      "  Newly downloaded: 0\n",
      "  Total size: 98.5 MB\n",
      "======================================================================\n",
      "Download complete: 57/57 organisms\n",
      "Skipped (already existed): 57\n",
      "Total size: 98.5 MB\n",
      "======================================================================\n"
     ]
    }
   ],
   "source": [
    "# Initialize log\n",
    "log_message(\"=\"*70)\n",
    "log_message(f\"Starting download for {len(ORGANISMS)} organisms\")\n",
    "log_message(\"=\"*70)\n",
    "\n",
    "# Track results\n",
    "all_results = []\n",
    "total_size = 0\n",
    "successful = 0\n",
    "skipped = 0\n",
    "\n",
    "# Download with progress bar\n",
    "for org_id in tqdm(ORGANISMS, desc=\"Downloading protein sequences\"):\n",
    "    success, path, size, error, was_skipped = download_protein_sequences(org_id)\n",
    "    \n",
    "    all_results.append({\n",
    "        'org_id': org_id,\n",
    "        'success': success,\n",
    "        'skipped': was_skipped,\n",
    "        'size': size,\n",
    "        'size_readable': format_size(size),\n",
    "        'path': str(path),\n",
    "        'error': error\n",
    "    })\n",
    "    \n",
    "    if success:\n",
    "        successful += 1\n",
    "        total_size += size\n",
    "        if was_skipped:\n",
    "            skipped += 1\n",
    "    \n",
    "    # Delay between requests (skip for already-downloaded files)\n",
    "    if not was_skipped:\n",
    "        time.sleep(DELAY_BETWEEN_REQUESTS)\n",
    "\n",
    "# Summary\n",
    "print(\"\\n\" + \"=\"*70)\n",
    "print(\"DOWNLOAD COMPLETE\")\n",
    "print(\"=\"*70)\n",
    "print(f\"\\nProtein Sequences:\")\n",
    "print(f\"  Successful: {successful}/{len(ORGANISMS)}\")\n",
    "if skipped > 0:\n",
    "    print(f\"  Skipped (already existed): {skipped}\")\n",
    "    print(f\"  Newly downloaded: {successful - skipped}\")\n",
    "print(f\"  Total size: {format_size(total_size)}\")\n",
    "\n",
    "log_message(\"=\"*70)\n",
    "log_message(f\"Download complete: {successful}/{len(ORGANISMS)} organisms\")\n",
    "if skipped > 0:\n",
    "    log_message(f\"Skipped (already existed): {skipped}\")\n",
    "log_message(f\"Total size: {format_size(total_size)}\")\n",
    "log_message(\"=\"*70)"
   ]
  },
  {
   "cell_type": "markdown",
   "metadata": {},
   "source": [
    "## Save Download Summary"
   ]
  },
  {
   "cell_type": "code",
   "execution_count": 35,
   "metadata": {},
   "outputs": [
    {
     "name": "stdout",
     "output_type": "stream",
     "text": [
      "Summary saved to: data/logs/download_summary_20251002_024002.csv\n",
      "\n",
      "First few rows:\n"
     ]
    },
    {
     "data": {
      "text/html": [
       "<div>\n",
       "<style scoped>\n",
       "    .dataframe tbody tr th:only-of-type {\n",
       "        vertical-align: middle;\n",
       "    }\n",
       "\n",
       "    .dataframe tbody tr th {\n",
       "        vertical-align: top;\n",
       "    }\n",
       "\n",
       "    .dataframe thead th {\n",
       "        text-align: right;\n",
       "    }\n",
       "</style>\n",
       "<table border=\"1\" class=\"dataframe\">\n",
       "  <thead>\n",
       "    <tr style=\"text-align: right;\">\n",
       "      <th></th>\n",
       "      <th>org_id</th>\n",
       "      <th>success</th>\n",
       "      <th>skipped</th>\n",
       "      <th>size</th>\n",
       "      <th>size_readable</th>\n",
       "      <th>path</th>\n",
       "      <th>error</th>\n",
       "    </tr>\n",
       "  </thead>\n",
       "  <tbody>\n",
       "    <tr>\n",
       "      <th>0</th>\n",
       "      <td>ANA3</td>\n",
       "      <td>True</td>\n",
       "      <td>True</td>\n",
       "      <td>1817199</td>\n",
       "      <td>1.7 MB</td>\n",
       "      <td>data/protein_sequences/ANA3_proteins.fasta</td>\n",
       "      <td>None</td>\n",
       "    </tr>\n",
       "    <tr>\n",
       "      <th>1</th>\n",
       "      <td>BFirm</td>\n",
       "      <td>True</td>\n",
       "      <td>True</td>\n",
       "      <td>2745855</td>\n",
       "      <td>2.6 MB</td>\n",
       "      <td>data/protein_sequences/BFirm_proteins.fasta</td>\n",
       "      <td>None</td>\n",
       "    </tr>\n",
       "    <tr>\n",
       "      <th>2</th>\n",
       "      <td>Bifido</td>\n",
       "      <td>True</td>\n",
       "      <td>True</td>\n",
       "      <td>807501</td>\n",
       "      <td>788.6 KB</td>\n",
       "      <td>data/protein_sequences/Bifido_proteins.fasta</td>\n",
       "      <td>None</td>\n",
       "    </tr>\n",
       "    <tr>\n",
       "      <th>3</th>\n",
       "      <td>Brev2</td>\n",
       "      <td>True</td>\n",
       "      <td>True</td>\n",
       "      <td>1192489</td>\n",
       "      <td>1.1 MB</td>\n",
       "      <td>data/protein_sequences/Brev2_proteins.fasta</td>\n",
       "      <td>None</td>\n",
       "    </tr>\n",
       "    <tr>\n",
       "      <th>4</th>\n",
       "      <td>Btheta</td>\n",
       "      <td>True</td>\n",
       "      <td>True</td>\n",
       "      <td>2246250</td>\n",
       "      <td>2.1 MB</td>\n",
       "      <td>data/protein_sequences/Btheta_proteins.fasta</td>\n",
       "      <td>None</td>\n",
       "    </tr>\n",
       "    <tr>\n",
       "      <th>5</th>\n",
       "      <td>Burk376</td>\n",
       "      <td>True</td>\n",
       "      <td>True</td>\n",
       "      <td>2654112</td>\n",
       "      <td>2.5 MB</td>\n",
       "      <td>data/protein_sequences/Burk376_proteins.fasta</td>\n",
       "      <td>None</td>\n",
       "    </tr>\n",
       "    <tr>\n",
       "      <th>6</th>\n",
       "      <td>Burkholderia_OAS925</td>\n",
       "      <td>True</td>\n",
       "      <td>True</td>\n",
       "      <td>2654281</td>\n",
       "      <td>2.5 MB</td>\n",
       "      <td>data/protein_sequences/Burkholderia_OAS925_pro...</td>\n",
       "      <td>None</td>\n",
       "    </tr>\n",
       "    <tr>\n",
       "      <th>7</th>\n",
       "      <td>Bvulgatus_CL09T03C04</td>\n",
       "      <td>True</td>\n",
       "      <td>True</td>\n",
       "      <td>1772467</td>\n",
       "      <td>1.7 MB</td>\n",
       "      <td>data/protein_sequences/Bvulgatus_CL09T03C04_pr...</td>\n",
       "      <td>None</td>\n",
       "    </tr>\n",
       "    <tr>\n",
       "      <th>8</th>\n",
       "      <td>CL21</td>\n",
       "      <td>True</td>\n",
       "      <td>True</td>\n",
       "      <td>1841805</td>\n",
       "      <td>1.8 MB</td>\n",
       "      <td>data/protein_sequences/CL21_proteins.fasta</td>\n",
       "      <td>None</td>\n",
       "    </tr>\n",
       "    <tr>\n",
       "      <th>9</th>\n",
       "      <td>Caulo</td>\n",
       "      <td>True</td>\n",
       "      <td>True</td>\n",
       "      <td>1458861</td>\n",
       "      <td>1.4 MB</td>\n",
       "      <td>data/protein_sequences/Caulo_proteins.fasta</td>\n",
       "      <td>None</td>\n",
       "    </tr>\n",
       "  </tbody>\n",
       "</table>\n",
       "</div>"
      ],
      "text/plain": [
       "                 org_id  success  skipped     size size_readable  \\\n",
       "0                  ANA3     True     True  1817199        1.7 MB   \n",
       "1                 BFirm     True     True  2745855        2.6 MB   \n",
       "2                Bifido     True     True   807501      788.6 KB   \n",
       "3                 Brev2     True     True  1192489        1.1 MB   \n",
       "4                Btheta     True     True  2246250        2.1 MB   \n",
       "5               Burk376     True     True  2654112        2.5 MB   \n",
       "6   Burkholderia_OAS925     True     True  2654281        2.5 MB   \n",
       "7  Bvulgatus_CL09T03C04     True     True  1772467        1.7 MB   \n",
       "8                  CL21     True     True  1841805        1.8 MB   \n",
       "9                 Caulo     True     True  1458861        1.4 MB   \n",
       "\n",
       "                                                path error  \n",
       "0         data/protein_sequences/ANA3_proteins.fasta  None  \n",
       "1        data/protein_sequences/BFirm_proteins.fasta  None  \n",
       "2       data/protein_sequences/Bifido_proteins.fasta  None  \n",
       "3        data/protein_sequences/Brev2_proteins.fasta  None  \n",
       "4       data/protein_sequences/Btheta_proteins.fasta  None  \n",
       "5      data/protein_sequences/Burk376_proteins.fasta  None  \n",
       "6  data/protein_sequences/Burkholderia_OAS925_pro...  None  \n",
       "7  data/protein_sequences/Bvulgatus_CL09T03C04_pr...  None  \n",
       "8         data/protein_sequences/CL21_proteins.fasta  None  \n",
       "9        data/protein_sequences/Caulo_proteins.fasta  None  "
      ]
     },
     "metadata": {},
     "output_type": "display_data"
    }
   ],
   "source": [
    "# Create summary DataFrame\n",
    "summary_df = pd.DataFrame(all_results)\n",
    "\n",
    "# Save summary\n",
    "summary_file = LOG_DIR / f\"download_summary_{datetime.now().strftime('%Y%m%d_%H%M%S')}.csv\"\n",
    "summary_df.to_csv(summary_file, index=False)\n",
    "\n",
    "print(f\"Summary saved to: {summary_file}\")\n",
    "print(f\"\\nFirst few rows:\")\n",
    "display(summary_df.head(10))"
   ]
  },
  {
   "cell_type": "markdown",
   "metadata": {},
   "source": [
    "## Check Downloaded Files"
   ]
  },
  {
   "cell_type": "code",
   "execution_count": 36,
   "metadata": {},
   "outputs": [
    {
     "name": "stdout",
     "output_type": "stream",
     "text": [
      "Files in data/protein_sequences:\n",
      "  57 protein sequence files\n",
      "\n",
      "Example protein sequence files:\n",
      "  ANA3_proteins.fasta: 1.7 MB\n",
      "  BFirm_proteins.fasta: 2.6 MB\n",
      "  Bifido_proteins.fasta: 788.6 KB\n",
      "  Brev2_proteins.fasta: 1.1 MB\n",
      "  Btheta_proteins.fasta: 2.1 MB\n",
      "  Burk376_proteins.fasta: 2.5 MB\n",
      "  Burkholderia_OAS925_proteins.fasta: 2.5 MB\n",
      "  Bvulgatus_CL09T03C04_proteins.fasta: 1.7 MB\n",
      "  CL21_proteins.fasta: 1.8 MB\n",
      "  Caulo_proteins.fasta: 1.4 MB\n"
     ]
    }
   ],
   "source": [
    "# Count files\n",
    "protein_files = list(PROTEIN_DIR.glob(\"*.fasta\"))\n",
    "\n",
    "print(f\"Files in {PROTEIN_DIR}:\")\n",
    "print(f\"  {len(protein_files)} protein sequence files\")\n",
    "\n",
    "# Show some examples\n",
    "print(f\"\\nExample protein sequence files:\")\n",
    "for f in sorted(protein_files)[:10]:\n",
    "    size = f.stat().st_size\n",
    "    print(f\"  {f.name}: {format_size(size)}\")"
   ]
  },
  {
   "cell_type": "markdown",
   "metadata": {},
   "source": [
    "## Quick Data Inspection\n",
    "\n",
    "Preview downloaded files to confirm they're valid"
   ]
  },
  {
   "cell_type": "code",
   "execution_count": 37,
   "metadata": {},
   "outputs": [
    {
     "name": "stdout",
     "output_type": "stream",
     "text": [
      "Inspecting: Lysobacter_OAE881_proteins.fasta\n",
      "======================================================================\n",
      ">Lysobacter_OAE881:ABIE51_RS00030 ABIE51_RS00030 tyrosine--tRNA ligase\n",
      "MSPQISAPVQDALDLIGRGADEILKREELEARLKLGRPLRVKAGFDPTAPDLHLGHTVLLNKMRQFQDLGHQVIFLIGDFTGMIGDPTGKNVTRKPLTREDVLANAQTYADQVFKVLDKERTEVRFNSEWFGQMGAADMIKLAAQHTVARMLERDDFAKRYAAQQSIAIHEFLYPLVQGYDSVALKADVELGGTDQKFNLLMGRGLQEHYGQAPQIVLTMPLLEGLDGVNKMSKSLGNYIGINEPAIDMVTKTMKIDDVLMWRWIDLLSFEIGIAEAAQLKRDIEGGQLNPRDLKLRLARELAARFHGESAAELAIAGWNAAVRGEGDIASLPINDVAVPAEGVRIAALLTAAGLTPSNSEANRKLKERAVRLDGEVIEDVQRVFVPGFEGVLAVGKRTFARVRLIAA\n",
      ">Lysobacter_OAE881:ABIE51_RS00035 ABIE51_RS00035 peptidoglycan DD-metalloendopeptidase family protein\n",
      "MTTSETGTDRRQRLKALREAALHRPVAASQVSRGFNGRWTRRHWAHASLFATLGVLVAAIVPGFGPTSNVPAPVHAQRSSLALALPPLPLSRLKGHSGDSWQIVRVERGQTLGAVFEDMDLPASTMHQILEAVPNDKSVLTRLKPGTELAFDLPVSGELRTFRYDRDDSHRVELAIAGDKVTEKVTVRPTETRTVVISGKVGKSLFRSARKLGLSGNNINTLTDDIFKYDIDFNEDVGADDRFSVVVEQTWREGELLRTGPVLAATFTTGGKLHTGFRFERDGKAEYFTGDGRPLKKSFIRMPIPYARLTSNFGTRKHPVLGRTRMHKGVDYAARTGTPIMAAGDARVVSAGWQGGYGNAVVLDHGRGYSTLYGHMSRIGKIRPGQRIAQGTVIGYVGSTGMSTGPHLHYEFRVNGVHRNPLSITMPPPEPLSGNALAQFRAQTSVALARIQKVENIIYADASEPSPAARKPAKTAKTKA\n",
      ">Lysobacter_OAE881:ABIE51_RS00040 ABIE51_RS00040 anhydro-N-acetylmuramic acid kinase\n",
      "MPASAAGSSGPPVDGLFVGLISGTSADGIDAALVRFERHPDGRDAVELLLGRTYAWDDALRERLVALGQGSDAQSLDELGTLDVQIAESFADATQRLLAEAGVPAGDVRAIGSHGQTVRHRPEGARFDGRHPFTWQMGDGGLIAERTGIATAADFRRRDVAAGGHGAPLLPALHAALLADADEDRAVLNLGGIANFTLLPVDGSVRGFDTGPANCLLDAWCLRHTGAAYDAGGAFAAQGELDAELLARLLDEPWFMLPPPKSTGREQFHLRWVERRLDGDESPADVQATLLELSAITIADALRAHQPTTRRVLACGGGVHNPRLLERIGAHLPEAVVESTARHGVDPDFIEAMGFAWLARQTLSGLPGNLPSVTGARGLRVLGVVHPVA\n",
      ">Lysobacter_OAE881:ABIE51_RS00045 ABIE51_RS00045 hypothetical protein\n",
      "MTDIILHDIDPLLLDRVKRVAQARSWPLQEALMHLLEHGLFACEAELAARFTDSDAMALQAAIAALEHIPSDPGFSKIGRMERPADVSVAPLESAGLTDVDRDLMAYAQKG\n",
      ">Lysobacter_OAE881:ABIE51_RS00050 ABIE51_RS00050 MFS transporter\n",
      "MTSETAPAAEPKLKGWRLVAANLREPKVLVMLLLGFSSGIPIYLVGNTLGYWMRENAIELSTIGFLSWVGLAYSLKFLWAPLIDKLDAPVLGKWLGRRRGWMLLSQVIVAIALFGMANVQPQEGQLVLWGQTLDQLVVFGVLALVVAFASATQDIVIDAWRIEIASSNEQQGLLTATSALGYRGALLVTDSLILIFAAHIGWSLSYEVMAALMGVGILATFLAREPAASVQAAAASHGSMLSAQGIYDAIIAPFVVFFREHGKWALVMLLAISLYRLPDFVLGPMANPFYADLGLDKETVGAVRGSFGLLATTLGIAAAGLCAVRFGFFTTLMAGAVLGPGSNLAFSYLALHGADAGVFTAVMVIDNFCSGFAGVALIGYMSSLTSAGYTATQYALLSSFYALPGKVLKGMSGWTIEQLEVGRSLLEAYSLFFAGTALIGIPALLLCLVLAARRTGARAPAVE\n",
      ">Lysobacter_OAE881:ABIE51_RS00055 ABIE51_RS00055 exodeoxyribonuclease III\n",
      "MRIISFNANGLRSAANKGFFDWFRTQDADVLCVQETKAQEHQLAGPQFLPEGYRAWFKDAITKKGYSGVAIYSRREPDEVRTSMGWAPFDDEGRYIEARFGNLSVVSFYIPSGSSGELRQGFKFEVMEWLKPHLDQWLASGRDYVLCGDWNIVRSKLDIKNWTSNQKNSGCLPPEREWLNGVCVDTSGWVDAYRALHAEGQDYTWWSNRGAARANNVGWRIDYQLCTPSLASKLKACSILREPRFSDHAPFSVDYDL\n",
      ">Lysobacter_OAE881:ABIE51_RS00060 ABIE51_RS00060 GNAT family N-acetyltransferase\n",
      "MSAVTARVRVEPIVDPDSTAARAVRALRVAPDQYRYVGDTAFNLGDTLRDLMSEAMAVIADDAIVGFYRLDFAPNAVVGRSLGMPSVGLRAFVIDHRQQGRGYGRMAMNACCDDLRARHPGREVLVLTVNCINAPAISAYLKSGFIDTGELFHGGSAGPQHVMLQFLHPHTTT\n",
      ">Lysobacter_OAE881:ABIE51_RS00065 ABIE51_RS00065 orotate phosphoribosyltransferase\n",
      "MTQDHRARFLDLALRADALRFGDFTLKSGRQSPYFFNAGRFDSGAALAGLAACYADAIDAHGVGFDLLFGPAYKGIPLATALACEYARRGRDLPVAFNRKEAKTHGEGGNLIGAPLQGRRVLIVDDVITAGTAIREALGLIRDAGGETAGIVIALDRQEAIDPAKTRRSAAQSVAADHGLPVIAVATLSDLLDFAGGNAELAAQRGRLLAYRQAYGSDSAG\n",
      ">Lysobacter_OAE881:ABIE51_RS00070 ABIE51_RS00070 hypothetical protein\n",
      "MPLLACTLMFAGVAMAQGAPGGKKLYCWNENGARVCGDALPAHAVDSARTEINARSGLASKQIARALTAEERAAAEAQAKLDKEKAAIAEANSRREQAMVESYATEDDLRRAFGERQAVMDEAIKASRLGIVGRRDTLVALLRRAGENELSGKPVPVPAQQNVRIQHDQLIRQQELLVQQLAEREMIDEELAAALERYHALKQPSKG\n",
      ">Lysobacter_OAE881:ABIE51_RS00075 ABIE51_RS00075 hypothetical protein\n",
      "MHRSPAGPHPAPRRQPADVEDGPFADQGQDARDRCGAGRRDERGHFFFKERWYGFDDGIYAAARLLEILAASPRSPSETLGALPNGISTPEIKVDAPDGDPHSFVEWFRDEAKFEGARLSTIDGLRVDFPDGWGLVRASNTTPVLVMRFDADSPEALARIKADFRTQLLALRPDLALPF\n",
      "\n",
      "\n",
      "Total sequences in file: 3702\n"
     ]
    }
   ],
   "source": [
    "# Check protein sequences\n",
    "if protein_files:\n",
    "    test_fasta = protein_files[0]\n",
    "    print(f\"Inspecting: {test_fasta.name}\")\n",
    "    print(\"=\"*70)\n",
    "    with open(test_fasta, 'r') as f:\n",
    "        lines = f.readlines()[:20]  # First 20 lines\n",
    "        print(''.join(lines))\n",
    "    \n",
    "    # Count sequences\n",
    "    with open(test_fasta, 'r') as f:\n",
    "        n_seqs = sum(1 for line in f if line.startswith('>'))\n",
    "    print(f\"\\nTotal sequences in file: {n_seqs}\")"
   ]
  },
  {
   "cell_type": "markdown",
   "metadata": {},
   "source": [
    "## Failed Downloads\n",
    "\n",
    "Check which organisms (if any) failed to download"
   ]
  },
  {
   "cell_type": "code",
   "execution_count": 38,
   "metadata": {},
   "outputs": [
    {
     "name": "stdout",
     "output_type": "stream",
     "text": [
      "SUCCESS: All protein sequences downloaded successfully\n"
     ]
    }
   ],
   "source": [
    "# Find failed downloads\n",
    "failed = summary_df[~summary_df['success']]\n",
    "\n",
    "if len(failed) > 0:\n",
    "    print(f\"WARNING: {len(failed)} organisms failed to download:\")\n",
    "    display(failed[['org_id', 'error']])\n",
    "else:\n",
    "    print(\"SUCCESS: All protein sequences downloaded successfully\")"
   ]
  },
  {
   "cell_type": "markdown",
   "metadata": {},
   "source": [
    "## Retry Failed Downloads (Optional)\n",
    "\n",
    "If some downloads failed, you can retry them"
   ]
  },
  {
   "cell_type": "code",
   "execution_count": null,
   "metadata": {},
   "outputs": [],
   "source": [
    "# Uncomment to retry failed downloads\n",
    "\n",
    "# failed_orgs = set(failed_proteins['org_id'].tolist() + failed_experiments['org_id'].tolist())\n",
    "\n",
    "# if failed_orgs:\n",
    "#     print(f\"Retrying {len(failed_orgs)} failed organisms...\")\n",
    "#     \n",
    "#     for org_id in tqdm(failed_orgs, desc=\"Retrying\"):\n",
    "#         result = download_organism_data(org_id)\n",
    "#         time.sleep(DELAY_BETWEEN_REQUESTS)\n",
    "#     \n",
    "#     print(\"✓ Retry complete\")\n",
    "# else:\n",
    "#     print(\"No failed downloads to retry\")"
   ]
  },
  {
   "cell_type": "code",
   "execution_count": 40,
   "metadata": {},
   "outputs": [],
   "source": [
    "# Uncomment to retry failed downloads\n",
    "\n",
    "# if len(failed) > 0:\n",
    "#     print(f\"Retrying {len(failed)} failed organisms...\")\n",
    "#     \n",
    "#     for org_id in tqdm(failed['org_id'], desc=\"Retrying\"):\n",
    "#         success, path, size, error, skipped = download_protein_sequences(org_id, skip_existing=False)\n",
    "#         if not skipped:\n",
    "#             time.sleep(DELAY_BETWEEN_REQUESTS)\n",
    "#     \n",
    "#     print(\"Retry complete\")\n",
    "# else:\n",
    "#     print(\"No failed downloads to retry\")"
   ]
  },
  {
   "cell_type": "code",
   "execution_count": 41,
   "metadata": {},
   "outputs": [
    {
     "name": "stdout",
     "output_type": "stream",
     "text": [
      "DOWNLOAD SUMMARY\n",
      "======================================================================\n",
      "\n",
      "Organisms processed: 57\n",
      "\n",
      "Protein Sequences:\n",
      "  Downloaded: 57 / 57\n",
      "  Success rate: 100.0%\n",
      "  Total size: 98.5 MB\n",
      "  Average size: 1.7 MB\n",
      "\n",
      "Ready for next step: RAST annotation and model building\n"
     ]
    }
   ],
   "source": [
    "# Calculate statistics\n",
    "print(\"DOWNLOAD SUMMARY\")\n",
    "print(\"=\"*70)\n",
    "print(f\"\\nOrganisms processed: {len(ORGANISMS)}\")\n",
    "print(f\"\\nProtein Sequences:\")\n",
    "print(f\"  Downloaded: {summary_df['success'].sum()} / {len(ORGANISMS)}\")\n",
    "print(f\"  Success rate: {100 * summary_df['success'].mean():.1f}%\")\n",
    "print(f\"  Total size: {format_size(summary_df['size'].sum())}\")\n",
    "print(f\"  Average size: {format_size(summary_df['size'].mean())}\")\n",
    "\n",
    "print(f\"\\nReady for next step: RAST annotation and model building\")"
   ]
  },
  {
   "cell_type": "markdown",
   "metadata": {},
   "source": "## Next Steps\n\nAfter running this notebook:\n\n1. Verify all 57 organisms downloaded successfully\n2. Check that FASTA files are valid (contain protein sequences)\n3. Proceed to genome annotation (RAST or alternative)\n4. Build metabolic models using ModelSEED/KBase\n\n**Files created**:\n- `../data/raw/protein_sequences/*.fasta` - Protein sequences (one per organism, 57 total)\n- `../data/raw/logs/download_log.txt` - Detailed download log\n- `../data/raw/logs/download_summary_*.csv` - Summary CSV with results"
  }
 ],
 "metadata": {
  "kernelspec": {
   "display_name": "Python 3 (ipykernel)",
   "language": "python",
   "name": "python3"
  },
  "language_info": {
   "codemirror_mode": {
    "name": "ipython",
    "version": 3
   },
   "file_extension": ".py",
   "mimetype": "text/x-python",
   "name": "python",
   "nbconvert_exporter": "python",
   "pygments_lexer": "ipython3",
   "version": "3.11.12"
  }
 },
 "nbformat": 4,
 "nbformat_minor": 4
}