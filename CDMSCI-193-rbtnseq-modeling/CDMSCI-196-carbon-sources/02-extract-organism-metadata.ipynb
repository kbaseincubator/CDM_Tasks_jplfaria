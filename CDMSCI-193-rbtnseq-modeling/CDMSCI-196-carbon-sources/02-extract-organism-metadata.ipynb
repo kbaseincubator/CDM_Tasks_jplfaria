{
 "cells": [
  {
   "cell_type": "markdown",
   "metadata": {},
   "source": [
    "# Extract Organism Metadata from Fitness Browser Database\n",
    "\n",
    "**Purpose**: Create comprehensive organism metadata table for cross-referencing\n",
    "\n",
    "**Data Source**: Fitness Browser SQLite database (feba.db)\n",
    "- Database: https://figshare.com/articles/dataset/25236931\n",
    "- Contains metadata for 57 organisms\n",
    "\n",
    "**Output File**:\n",
    "- `results/organism_metadata.csv` - Complete organism reference table\n",
    "\n",
    "**Columns in output**:\n",
    "- `orgId` - Short identifier (e.g., \"Keio\", \"Cola\")\n",
    "- `Full_Species_Name` - With division prefix (e.g., \"Gammaproteobacteria: Escherichia coli BW25113\")\n",
    "- `NCBI_TaxID` - NCBI taxonomy identifier\n",
    "- `division` - Taxonomic division\n",
    "- `genus` - Genus name\n",
    "- `species` - Species name  \n",
    "- `strain` - Strain identifier\n",
    "- `Species_Name` - Simple format (e.g., \"Escherichia coli BW25113\")\n",
    "\n",
    "**Last updated**: 2025-10-06"
   ]
  },
  {
   "cell_type": "markdown",
   "metadata": {},
   "source": [
    "## Setup"
   ]
  },
  {
   "cell_type": "code",
   "execution_count": 1,
   "metadata": {},
   "outputs": [
    {
     "name": "stdout",
     "output_type": "stream",
     "text": [
      "Imports successful\n"
     ]
    }
   ],
   "source": [
    "import sqlite3\n",
    "import pandas as pd\n",
    "from pathlib import Path\n",
    "\n",
    "print(\"Imports successful\")"
   ]
  },
  {
   "cell_type": "markdown",
   "metadata": {},
   "source": [
    "## Configuration"
   ]
  },
  {
   "cell_type": "code",
   "execution_count": 2,
   "metadata": {},
   "outputs": [
    {
     "name": "stdout",
     "output_type": "stream",
     "text": [
      "Configuration set\n",
      "  Database: ../data/source/feba.db\n",
      "  Output: results/organism_metadata.csv\n",
      "\n",
      "Database found: 8.6 GB\n"
     ]
    }
   ],
   "source": [
    "# Paths\n",
    "DB_PATH = Path(\"../data/source/feba.db\")  # Fixed: was ../downloads/feba.db\n",
    "OUTPUT_DIR = Path(\"results\")\n",
    "OUTPUT_DIR.mkdir(parents=True, exist_ok=True)\n",
    "\n",
    "OUTPUT_FILE = OUTPUT_DIR / \"organism_metadata.csv\"\n",
    "\n",
    "print(f\"Configuration set\")\n",
    "print(f\"  Database: {DB_PATH}\")\n",
    "print(f\"  Output: {OUTPUT_FILE}\")\n",
    "\n",
    "# Check database exists\n",
    "if not DB_PATH.exists():\n",
    "    print(f\"\\nERROR: Database not found at {DB_PATH}\")\n",
    "    print(f\"Please ensure feba.db is in ../data/source/\")\n",
    "else:\n",
    "    print(f\"\\nDatabase found: {DB_PATH.stat().st_size / 1e9:.1f} GB\")"
   ]
  },
  {
   "cell_type": "markdown",
   "metadata": {},
   "source": [
    "## Connect to Database"
   ]
  },
  {
   "cell_type": "code",
   "execution_count": 3,
   "metadata": {},
   "outputs": [
    {
     "name": "stdout",
     "output_type": "stream",
     "text": [
      "Connecting to database: ../data/source/feba.db\n",
      "Connected successfully\n"
     ]
    }
   ],
   "source": [
    "print(f\"Connecting to database: {DB_PATH}\")\n",
    "conn = sqlite3.connect(str(DB_PATH))\n",
    "print(\"Connected successfully\")"
   ]
  },
  {
   "cell_type": "markdown",
   "metadata": {},
   "source": [
    "## Extract Organism Metadata"
   ]
  },
  {
   "cell_type": "code",
   "execution_count": 4,
   "metadata": {},
   "outputs": [
    {
     "name": "stdout",
     "output_type": "stream",
     "text": [
      "Extracting organism metadata...\n",
      "\n",
      "Extracted 57 organisms\n",
      "\n",
      "First 5 organisms:\n",
      "    orgId             division            genus           species  \\\n",
      "0    ANA3  Gammaproteobacteria       Shewanella               sp.   \n",
      "1   BFirm   Betaproteobacteria     Burkholderia      phytofirmans   \n",
      "2  Bifido       Actinobacteria  Bifidobacterium             breve   \n",
      "3   Brev2  Alphaproteobacteria    Brevundimonas               sp.   \n",
      "4  Btheta        Bacteroidetes      Bacteroides  thetaiotaomicron   \n",
      "\n",
      "               strain  NCBI_TaxID  \n",
      "0               ANA-3       94122  \n",
      "1                PsJN      398527  \n",
      "2             UCC2003      326426  \n",
      "3  GW460-12-10-14-LB2       41275  \n",
      "4            VPI-5482      226186  \n"
     ]
    }
   ],
   "source": [
    "# Query organism table\n",
    "query = \"\"\"\n",
    "SELECT \n",
    "    orgId,\n",
    "    division,\n",
    "    genus,\n",
    "    species,\n",
    "    strain,\n",
    "    CAST(taxonomyId AS INTEGER) as NCBI_TaxID\n",
    "FROM Organism\n",
    "ORDER BY orgId\n",
    "\"\"\"\n",
    "\n",
    "print(\"Extracting organism metadata...\")\n",
    "organisms = pd.read_sql_query(query, conn)\n",
    "\n",
    "print(f\"\\nExtracted {len(organisms)} organisms\")\n",
    "print(f\"\\nFirst 5 organisms:\")\n",
    "print(organisms.head())"
   ]
  },
  {
   "cell_type": "markdown",
   "metadata": {},
   "source": [
    "## Create Species Name Formats"
   ]
  },
  {
   "cell_type": "code",
   "execution_count": 5,
   "metadata": {},
   "outputs": [
    {
     "name": "stdout",
     "output_type": "stream",
     "text": [
      "Created species name formats\n",
      "\n",
      "Example formats for ANA3:\n",
      "  orgId: ANA3\n",
      "  Full_Species_Name: Gammaproteobacteria: Shewanella sp. ANA-3\n",
      "  Species_Name: Shewanella sp. ANA-3\n",
      "  NCBI_TaxID: 94122\n"
     ]
    }
   ],
   "source": [
    "# Create Full_Species_Name (with division prefix)\n",
    "organisms['Full_Species_Name'] = (\n",
    "    organisms['division'] + ': ' +\n",
    "    organisms['genus'] + ' ' +\n",
    "    organisms['species'] + ' ' +\n",
    "    organisms['strain']\n",
    ").str.strip()\n",
    "\n",
    "# Create Species_Name (simple format, no division)\n",
    "organisms['Species_Name'] = (\n",
    "    organisms['genus'] + ' ' +\n",
    "    organisms['species'] + ' ' +\n",
    "    organisms['strain']\n",
    ").str.strip()\n",
    "\n",
    "print(\"Created species name formats\")\n",
    "print(f\"\\nExample formats for {organisms.iloc[0]['orgId']}:\")\n",
    "print(f\"  orgId: {organisms.iloc[0]['orgId']}\")\n",
    "print(f\"  Full_Species_Name: {organisms.iloc[0]['Full_Species_Name']}\")\n",
    "print(f\"  Species_Name: {organisms.iloc[0]['Species_Name']}\")\n",
    "print(f\"  NCBI_TaxID: {organisms.iloc[0]['NCBI_TaxID']}\")"
   ]
  },
  {
   "cell_type": "markdown",
   "metadata": {},
   "source": [
    "## Reorder Columns"
   ]
  },
  {
   "cell_type": "code",
   "execution_count": 6,
   "metadata": {},
   "outputs": [
    {
     "name": "stdout",
     "output_type": "stream",
     "text": [
      "Reordered columns:\n",
      "  - orgId\n",
      "  - Full_Species_Name\n",
      "  - NCBI_TaxID\n",
      "  - division\n",
      "  - genus\n",
      "  - species\n",
      "  - strain\n",
      "  - Species_Name\n"
     ]
    }
   ],
   "source": [
    "# Reorder columns for better readability\n",
    "column_order = [\n",
    "    'orgId',\n",
    "    'Full_Species_Name',\n",
    "    'NCBI_TaxID',\n",
    "    'division',\n",
    "    'genus',\n",
    "    'species',\n",
    "    'strain',\n",
    "    'Species_Name'\n",
    "]\n",
    "\n",
    "organisms = organisms[column_order]\n",
    "\n",
    "print(\"Reordered columns:\")\n",
    "for col in organisms.columns:\n",
    "    print(f\"  - {col}\")"
   ]
  },
  {
   "cell_type": "markdown",
   "metadata": {},
   "source": [
    "## Display All Organisms"
   ]
  },
  {
   "cell_type": "code",
   "execution_count": 7,
   "metadata": {},
   "outputs": [
    {
     "name": "stdout",
     "output_type": "stream",
     "text": [
      "All organisms in Fitness Browser database:\n",
      "======================================================================\n",
      "ANA3                           Shewanella sp. ANA-3\n",
      "BFirm                          Burkholderia phytofirmans PsJN\n",
      "Bifido                         Bifidobacterium breve UCC2003\n",
      "Brev2                          Brevundimonas sp. GW460-12-10-14-LB2\n",
      "Btheta                         Bacteroides thetaiotaomicron VPI-5482\n",
      "Burk376                        Paraburkholderia bryophila 376MFSha3.1\n",
      "Burkholderia_OAS925            Paraburkholderia graminis OAS925\n",
      "Bvulgatus_CL09T03C04           Phocaeicola vulgatus CL09T03C04\n",
      "CL21                           Ralstonia sp. UNC404CL21Col\n",
      "Caulo                          Caulobacter crescentus NA1000\n",
      "Cola                           Echinicola vietnamensis KMM 6221, DSM 17526\n",
      "Cup4G11                        Cupriavidus basilensis FW507-4G11\n",
      "Dda3937                        Dickeya dadantii 3937\n",
      "Ddia6719                       Dickeya dianthicola 67-19\n",
      "DdiaME23                       Dickeya dianthicola ME23\n",
      "Dino                           Dinoroseobacter shibae DFL-12\n",
      "DvH                            Desulfovibrio vulgaris Hildenborough JW710\n",
      "Dyella79                       Dyella japonica UNC79MFTsu3.2\n",
      "HerbieS                        Herbaspirillum seropedicae SmR1\n",
      "Kang                           Kangiella aquimarina DSM 16071\n",
      "Keio                           Escherichia coli BW25113\n",
      "Korea                          Sphingomonas koreensis DSMZ 15582\n",
      "Koxy                           Klebsiella michiganensis M5al\n",
      "Lysobacter_OAE881              Lysobacter sp. OAE881\n",
      "MR1                            Shewanella oneidensis MR-1\n",
      "Magneto                        Magnetospirillum magneticum AMB-1\n",
      "Marino                         Marinobacter adhaerens HP15\n",
      "Methanococcus_JJ               Methanococcus maripaludis JJ\n",
      "Methanococcus_S2               Methanococcus maripaludis S2\n",
      "Miya                           Desulfovibrio vulgaris Miyazaki F\n",
      "PS                             Dechlorosoma suillum PS\n",
      "PV4                            Shewanella loihica PV-4\n",
      "Pedo557                        Pedobacter sp. GW460-11-11-14-LB5\n",
      "Phaeo                          Phaeobacter inhibens DSM 17395\n",
      "Ponti                          Pontibacter actiniarum KMM 6156, DSM 19842\n",
      "Putida                         Pseudomonas putida KT2440\n",
      "RalstoniaBSBF1503              Ralstonia solanacearum IBSBF1503\n",
      "RalstoniaGMI1000               Ralstonia solanacearum GMI1000\n",
      "RalstoniaPSI07                 Ralstonia solanacearum PSI07\n",
      "RalstoniaUW163                 Ralstonia solanacearum UW163\n",
      "SB2B                           Shewanella amazonensis SB2B\n",
      "Smeli                          Sinorhizobium meliloti 1021\n",
      "SynE                           Synechococcus elongatus PCC 7942\n",
      "SyringaeB728a                  Pseudomonas syringae pv. syringae B728a\n",
      "SyringaeB728a_mexBdelta        Pseudomonas syringae pv. syringae B728a &Delta;mexB\n",
      "Variovorax_OAS795              Variovorax sp. OAS795\n",
      "WCS417                         Pseudomonas simiae WCS417\n",
      "Xantho                         Xanthomonas campestris pv. campestris strain 8004\n",
      "acidovorax_3H11                Acidovorax sp. GW101-3H11\n",
      "azobra                         Azospirillum brasilense Sp245\n",
      "psRCH2                         Pseudomonas stutzeri RCH2\n",
      "pseudo13_GW456_L13             Pseudomonas fluorescens GW456-L13\n",
      "pseudo1_N1B4                   Pseudomonas fluorescens FW300-N1B4\n",
      "pseudo3_N2E3                   Pseudomonas fluorescens FW300-N2E3\n",
      "pseudo5_N2C3_1                 Pseudomonas fluorescens FW300-N2C3\n",
      "pseudo6_N2E2                   Pseudomonas fluorescens FW300-N2E2\n",
      "rhodanobacter_10B01            Rhodanobacter denitrificans FW104-10B01\n",
      "======================================================================\n",
      "Total: 57 organisms\n"
     ]
    }
   ],
   "source": [
    "print(\"All organisms in Fitness Browser database:\")\n",
    "print(\"=\"*70)\n",
    "\n",
    "for idx, row in organisms.iterrows():\n",
    "    print(f\"{row['orgId']:30s} {row['Species_Name']}\")\n",
    "\n",
    "print(\"=\"*70)\n",
    "print(f\"Total: {len(organisms)} organisms\")"
   ]
  },
  {
   "cell_type": "markdown",
   "metadata": {},
   "source": [
    "## Save Metadata Table"
   ]
  },
  {
   "cell_type": "code",
   "execution_count": 8,
   "metadata": {},
   "outputs": [
    {
     "name": "stdout",
     "output_type": "stream",
     "text": [
      "\n",
      "Saving organism metadata to: results/organism_metadata.csv\n",
      "Saved 57 organisms with 8 columns\n",
      "\n",
      "Columns saved:\n",
      "  - orgId\n",
      "  - Full_Species_Name\n",
      "  - NCBI_TaxID\n",
      "  - division\n",
      "  - genus\n",
      "  - species\n",
      "  - strain\n",
      "  - Species_Name\n"
     ]
    }
   ],
   "source": [
    "print(f\"\\nSaving organism metadata to: {OUTPUT_FILE}\")\n",
    "organisms.to_csv(OUTPUT_FILE, index=False)\n",
    "print(f\"Saved {len(organisms)} organisms with {len(organisms.columns)} columns\")\n",
    "\n",
    "print(f\"\\nColumns saved:\")\n",
    "for col in organisms.columns:\n",
    "    print(f\"  - {col}\")"
   ]
  },
  {
   "cell_type": "markdown",
   "metadata": {},
   "source": [
    "## Close Database Connection"
   ]
  },
  {
   "cell_type": "code",
   "execution_count": 9,
   "metadata": {},
   "outputs": [
    {
     "name": "stdout",
     "output_type": "stream",
     "text": [
      "Database connection closed\n"
     ]
    }
   ],
   "source": [
    "conn.close()\n",
    "print(\"Database connection closed\")"
   ]
  },
  {
   "cell_type": "markdown",
   "metadata": {},
   "source": [
    "## Summary"
   ]
  },
  {
   "cell_type": "code",
   "execution_count": 10,
   "metadata": {},
   "outputs": [
    {
     "name": "stdout",
     "output_type": "stream",
     "text": [
      "======================================================================\n",
      "ORGANISM METADATA EXTRACTION COMPLETE\n",
      "======================================================================\n",
      "\n",
      "Data source:\n",
      "  Database: ../data/source/feba.db\n",
      "  Table: Organism\n",
      "\n",
      "Output file:\n",
      "  results/organism_metadata.csv\n",
      "\n",
      "Metadata summary:\n",
      "  Total organisms: 57\n",
      "  Unique divisions: 8\n",
      "  Unique genera: 36\n",
      "\n",
      "Division breakdown:\n",
      "  Gammaproteobacteria: 25 organisms\n",
      "  Betaproteobacteria: 13 organisms\n",
      "  Alphaproteobacteria: 8 organisms\n",
      "  Bacteroidetes: 5 organisms\n",
      "  Deltaproteobacteria: 2 organisms\n",
      "  Euryarchaeota: 2 organisms\n",
      "  Actinobacteria: 1 organisms\n",
      "  Cyanobacteria: 1 organisms\n",
      "\n",
      "Usage:\n",
      "  - Cross-reference orgId ↔ Species_Name ↔ NCBI_TaxID\n",
      "  - Map between different naming conventions\n",
      "  - Look up taxonomic information\n",
      "\n",
      "======================================================================\n"
     ]
    }
   ],
   "source": [
    "print(\"=\"*70)\n",
    "print(\"ORGANISM METADATA EXTRACTION COMPLETE\")\n",
    "print(\"=\"*70)\n",
    "\n",
    "print(f\"\\nData source:\")\n",
    "print(f\"  Database: {DB_PATH}\")\n",
    "print(f\"  Table: Organism\")\n",
    "\n",
    "print(f\"\\nOutput file:\")\n",
    "print(f\"  {OUTPUT_FILE}\")\n",
    "\n",
    "print(f\"\\nMetadata summary:\")\n",
    "print(f\"  Total organisms: {len(organisms)}\")\n",
    "print(f\"  Unique divisions: {organisms['division'].nunique()}\")\n",
    "print(f\"  Unique genera: {organisms['genus'].nunique()}\")\n",
    "\n",
    "print(f\"\\nDivision breakdown:\")\n",
    "division_counts = organisms['division'].value_counts()\n",
    "for division, count in division_counts.items():\n",
    "    print(f\"  {division}: {count} organisms\")\n",
    "\n",
    "print(f\"\\nUsage:\")\n",
    "print(f\"  - Cross-reference orgId ↔ Species_Name ↔ NCBI_TaxID\")\n",
    "print(f\"  - Map between different naming conventions\")\n",
    "print(f\"  - Look up taxonomic information\")\n",
    "\n",
    "print(\"\\n\" + \"=\"*70)"
   ]
  },
  {
   "cell_type": "code",
   "execution_count": null,
   "metadata": {},
   "outputs": [],
   "source": []
  }
 ],
 "metadata": {
  "kernelspec": {
   "display_name": "Python 3 (ipykernel)",
   "language": "python",
   "name": "python3"
  },
  "language_info": {
   "codemirror_mode": {
    "name": "ipython",
    "version": 3
   },
   "file_extension": ".py",
   "mimetype": "text/x-python",
   "name": "python",
   "nbconvert_exporter": "python",
   "pygments_lexer": "ipython3",
   "version": "3.11.12"
  }
 },
 "nbformat": 4,
 "nbformat_minor": 4
}
