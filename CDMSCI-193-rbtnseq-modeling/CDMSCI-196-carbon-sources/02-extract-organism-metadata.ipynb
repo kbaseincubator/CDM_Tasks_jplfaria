{
 "cells": [
  {
   "cell_type": "markdown",
   "metadata": {},
   "source": [
    "# Extract Organism Metadata from Fitness Browser Database\n",
    "\n",
    "**Purpose**: Create comprehensive organism metadata table for cross-referencing\n",
    "\n",
    "**Data Source**: Fitness Browser SQLite database (feba.db)\n",
    "- Database: https://figshare.com/articles/dataset/25236931\n",
    "- Contains metadata for 57 organisms\n",
    "\n",
    "**Output File**:\n",
    "- `results/organism_metadata.csv` - Complete organism reference table\n",
    "\n",
    "**Columns in output**:\n",
    "- `orgId` - Short identifier (e.g., \"Keio\", \"Cola\")\n",
    "- `Full_Species_Name` - With division prefix (e.g., \"Gammaproteobacteria: Escherichia coli BW25113\")\n",
    "- `NCBI_TaxID` - NCBI taxonomy identifier\n",
    "- `division` - Taxonomic division\n",
    "- `genus` - Genus name\n",
    "- `species` - Species name  \n",
    "- `strain` - Strain identifier\n",
    "- `Species_Name` - Simple format (e.g., \"Escherichia coli BW25113\")\n",
    "\n",
    "**Last updated**: 2025-10-06"
   ]
  },
  {
   "cell_type": "markdown",
   "metadata": {},
   "source": [
    "## Setup"
   ]
  },
  {
   "cell_type": "code",
   "execution_count": null,
   "metadata": {},
   "outputs": [],
   "source": [
    "import sqlite3\n",
    "import pandas as pd\n",
    "from pathlib import Path\n",
    "\n",
    "print(\"Imports successful\")"
   ]
  },
  {
   "cell_type": "markdown",
   "metadata": {},
   "source": [
    "## Configuration"
   ]
  },
  {
   "cell_type": "code",
   "execution_count": null,
   "metadata": {},
   "outputs": [],
   "source": [
    "# Paths\n",
    "DB_PATH = Path(\"../downloads/feba.db\")\n",
    "OUTPUT_DIR = Path(\"results\")\n",
    "OUTPUT_DIR.mkdir(parents=True, exist_ok=True)\n",
    "\n",
    "OUTPUT_FILE = OUTPUT_DIR / \"organism_metadata.csv\"\n",
    "\n",
    "print(f\"Configuration set\")\n",
    "print(f\"  Database: {DB_PATH}\")\n",
    "print(f\"  Output: {OUTPUT_FILE}\")\n",
    "\n",
    "# Check database exists\n",
    "if not DB_PATH.exists():\n",
    "    print(f\"\\nERROR: Database not found at {DB_PATH}\")\n",
    "    print(f\"Please download feba.db from:\")\n",
    "    print(f\"  https://figshare.com/articles/dataset/25236931\")\n",
    "else:\n",
    "    print(f\"\\nDatabase found: {DB_PATH.stat().st_size / 1e9:.1f} GB\")"
   ]
  },
  {
   "cell_type": "markdown",
   "metadata": {},
   "source": [
    "## Connect to Database"
   ]
  },
  {
   "cell_type": "code",
   "execution_count": null,
   "metadata": {},
   "outputs": [],
   "source": [
    "print(f\"Connecting to database: {DB_PATH}\")\n",
    "conn = sqlite3.connect(str(DB_PATH))\n",
    "print(\"Connected successfully\")"
   ]
  },
  {
   "cell_type": "markdown",
   "metadata": {},
   "source": [
    "## Extract Organism Metadata"
   ]
  },
  {
   "cell_type": "code",
   "execution_count": null,
   "metadata": {},
   "outputs": [],
   "source": [
    "# Query organism table\n",
    "query = \"\"\"\n",
    "SELECT \n",
    "    orgId,\n",
    "    division,\n",
    "    genus,\n",
    "    species,\n",
    "    strain,\n",
    "    CAST(ncbiTaxonId AS INTEGER) as NCBI_TaxID\n",
    "FROM Organism\n",
    "ORDER BY orgId\n",
    "\"\"\"\n",
    "\n",
    "print(\"Extracting organism metadata...\")\n",
    "organisms = pd.read_sql_query(query, conn)\n",
    "\n",
    "print(f\"\\nExtracted {len(organisms)} organisms\")\n",
    "print(f\"\\nFirst 5 organisms:\")\n",
    "print(organisms.head())"
   ]
  },
  {
   "cell_type": "markdown",
   "metadata": {},
   "source": [
    "## Create Species Name Formats"
   ]
  },
  {
   "cell_type": "code",
   "execution_count": null,
   "metadata": {},
   "outputs": [],
   "source": [
    "# Create Full_Species_Name (with division prefix)\n",
    "organisms['Full_Species_Name'] = (\n",
    "    organisms['division'] + ': ' +\n",
    "    organisms['genus'] + ' ' +\n",
    "    organisms['species'] + ' ' +\n",
    "    organisms['strain']\n",
    ").str.strip()\n",
    "\n",
    "# Create Species_Name (simple format, no division)\n",
    "organisms['Species_Name'] = (\n",
    "    organisms['genus'] + ' ' +\n",
    "    organisms['species'] + ' ' +\n",
    "    organisms['strain']\n",
    ").str.strip()\n",
    "\n",
    "print(\"Created species name formats\")\n",
    "print(f\"\\nExample formats for {organisms.iloc[0]['orgId']}:\")\n",
    "print(f\"  orgId: {organisms.iloc[0]['orgId']}\")\n",
    "print(f\"  Full_Species_Name: {organisms.iloc[0]['Full_Species_Name']}\")\n",
    "print(f\"  Species_Name: {organisms.iloc[0]['Species_Name']}\")\n",
    "print(f\"  NCBI_TaxID: {organisms.iloc[0]['NCBI_TaxID']}\")"
   ]
  },
  {
   "cell_type": "markdown",
   "metadata": {},
   "source": [
    "## Reorder Columns"
   ]
  },
  {
   "cell_type": "code",
   "execution_count": null,
   "metadata": {},
   "outputs": [],
   "source": [
    "# Reorder columns for better readability\n",
    "column_order = [\n",
    "    'orgId',\n",
    "    'Full_Species_Name',\n",
    "    'NCBI_TaxID',\n",
    "    'division',\n",
    "    'genus',\n",
    "    'species',\n",
    "    'strain',\n",
    "    'Species_Name'\n",
    "]\n",
    "\n",
    "organisms = organisms[column_order]\n",
    "\n",
    "print(\"Reordered columns:\")\n",
    "for col in organisms.columns:\n",
    "    print(f\"  - {col}\")"
   ]
  },
  {
   "cell_type": "markdown",
   "metadata": {},
   "source": [
    "## Display All Organisms"
   ]
  },
  {
   "cell_type": "code",
   "execution_count": null,
   "metadata": {},
   "outputs": [],
   "source": [
    "print(\"All organisms in Fitness Browser database:\")\n",
    "print(\"=\"*70)\n",
    "\n",
    "for idx, row in organisms.iterrows():\n",
    "    print(f\"{row['orgId']:30s} {row['Species_Name']}\")\n",
    "\n",
    "print(\"=\"*70)\n",
    "print(f\"Total: {len(organisms)} organisms\")"
   ]
  },
  {
   "cell_type": "markdown",
   "metadata": {},
   "source": [
    "## Save Metadata Table"
   ]
  },
  {
   "cell_type": "code",
   "execution_count": null,
   "metadata": {},
   "outputs": [],
   "source": [
    "print(f\"\\nSaving organism metadata to: {OUTPUT_FILE}\")\n",
    "organisms.to_csv(OUTPUT_FILE, index=False)\n",
    "print(f\"Saved {len(organisms)} organisms with {len(organisms.columns)} columns\")\n",
    "\n",
    "print(f\"\\nColumns saved:\")\n",
    "for col in organisms.columns:\n",
    "    print(f\"  - {col}\")"
   ]
  },
  {
   "cell_type": "markdown",
   "metadata": {},
   "source": [
    "## Close Database Connection"
   ]
  },
  {
   "cell_type": "code",
   "execution_count": null,
   "metadata": {},
   "outputs": [],
   "source": [
    "conn.close()\n",
    "print(\"Database connection closed\")"
   ]
  },
  {
   "cell_type": "markdown",
   "metadata": {},
   "source": [
    "## Summary"
   ]
  },
  {
   "cell_type": "code",
   "execution_count": null,
   "metadata": {},
   "outputs": [],
   "source": [
    "print(\"=\"*70)\n",
    "print(\"ORGANISM METADATA EXTRACTION COMPLETE\")\n",
    "print(\"=\"*70)\n",
    "\n",
    "print(f\"\\nData source:\")\n",
    "print(f\"  Database: {DB_PATH}\")\n",
    "print(f\"  Table: Organism\")\n",
    "\n",
    "print(f\"\\nOutput file:\")\n",
    "print(f\"  {OUTPUT_FILE}\")\n",
    "\n",
    "print(f\"\\nMetadata summary:\")\n",
    "print(f\"  Total organisms: {len(organisms)}\")\n",
    "print(f\"  Unique divisions: {organisms['division'].nunique()}\")\n",
    "print(f\"  Unique genera: {organisms['genus'].nunique()}\")\n",
    "\n",
    "print(f\"\\nDivision breakdown:\")\n",
    "division_counts = organisms['division'].value_counts()\n",
    "for division, count in division_counts.items():\n",
    "    print(f\"  {division}: {count} organisms\")\n",
    "\n",
    "print(f\"\\nUsage:\")\n",
    "print(f\"  - Cross-reference orgId ↔ Species_Name ↔ NCBI_TaxID\")\n",
    "print(f\"  - Map between different naming conventions\")\n",
    "print(f\"  - Look up taxonomic information\")\n",
    "\n",
    "print(\"\\n\" + \"=\"*70)"
   ]
  }
 ],
 "metadata": {
  "kernelspec": {
   "display_name": "Python 3",
   "language": "python",
   "name": "python3"
  },
  "language_info": {
   "name": "python",
   "version": "3.9.0"
  }
 },
 "nbformat": 4,
 "nbformat_minor": 4
}
