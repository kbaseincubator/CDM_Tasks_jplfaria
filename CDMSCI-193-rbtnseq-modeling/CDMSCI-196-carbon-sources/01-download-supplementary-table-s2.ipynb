{
 "cells": [
  {
   "cell_type": "markdown",
   "metadata": {},
   "source": [
    "# Download and Process Supplementary Table S2 (BigFIT Paper)\n",
    "\n",
    "**Purpose**: Download curated growth/no-growth data from BigFIT paper Supplementary Tables\n",
    "\n",
    "**Data Source**: Price et al. (2018) Nature 557:503-509\n",
    "- Paper: https://www.nature.com/articles/s41586-018-0124-0\n",
    "- Supplementary Tables: https://genomics.lbl.gov/supplemental/bigfit/Supplementary_Tables_final.xlsx\n",
    "\n",
    "**What is Supplementary Table S2?**\n",
    "- Curated growth/no-growth data for 28 organisms (from Morgan Price's team)\n",
    "- 95 carbon sources tested (plus water control)\n",
    "- TRUE = organism grows on carbon source\n",
    "- FALSE = organism does NOT grow on carbon source\n",
    "- Conservative threshold - \"No Growth\" may grow under different conditions\n",
    "- Both paper and Fitness Browser data from same lab (equally trustworthy)\n",
    "- Key difference: Paper reports Growth AND No Growth; Database reports Growth only\n",
    "\n",
    "**Output Files**:\n",
    "- `results/supplementary_table_s2_clean.csv` - Growth matrix (organisms × carbon sources)\n",
    "- `results/supplementary_table_s2_carbon.csv` - Same data, transposed view\n",
    "- `results/organism_name_mapping_supplementary_to_FIT.csv` - Maps organism names to Fitness Browser orgIds\n",
    "\n",
    "**Last updated**: 2025-10-14"
   ]
  },
  {
   "cell_type": "markdown",
   "metadata": {},
   "source": [
    "## Setup"
   ]
  },
  {
   "cell_type": "code",
   "execution_count": 1,
   "metadata": {},
   "outputs": [
    {
     "name": "stdout",
     "output_type": "stream",
     "text": [
      "Imports successful\n"
     ]
    }
   ],
   "source": [
    "import pandas as pd\n",
    "import numpy as np\n",
    "from pathlib import Path\n",
    "import urllib.request\n",
    "import sqlite3\n",
    "import re\n",
    "\n",
    "print(\"Imports successful\")"
   ]
  },
  {
   "cell_type": "markdown",
   "metadata": {},
   "source": [
    "## Configuration"
   ]
  },
  {
   "cell_type": "code",
   "execution_count": 2,
   "metadata": {},
   "outputs": [
    {
     "name": "stdout",
     "output_type": "stream",
     "text": [
      "Configuration set\n",
      "  Download URL: https://genomics.lbl.gov/supplemental/bigfit/Supplementary_Tables_final.xlsx\n",
      "  Data directory: ../data/source\n",
      "  Output directory: results\n",
      "  Database: ../data/source/feba.db\n"
     ]
    }
   ],
   "source": [
    "# URLs\n",
    "SUPP_TABLE_URL = \"https://genomics.lbl.gov/supplemental/bigfit/Supplementary_Tables_final.xlsx\"\n",
    "\n",
    "# Paths\n",
    "DATA_DIR = Path(\"../data/source\")\n",
    "DATA_DIR.mkdir(parents=True, exist_ok=True)\n",
    "\n",
    "OUTPUT_DIR = Path(\"results\")\n",
    "OUTPUT_DIR.mkdir(parents=True, exist_ok=True)\n",
    "\n",
    "EXCEL_FILE = DATA_DIR / \"Supplementary_Tables_final.xlsx\"\n",
    "DB_PATH = DATA_DIR / \"feba.db\"\n",
    "\n",
    "# Output files\n",
    "OUTPUT_CLEAN = OUTPUT_DIR / \"supplementary_table_s2_clean.csv\"\n",
    "OUTPUT_CARBON = OUTPUT_DIR / \"supplementary_table_s2_carbon.csv\"\n",
    "OUTPUT_MAPPING = OUTPUT_DIR / \"organism_name_mapping_supplementary_to_FIT.csv\"\n",
    "\n",
    "print(f\"Configuration set\")\n",
    "print(f\"  Download URL: {SUPP_TABLE_URL}\")\n",
    "print(f\"  Data directory: {DATA_DIR}\")\n",
    "print(f\"  Output directory: {OUTPUT_DIR}\")\n",
    "print(f\"  Database: {DB_PATH}\")"
   ]
  },
  {
   "cell_type": "markdown",
   "metadata": {},
   "source": [
    "## Download Supplementary Tables"
   ]
  },
  {
   "cell_type": "code",
   "execution_count": 3,
   "metadata": {},
   "outputs": [
    {
     "name": "stdout",
     "output_type": "stream",
     "text": [
      "Supplementary Tables already downloaded: ../data/source/Supplementary_Tables_final.xlsx\n",
      "  Size: 5.63 MB\n"
     ]
    }
   ],
   "source": [
    "if EXCEL_FILE.exists():\n",
    "    print(f\"Supplementary Tables already downloaded: {EXCEL_FILE}\")\n",
    "    print(f\"  Size: {EXCEL_FILE.stat().st_size / 1e6:.2f} MB\")\n",
    "else:\n",
    "    print(f\"Downloading Supplementary Tables from: {SUPP_TABLE_URL}\")\n",
    "    urllib.request.urlretrieve(SUPP_TABLE_URL, EXCEL_FILE)\n",
    "    print(f\"Downloaded to: {EXCEL_FILE}\")\n",
    "    print(f\"  Size: {EXCEL_FILE.stat().st_size / 1e6:.2f} MB\")"
   ]
  },
  {
   "cell_type": "markdown",
   "metadata": {},
   "source": [
    "## Read Table S2 (Carbon Sources)"
   ]
  },
  {
   "cell_type": "code",
   "execution_count": 4,
   "metadata": {},
   "outputs": [
    {
     "name": "stdout",
     "output_type": "stream",
     "text": [
      "Reading Supplementary Table S2 (Carbon sources)...\n",
      "\n",
      "Loaded Table S2\n",
      "  Shape: (96, 33)\n",
      "  Columns: 33\n",
      "\n",
      "First few columns: ['Compound', 'CAS number', 'concentration', 'units', 'PlatePosition', 'Acidovorax sp. GW101-3H11', 'Azospirillum brasilense sp. 245', 'Burkholderia phytofirmans PsJN', 'Caulobacter crescentus NA1000', 'Cupriavidus basilensis 4G11']\n"
     ]
    }
   ],
   "source": [
    "# Table S2 starts at row 40 (0-indexed row 39)\n",
    "# Row 40 has headers, data starts at row 41\n",
    "print(\"Reading Supplementary Table S2 (Carbon sources)...\")\n",
    "\n",
    "df_s2 = pd.read_excel(\n",
    "    EXCEL_FILE,\n",
    "    sheet_name='TableS2_Carbon',  # Fixed: was 'Table S2'\n",
    "    header=40  # Row 41 in Excel (0-indexed)\n",
    ")\n",
    "\n",
    "print(f\"\\nLoaded Table S2\")\n",
    "print(f\"  Shape: {df_s2.shape}\")\n",
    "print(f\"  Columns: {len(df_s2.columns)}\")\n",
    "print(f\"\\nFirst few columns: {list(df_s2.columns[:10])}\")"
   ]
  },
  {
   "cell_type": "markdown",
   "metadata": {},
   "source": [
    "## Extract Carbon Source Growth Data"
   ]
  },
  {
   "cell_type": "code",
   "execution_count": 5,
   "metadata": {},
   "outputs": [
    {
     "name": "stdout",
     "output_type": "stream",
     "text": [
      "Extracted data:\n",
      "  Carbon sources: 96\n",
      "  Organism columns: 28\n",
      "\n",
      "First 5 carbon sources:\n",
      "  1. D-Glucose\n",
      "  2. D-Fructose\n",
      "  3. Sucrose\n",
      "  4. L-Arabinose\n",
      "  5. D-Arabinose\n"
     ]
    }
   ],
   "source": [
    "# First 5 columns are metadata (Compound, CAS, concentration, units, PlatePosition)\n",
    "# Organisms start at column 6 (index 5)\n",
    "organism_start_col = 5  # Column F in Excel (was 4 - now skips PlatePosition)\n",
    "\n",
    "# Extract carbon sources (first column) and organism growth data\n",
    "carbon_sources = df_s2.iloc[:, 0].dropna()  # First column = carbon source names\n",
    "organism_data = df_s2.iloc[:, organism_start_col:]  # Column F onwards = organisms\n",
    "\n",
    "print(f\"Extracted data:\")\n",
    "print(f\"  Carbon sources: {len(carbon_sources)}\")\n",
    "print(f\"  Organism columns: {len(organism_data.columns)}\")\n",
    "print(f\"\\nFirst 5 carbon sources:\")\n",
    "for i, cs in enumerate(carbon_sources.head()):\n",
    "    print(f\"  {i+1}. {cs}\")"
   ]
  },
  {
   "cell_type": "markdown",
   "metadata": {},
   "source": [
    "## Clean and Format Data"
   ]
  },
  {
   "cell_type": "code",
   "execution_count": 6,
   "metadata": {},
   "outputs": [
    {
     "name": "stdout",
     "output_type": "stream",
     "text": [
      "Removing 2 water control entries...\n",
      "\n",
      "Cleaned growth matrix:\n",
      "  Shape: 94 carbon sources × 28 organisms\n",
      "  Growth calls: 931\n",
      "  No Growth calls: 1701\n"
     ]
    }
   ],
   "source": [
    "# Create clean dataframe with carbon sources as rows, organisms as columns\n",
    "growth_data = organism_data.copy()\n",
    "growth_data.index = carbon_sources\n",
    "\n",
    "# Remove water control entries (case-insensitive, remove all duplicates)\n",
    "water_mask = growth_data.index.str.lower() == 'water'\n",
    "if water_mask.any():\n",
    "    n_water = water_mask.sum()\n",
    "    print(f\"Removing {n_water} water control entr{'y' if n_water == 1 else 'ies'}...\")\n",
    "    growth_data = growth_data[~water_mask]\n",
    "\n",
    "# Convert TRUE/FALSE to Growth/No Growth\n",
    "growth_data = growth_data.replace({True: 'Growth', False: 'No Growth'})\n",
    "\n",
    "print(f\"\\nCleaned growth matrix:\")\n",
    "print(f\"  Shape: {growth_data.shape[0]} carbon sources × {growth_data.shape[1]} organisms\")\n",
    "print(f\"  Growth calls: {(growth_data == 'Growth').sum().sum()}\")\n",
    "print(f\"  No Growth calls: {(growth_data == 'No Growth').sum().sum()}\")"
   ]
  },
  {
   "cell_type": "markdown",
   "metadata": {},
   "source": [
    "## Get Organism Names and Map to Fitness Browser orgIds"
   ]
  },
  {
   "cell_type": "code",
   "execution_count": 7,
   "metadata": {},
   "outputs": [
    {
     "name": "stdout",
     "output_type": "stream",
     "text": [
      "Organism names in Supplementary Table S2:\n",
      "   1. Acidovorax sp. GW101-3H11\n",
      "   2. Azospirillum brasilense sp. 245\n",
      "   3. Burkholderia phytofirmans PsJN\n",
      "   4. Caulobacter crescentus NA1000\n",
      "   5. Cupriavidus basilensis 4G11\n",
      "   6. Dechlorosoma suillum PS\n",
      "   7. Dinoroseobacter shibae DFL-12\n",
      "   8. Dyella japonica UNC79MFTsu3.2 IMG taxon ID 2556921674\n",
      "   9. Echinicola vietnamensis DSM 17526\n",
      "  10. Escherichia coli BW25113\n",
      "  11. Herbaspirillum seropedicae SmR1\n",
      "  12. Klebsiella michiganensis M5a1\n",
      "  13. Marinobacter adhaerens HP15\n",
      "  14. Pedobacter sp. GW460-11-11-14-LB5\n",
      "  15. Phaeobacter inhibens BS107\n",
      "  16. Pseudomonas fluorescens FW300-N1B4\n",
      "  17. Pseudomonas fluorescens FW300-N2C3\n",
      "  18. Pseudomonas fluorescens FW300-N2E2\n",
      "  19. Pseudomonas fluorescens FW300-N2E3\n",
      "  20. Pseudomonas fluorescens GW456-L13\n",
      "  21. Pseudomonas simiae WCS417\n",
      "  22. Pseudomonas stutzeri RCH2\n",
      "  23. Shewanella amazonensis SB2B\n",
      "  24. Shewanella loihica PV-4\n",
      "  25. Shewanella oneidensis MR-1\n",
      "  26. Shewanella sp. ANA-3\n",
      "  27. Sinorhizobium meliloti 1021\n",
      "  28. Sphingomonas koreensis DSMZ 15582\n"
     ]
    }
   ],
   "source": [
    "# Get organism names from column headers\n",
    "supp_organism_names = growth_data.columns.tolist()\n",
    "\n",
    "print(f\"Organism names in Supplementary Table S2:\")\n",
    "for i, name in enumerate(supp_organism_names, 1):\n",
    "    print(f\"  {i:2d}. {name}\")"
   ]
  },
  {
   "cell_type": "code",
   "execution_count": 8,
   "metadata": {},
   "outputs": [
    {
     "name": "stdout",
     "output_type": "stream",
     "text": [
      "Loading organism data from Fitness Browser database...\n",
      "Loaded 57 organisms from Fitness Browser\n",
      "\n",
      "Created mapping for 28 organisms\n"
     ]
    }
   ],
   "source": [
    "# Load organism metadata from Fitness Browser database\n",
    "if not DB_PATH.exists():\n",
    "    print(f\"WARNING: Fitness Browser database not found at {DB_PATH}\")\n",
    "    print(f\"Cannot create organism mapping. Please download feba.db first.\")\n",
    "    organism_mapping = None\n",
    "else:\n",
    "    print(f\"Loading organism data from Fitness Browser database...\")\n",
    "    conn = sqlite3.connect(str(DB_PATH))\n",
    "    \n",
    "    query = \"\"\"\n",
    "    SELECT orgId, genus, species, strain\n",
    "    FROM Organism\n",
    "    ORDER BY orgId\n",
    "    \"\"\"\n",
    "    fb_organisms = pd.read_sql_query(query, conn)\n",
    "    conn.close()\n",
    "    \n",
    "    # Create full species name\n",
    "    fb_organisms['full_name'] = (\n",
    "        fb_organisms['genus'] + ' ' + \n",
    "        fb_organisms['species'] + ' ' + \n",
    "        fb_organisms['strain']\n",
    "    ).str.strip()\n",
    "    \n",
    "    print(f\"Loaded {len(fb_organisms)} organisms from Fitness Browser\")\n",
    "    \n",
    "    # Manual mapping: Supplementary Table organism names → Fitness Browser orgIds\n",
    "    # Note: These names are verified against actual Excel column headers\n",
    "    organism_mapping = {\n",
    "        'Acidovorax sp. GW101-3H11': 'acidovorax_3H11',\n",
    "        'Azospirillum brasilense sp. 245': 'azobra',\n",
    "        'Burkholderia phytofirmans PsJN': 'BFirm',\n",
    "        'Caulobacter crescentus NA1000': 'Caulo',\n",
    "        'Cupriavidus basilensis 4G11': 'Cup4G11',\n",
    "        'Dechlorosoma suillum PS': 'PS',\n",
    "        'Dinoroseobacter shibae DFL-12': 'Dino',\n",
    "        'Dyella japonica UNC79MFTsu3.2 IMG taxon ID 2556921674': 'Dyella79',\n",
    "        'Echinicola vietnamensis DSM 17526': 'Cola',\n",
    "        'Escherichia coli BW25113': 'Keio',\n",
    "        'Herbaspirillum seropedicae SmR1': 'HerbieS',\n",
    "        'Klebsiella michiganensis M5a1': 'Koxy',  # Fixed: was 'Kang'\n",
    "        'Marinobacter adhaerens HP15': 'Marino',\n",
    "        'Pedobacter sp. GW460-11-11-14-LB5': 'Pedo557',\n",
    "        'Phaeobacter inhibens BS107': 'Phaeo',\n",
    "        'Pseudomonas fluorescens FW300-N1B4': 'pseudo1_N1B4',\n",
    "        'Pseudomonas fluorescens FW300-N2C3': 'pseudo5_N2C3_1',\n",
    "        'Pseudomonas fluorescens FW300-N2E2': 'pseudo6_N2E2',\n",
    "        'Pseudomonas fluorescens FW300-N2E3': 'pseudo3_N2E3',\n",
    "        'Pseudomonas fluorescens GW456-L13': 'pseudo13_GW456_L13',\n",
    "        'Pseudomonas simiae WCS417': 'WCS417',\n",
    "        'Pseudomonas stutzeri RCH2': 'psRCH2',\n",
    "        'Shewanella amazonensis SB2B': 'SB2B',\n",
    "        'Shewanella loihica PV-4': 'PV4',\n",
    "        'Shewanella oneidensis MR-1': 'MR1',\n",
    "        'Shewanella sp. ANA-3': 'ANA3',\n",
    "        'Sinorhizobium meliloti 1021': 'Smeli',\n",
    "        'Sphingomonas koreensis DSMZ 15582': 'Korea'\n",
    "    }\n",
    "    \n",
    "    print(f\"\\nCreated mapping for {len(organism_mapping)} organisms\")"
   ]
  },
  {
   "cell_type": "markdown",
   "metadata": {},
   "source": [
    "## Rename Columns to Simple Species Names"
   ]
  },
  {
   "cell_type": "code",
   "execution_count": 9,
   "metadata": {},
   "outputs": [
    {
     "name": "stdout",
     "output_type": "stream",
     "text": [
      "Renamed columns to simple species names:\n",
      "  Acidovorax sp. GW101-3H11\n",
      "  Azospirillum brasilense sp. 245\n",
      "  Burkholderia phytofirmans PsJN\n",
      "  Caulobacter crescentus NA1000\n",
      "  Cupriavidus basilensis 4G11\n",
      "  Dechlorosoma suillum PS\n",
      "  Dinoroseobacter shibae DFL-12\n",
      "  Dyella japonica UNC79MFTsu3.2 IMG taxon ID 2556921674\n",
      "  Echinicola vietnamensis DSM 17526\n",
      "  Escherichia coli BW25113\n",
      "  Herbaspirillum seropedicae SmR1\n",
      "  Klebsiella michiganensis M5a1\n",
      "  Marinobacter adhaerens HP15\n",
      "  Pedobacter sp. GW460-11-11-14-LB5\n",
      "  Phaeobacter inhibens BS107\n",
      "  Pseudomonas fluorescens FW300-N1B4\n",
      "  Pseudomonas fluorescens FW300-N2C3\n",
      "  Pseudomonas fluorescens FW300-N2E2\n",
      "  Pseudomonas fluorescens FW300-N2E3\n",
      "  Pseudomonas fluorescens GW456-L13\n",
      "  Pseudomonas simiae WCS417\n",
      "  Pseudomonas stutzeri RCH2\n",
      "  Shewanella amazonensis SB2B\n",
      "  Shewanella loihica PV-4\n",
      "  Shewanella oneidensis MR-1\n",
      "  Shewanella sp. ANA-3\n",
      "  Sinorhizobium meliloti 1021\n",
      "  Sphingomonas koreensis DSMZ 15582\n"
     ]
    }
   ],
   "source": [
    "# Rename columns to simple species names (no division prefix)\n",
    "def clean_species_name(name):\n",
    "    \"\"\"Remove division prefix from species name\"\"\"\n",
    "    if ': ' in name:\n",
    "        return name.split(': ', 1)[1]\n",
    "    return name\n",
    "\n",
    "growth_data.columns = [clean_species_name(col) for col in growth_data.columns]\n",
    "\n",
    "print(\"Renamed columns to simple species names:\")\n",
    "for col in growth_data.columns:\n",
    "    print(f\"  {col}\")"
   ]
  },
  {
   "cell_type": "markdown",
   "metadata": {},
   "source": [
    "## Save Cleaned Data"
   ]
  },
  {
   "cell_type": "code",
   "execution_count": 10,
   "metadata": {},
   "outputs": [
    {
     "name": "stdout",
     "output_type": "stream",
     "text": [
      "Saving cleaned growth matrix to: results/supplementary_table_s2_clean.csv\n",
      "Saved 94 carbon sources × 28 organisms\n",
      "\n",
      "Saving transposed matrix to: results/supplementary_table_s2_carbon.csv\n",
      "Saved 28 organisms × 94 carbon sources\n",
      "\n",
      "Saving organism mapping to: results/organism_name_mapping_supplementary_to_FIT.csv\n",
      "Saved 28 organism mappings\n"
     ]
    }
   ],
   "source": [
    "# Save main growth matrix (carbon sources as rows)\n",
    "print(f\"Saving cleaned growth matrix to: {OUTPUT_CLEAN}\")\n",
    "growth_data.to_csv(OUTPUT_CLEAN)\n",
    "print(f\"Saved {growth_data.shape[0]} carbon sources × {growth_data.shape[1]} organisms\")\n",
    "\n",
    "# Save transposed version (organisms as rows) for easier viewing\n",
    "print(f\"\\nSaving transposed matrix to: {OUTPUT_CARBON}\")\n",
    "growth_data_transposed = growth_data.T\n",
    "growth_data_transposed.to_csv(OUTPUT_CARBON)\n",
    "print(f\"Saved {growth_data_transposed.shape[0]} organisms × {growth_data_transposed.shape[1]} carbon sources\")\n",
    "\n",
    "# Save organism mapping\n",
    "if organism_mapping:\n",
    "    print(f\"\\nSaving organism mapping to: {OUTPUT_MAPPING}\")\n",
    "    mapping_df = pd.DataFrame(\n",
    "        list(organism_mapping.items()),\n",
    "        columns=['Supplementary_Table_Name', 'Fitness_Browser_OrgID']\n",
    "    )\n",
    "    mapping_df.to_csv(OUTPUT_MAPPING, index=False)\n",
    "    print(f\"Saved {len(mapping_df)} organism mappings\")"
   ]
  },
  {
   "cell_type": "markdown",
   "metadata": {},
   "source": [
    "## Summary Statistics"
   ]
  },
  {
   "cell_type": "code",
   "execution_count": 11,
   "metadata": {},
   "outputs": [
    {
     "name": "stdout",
     "output_type": "stream",
     "text": [
      "======================================================================\n",
      "SUPPLEMENTARY TABLE S2 SUMMARY\n",
      "======================================================================\n",
      "\n",
      "Data source:\n",
      "  Paper: Price et al. (2018) Nature 557:503-509\n",
      "  URL: https://genomics.lbl.gov/supplemental/bigfit/Supplementary_Tables_final.xlsx\n",
      "\n",
      "Matrix dimensions:\n",
      "  Organisms: 28\n",
      "  Carbon sources: 94\n",
      "  Total comparisons: 2,632\n",
      "\n",
      "Growth calls:\n",
      "  Growth: 931 (35.4%)\n",
      "  No Growth: 1,701 (64.6%)\n",
      "\n",
      "Files created:\n",
      "  results/supplementary_table_s2_clean.csv\n",
      "  results/supplementary_table_s2_carbon.csv\n",
      "  results/organism_name_mapping_supplementary_to_FIT.csv\n",
      "\n",
      "Interpretation:\n",
      "  'Growth' = Organism confirmed to grow on carbon source\n",
      "  'No Growth' = Organism did NOT grow (conservative threshold)\n",
      "  Note: 'No Growth' may grow under different conditions\n",
      "\n",
      "======================================================================\n"
     ]
    }
   ],
   "source": [
    "print(\"=\"*70)\n",
    "print(\"SUPPLEMENTARY TABLE S2 SUMMARY\")\n",
    "print(\"=\"*70)\n",
    "\n",
    "print(f\"\\nData source:\")\n",
    "print(f\"  Paper: Price et al. (2018) Nature 557:503-509\")\n",
    "print(f\"  URL: {SUPP_TABLE_URL}\")\n",
    "\n",
    "print(f\"\\nMatrix dimensions:\")\n",
    "print(f\"  Organisms: {growth_data.shape[1]}\")\n",
    "print(f\"  Carbon sources: {growth_data.shape[0]}\")\n",
    "print(f\"  Total comparisons: {growth_data.size:,}\")\n",
    "\n",
    "print(f\"\\nGrowth calls:\")\n",
    "n_growth = (growth_data == 'Growth').sum().sum()\n",
    "n_no_growth = (growth_data == 'No Growth').sum().sum()\n",
    "print(f\"  Growth: {n_growth:,} ({100*n_growth/growth_data.size:.1f}%)\")\n",
    "print(f\"  No Growth: {n_no_growth:,} ({100*n_no_growth/growth_data.size:.1f}%)\")\n",
    "\n",
    "print(f\"\\nFiles created:\")\n",
    "print(f\"  {OUTPUT_CLEAN}\")\n",
    "print(f\"  {OUTPUT_CARBON}\")\n",
    "if organism_mapping:\n",
    "    print(f\"  {OUTPUT_MAPPING}\")\n",
    "\n",
    "print(f\"\\nInterpretation:\")\n",
    "print(f\"  'Growth' = Organism confirmed to grow on carbon source\")\n",
    "print(f\"  'No Growth' = Organism did NOT grow (conservative threshold)\")\n",
    "print(f\"  Note: 'No Growth' may grow under different conditions\")\n",
    "\n",
    "print(\"\\n\" + \"=\"*70)"
   ]
  },
  {
   "cell_type": "code",
   "execution_count": null,
   "metadata": {},
   "outputs": [],
   "source": []
  }
 ],
 "metadata": {
  "kernelspec": {
   "display_name": "Python 3 (ipykernel)",
   "language": "python",
   "name": "python3"
  },
  "language_info": {
   "codemirror_mode": {
    "name": "ipython",
    "version": 3
   },
   "file_extension": ".py",
   "mimetype": "text/x-python",
   "name": "python",
   "nbconvert_exporter": "python",
   "pygments_lexer": "ipython3",
   "version": "3.11.12"
  }
 },
 "nbformat": 4,
 "nbformat_minor": 4
}
