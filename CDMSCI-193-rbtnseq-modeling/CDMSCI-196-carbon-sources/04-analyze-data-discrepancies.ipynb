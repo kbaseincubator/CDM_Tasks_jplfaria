{
 "cells": [
  {
   "cell_type": "markdown",
   "metadata": {},
   "source": [
    "# Analyze Data Discrepancies Between Sources\n",
    "\n",
    "**Purpose**: Identify and document conflicts between 2018 paper and Fitness Browser data\n",
    "\n",
    "**Why This Matters**:\n",
    "- Understanding discrepancies validates our tiered data strategy\n",
    "- Documents cases where sources disagree\n",
    "- Helps explain why we can't assume \"absence of data = no growth\"\n",
    "- Both sources from same lab (Morgan Price team) - equally trustworthy\n",
    "- Difference: Paper reports Growth AND No Growth; Database reports Growth only\n",
    "\n",
    "**Types of Discrepancies**:\n",
    "1. **FB_NoData_Supp_Growth**: Fitness Browser has no data, but Supplementary Table shows growth\n",
    "2. **FB_Growth_Supp_NoGrowth**: Fitness Browser shows growth, but Supplementary Table shows no growth\n",
    "\n",
    "**Output File**:\n",
    "- `results/data_source_discrepancies.csv` - All discrepancies with metadata\n",
    "\n",
    "**Last updated**: 2025-10-14"
   ]
  },
  {
   "cell_type": "markdown",
   "metadata": {},
   "source": [
    "## Setup"
   ]
  },
  {
   "cell_type": "code",
   "execution_count": 1,
   "metadata": {},
   "outputs": [
    {
     "name": "stdout",
     "output_type": "stream",
     "text": [
      "Imports successful\n"
     ]
    }
   ],
   "source": [
    "import sqlite3\n",
    "import pandas as pd\n",
    "import numpy as np\n",
    "from pathlib import Path\n",
    "import re\n",
    "\n",
    "print(\"Imports successful\")"
   ]
  },
  {
   "cell_type": "markdown",
   "metadata": {},
   "source": [
    "## Configuration"
   ]
  },
  {
   "cell_type": "code",
   "execution_count": 2,
   "metadata": {},
   "outputs": [
    {
     "name": "stdout",
     "output_type": "stream",
     "text": [
      "Configuration set\n",
      "  Database: ../data/source/feba.db\n",
      "  Supplementary table: results/supplementary_table_s2_clean.csv\n",
      "  Output: results/data_source_discrepancies.csv\n"
     ]
    }
   ],
   "source": [
    "# Paths\n",
    "DB_PATH = Path(\"../data/source/feba.db\")\n",
    "RESULTS_DIR = Path(\"results\")\n",
    "\n",
    "# Input files\n",
    "SUPP_TABLE_FILE = RESULTS_DIR / \"supplementary_table_s2_clean.csv\"\n",
    "ORGANISM_METADATA_FILE = RESULTS_DIR / \"organism_metadata.csv\"\n",
    "\n",
    "# Output file\n",
    "OUTPUT_FILE = RESULTS_DIR / \"data_source_discrepancies.csv\"\n",
    "\n",
    "print(f\"Configuration set\")\n",
    "print(f\"  Database: {DB_PATH}\")\n",
    "print(f\"  Supplementary table: {SUPP_TABLE_FILE}\")\n",
    "print(f\"  Output: {OUTPUT_FILE}\")"
   ]
  },
  {
   "cell_type": "markdown",
   "metadata": {},
   "source": [
    "## Load Data Sources"
   ]
  },
  {
   "cell_type": "code",
   "execution_count": 3,
   "metadata": {},
   "outputs": [
    {
     "name": "stdout",
     "output_type": "stream",
     "text": [
      "Loading supplementary table...\n",
      "  Loaded: 94 carbon sources × 28 organisms\n",
      "\n",
      "Loading organism metadata...\n",
      "  Loaded: 57 organisms\n",
      "\n",
      "Loading Fitness Browser data...\n",
      "  Loaded: 1089 organism-carbon pairs\n"
     ]
    }
   ],
   "source": [
    "# Load supplementary table\n",
    "print(\"Loading supplementary table...\")\n",
    "supp_data = pd.read_csv(SUPP_TABLE_FILE, index_col=0)\n",
    "print(f\"  Loaded: {supp_data.shape[0]} carbon sources × {supp_data.shape[1]} organisms\")\n",
    "\n",
    "# Load organism metadata\n",
    "print(\"\\nLoading organism metadata...\")\n",
    "metadata = pd.read_csv(ORGANISM_METADATA_FILE)\n",
    "orgid_to_species = dict(zip(metadata['orgId'], metadata['Species_Name']))\n",
    "species_to_orgid = dict(zip(metadata['Species_Name'], metadata['orgId']))\n",
    "print(f\"  Loaded: {len(metadata)} organisms\")\n",
    "\n",
    "# Load Fitness Browser data\n",
    "print(\"\\nLoading Fitness Browser data...\")\n",
    "conn = sqlite3.connect(str(DB_PATH))\n",
    "query = \"\"\"\n",
    "SELECT DISTINCT\n",
    "    e.orgId,\n",
    "    e.condition_1 as carbon_source\n",
    "FROM Experiment e\n",
    "WHERE e.expGroup = 'carbon source'\n",
    "  AND e.num > 0\n",
    "\"\"\"\n",
    "fb_data = pd.read_sql_query(query, conn)\n",
    "conn.close()\n",
    "print(f\"  Loaded: {len(fb_data)} organism-carbon pairs\")"
   ]
  },
  {
   "cell_type": "markdown",
   "metadata": {},
   "source": [
    "## Create Lookup Sets for Fitness Browser"
   ]
  },
  {
   "cell_type": "code",
   "execution_count": 4,
   "metadata": {},
   "outputs": [
    {
     "name": "stdout",
     "output_type": "stream",
     "text": [
      "Created Fitness Browser lookup set with 1,089 pairs\n"
     ]
    }
   ],
   "source": [
    "# Create set of (orgId, carbon_source) tuples for fast lookup\n",
    "fb_pairs = set(zip(fb_data['orgId'], fb_data['carbon_source']))\n",
    "\n",
    "print(f\"Created Fitness Browser lookup set with {len(fb_pairs):,} pairs\")"
   ]
  },
  {
   "cell_type": "markdown",
   "metadata": {},
   "source": [
    "## Find Discrepancies"
   ]
  },
  {
   "cell_type": "code",
   "execution_count": 5,
   "metadata": {},
   "outputs": [
    {
     "name": "stdout",
     "output_type": "stream",
     "text": [
      "\n",
      "Analyzing discrepancies between data sources...\n",
      "\n",
      "Found 173 total discrepancies\n"
     ]
    }
   ],
   "source": [
    "print(\"\\nAnalyzing discrepancies between data sources...\\n\")\n",
    "\n",
    "discrepancies = []\n",
    "\n",
    "# Iterate through supplementary table\n",
    "for carbon_supp in supp_data.index:\n",
    "    for organism_supp in supp_data.columns:\n",
    "        supp_call = supp_data.loc[carbon_supp, organism_supp]\n",
    "        \n",
    "        # Skip if no data in supplementary table\n",
    "        if pd.isna(supp_call) or supp_call == '':\n",
    "            continue\n",
    "        \n",
    "        # Get orgId for this organism\n",
    "        org_id = species_to_orgid.get(organism_supp)\n",
    "        if not org_id:\n",
    "            continue\n",
    "        \n",
    "        # Check if this pair exists in Fitness Browser\n",
    "        fb_has_data = (org_id, carbon_supp) in fb_pairs\n",
    "        \n",
    "        # Type 1: FB has no data, but Supp shows growth\n",
    "        if not fb_has_data and supp_call == 'Growth':\n",
    "            discrepancies.append({\n",
    "                'Organism_ID': org_id,\n",
    "                'Organism_Name': organism_supp,\n",
    "                'Carbon_Source_Supp': carbon_supp,\n",
    "                'Carbon_Source_Our': carbon_supp,\n",
    "                'Fitness_Browser_Call': 'No Data',\n",
    "                'Supplementary_Call': 'Growth',\n",
    "                'Type': 'FB_NoData_Supp_Growth'\n",
    "            })\n",
    "        \n",
    "        # Type 2: FB shows growth, but Supp shows no growth\n",
    "        elif fb_has_data and supp_call == 'No Growth':\n",
    "            discrepancies.append({\n",
    "                'Organism_ID': org_id,\n",
    "                'Organism_Name': organism_supp,\n",
    "                'Carbon_Source_Supp': carbon_supp,\n",
    "                'Carbon_Source_Our': carbon_supp,\n",
    "                'Fitness_Browser_Call': 'Growth',\n",
    "                'Supplementary_Call': 'No Growth',\n",
    "                'Type': 'FB_Growth_Supp_NoGrowth'\n",
    "            })\n",
    "\n",
    "# Convert to DataFrame\n",
    "discrepancy_df = pd.DataFrame(discrepancies)\n",
    "\n",
    "print(f\"Found {len(discrepancy_df)} total discrepancies\")"
   ]
  },
  {
   "cell_type": "markdown",
   "metadata": {},
   "source": [
    "## Analyze Discrepancy Types"
   ]
  },
  {
   "cell_type": "code",
   "execution_count": 6,
   "metadata": {},
   "outputs": [
    {
     "name": "stdout",
     "output_type": "stream",
     "text": [
      "\n",
      "Discrepancy breakdown by type:\n",
      "======================================================================\n",
      "\n",
      "FB_NoData_Supp_Growth: 170 cases\n",
      "  Meaning: Fitness Browser has NO data, but Supplementary Table shows GROWTH\n",
      "  Implication: Experiment was done (organism grew), but not in feba.db\n",
      "  Reason: Pre-publication data, different setup, or filtered from database\n",
      "\n",
      "  First 5 examples:\n",
      "    Acidovorax sp. GW101-3H11 + Sucrose\n",
      "    Burkholderia phytofirmans PsJN + Sucrose\n",
      "    Caulobacter crescentus NA1000 + Sucrose\n",
      "    Escherichia coli BW25113 + Sucrose\n",
      "    Herbaspirillum seropedicae SmR1 + Sucrose\n",
      "\n",
      "FB_Growth_Supp_NoGrowth: 3 cases\n",
      "  Meaning: Fitness Browser shows GROWTH, but Supplementary Table shows NO GROWTH\n",
      "  Implication: Direct contradiction between sources\n",
      "  Resolution: Prioritize Tier 1 data (Supplementary Table)\n",
      "\n",
      "  First 3 examples:\n",
      "    Marinobacter adhaerens HP15 + Sodium Fumarate dibasic\n",
      "    Burkholderia phytofirmans PsJN + 2-Deoxy-D-Ribose\n",
      "    Burkholderia phytofirmans PsJN + Sodium propionate\n",
      "\n",
      "======================================================================\n"
     ]
    }
   ],
   "source": [
    "print(\"\\nDiscrepancy breakdown by type:\")\n",
    "print(\"=\"*70)\n",
    "\n",
    "for disc_type in discrepancy_df['Type'].unique():\n",
    "    count = (discrepancy_df['Type'] == disc_type).sum()\n",
    "    print(f\"\\n{disc_type}: {count} cases\")\n",
    "    \n",
    "    if disc_type == 'FB_NoData_Supp_Growth':\n",
    "        print(\"  Meaning: Fitness Browser has NO data, but Supplementary Table shows GROWTH\")\n",
    "        print(\"  Implication: Experiment was done (organism grew), but not in feba.db\")\n",
    "        print(\"  Reason: Pre-publication data, different setup, or filtered from database\")\n",
    "    \n",
    "    elif disc_type == 'FB_Growth_Supp_NoGrowth':\n",
    "        print(\"  Meaning: Fitness Browser shows GROWTH, but Supplementary Table shows NO GROWTH\")\n",
    "        print(\"  Implication: Direct contradiction between sources\")\n",
    "        print(\"  Resolution: Prioritize Tier 1 data (Supplementary Table)\")\n",
    "    \n",
    "    # Show first few examples\n",
    "    examples = discrepancy_df[discrepancy_df['Type'] == disc_type].head(5)\n",
    "    print(f\"\\n  First {len(examples)} examples:\")\n",
    "    for idx, row in examples.iterrows():\n",
    "        print(f\"    {row['Organism_Name']} + {row['Carbon_Source_Supp']}\")\n",
    "\n",
    "print(\"\\n\" + \"=\"*70)"
   ]
  },
  {
   "cell_type": "markdown",
   "metadata": {},
   "source": [
    "## Calculate Statistics"
   ]
  },
  {
   "cell_type": "code",
   "execution_count": 7,
   "metadata": {},
   "outputs": [
    {
     "name": "stdout",
     "output_type": "stream",
     "text": [
      "\n",
      "Overall statistics:\n",
      "======================================================================\n",
      "  Total comparisons: 2,632\n",
      "  Agreements: 2,459 (93.4%)\n",
      "  Discrepancies: 173 (6.6%)\n",
      "======================================================================\n"
     ]
    }
   ],
   "source": [
    "# Total comparisons possible\n",
    "total_comparisons = supp_data.notna().sum().sum()\n",
    "n_discrepancies = len(discrepancy_df)\n",
    "n_agreements = total_comparisons - n_discrepancies\n",
    "\n",
    "print(\"\\nOverall statistics:\")\n",
    "print(\"=\"*70)\n",
    "print(f\"  Total comparisons: {total_comparisons:,}\")\n",
    "print(f\"  Agreements: {n_agreements:,} ({100*n_agreements/total_comparisons:.1f}%)\")\n",
    "print(f\"  Discrepancies: {n_discrepancies:,} ({100*n_discrepancies/total_comparisons:.1f}%)\")\n",
    "print(\"=\"*70)"
   ]
  },
  {
   "cell_type": "markdown",
   "metadata": {},
   "source": [
    "## Save Discrepancies"
   ]
  },
  {
   "cell_type": "code",
   "execution_count": 8,
   "metadata": {},
   "outputs": [
    {
     "name": "stdout",
     "output_type": "stream",
     "text": [
      "\n",
      "Saving discrepancies to: results/data_source_discrepancies.csv\n",
      "Saved 173 discrepancies\n"
     ]
    }
   ],
   "source": [
    "print(f\"\\nSaving discrepancies to: {OUTPUT_FILE}\")\n",
    "discrepancy_df.to_csv(OUTPUT_FILE, index=False)\n",
    "print(f\"Saved {len(discrepancy_df)} discrepancies\")"
   ]
  },
  {
   "cell_type": "markdown",
   "metadata": {},
   "source": [
    "## Summary"
   ]
  },
  {
   "cell_type": "code",
   "execution_count": 9,
   "metadata": {},
   "outputs": [
    {
     "name": "stdout",
     "output_type": "stream",
     "text": [
      "======================================================================\n",
      "DATA DISCREPANCY ANALYSIS COMPLETE\n",
      "======================================================================\n",
      "\n",
      "Key Findings:\n",
      "\n",
      "1. Missing Fitness Browser Data (170 cases):\n",
      "   - Supplementary Table shows GROWTH\n",
      "   - Fitness Browser has NO DATA\n",
      "   - Proves: Cannot assume 'absence of data = no growth'\n",
      "\n",
      "2. Direct Contradictions (3 cases):\n",
      "   - Fitness Browser shows GROWTH\n",
      "   - Supplementary Table shows NO GROWTH\n",
      "   - Resolution: Prioritize Tier 1 data (Supplementary Table)\n",
      "\n",
      "Implications for Data Strategy:\n",
      "  - Use Supplementary Table S2 for BOTH growth and no-growth (Tier 1)\n",
      "  - Use Fitness Browser for GROWTH calls only (Tier 2)\n",
      "  - Do NOT assume absence of Fitness Browser data = no growth\n",
      "  - 170 experiments exist in supp table but not in feba.db\n",
      "\n",
      "Files created:\n",
      "  results/data_source_discrepancies.csv\n",
      "\n",
      "Consistency: 93.4%\n",
      "\n",
      "======================================================================\n"
     ]
    }
   ],
   "source": [
    "print(\"=\"*70)\n",
    "print(\"DATA DISCREPANCY ANALYSIS COMPLETE\")\n",
    "print(\"=\"*70)\n",
    "\n",
    "print(f\"\\nKey Findings:\")\n",
    "\n",
    "n_type1 = (discrepancy_df['Type'] == 'FB_NoData_Supp_Growth').sum()\n",
    "n_type2 = (discrepancy_df['Type'] == 'FB_Growth_Supp_NoGrowth').sum()\n",
    "\n",
    "print(f\"\\n1. Missing Fitness Browser Data ({n_type1} cases):\")\n",
    "print(f\"   - Supplementary Table shows GROWTH\")\n",
    "print(f\"   - Fitness Browser has NO DATA\")\n",
    "print(f\"   - Proves: Cannot assume 'absence of data = no growth'\")\n",
    "\n",
    "print(f\"\\n2. Direct Contradictions ({n_type2} cases):\")\n",
    "print(f\"   - Fitness Browser shows GROWTH\")\n",
    "print(f\"   - Supplementary Table shows NO GROWTH\")\n",
    "print(f\"   - Resolution: Prioritize Tier 1 data (Supplementary Table)\")\n",
    "\n",
    "print(f\"\\nImplications for Data Strategy:\")\n",
    "print(f\"  - Use Supplementary Table S2 for BOTH growth and no-growth (Tier 1)\")\n",
    "print(f\"  - Use Fitness Browser for GROWTH calls only (Tier 2)\")\n",
    "print(f\"  - Do NOT assume absence of Fitness Browser data = no growth\")\n",
    "print(f\"  - {n_type1} experiments exist in supp table but not in feba.db\")\n",
    "\n",
    "print(f\"\\nFiles created:\")\n",
    "print(f\"  {OUTPUT_FILE}\")\n",
    "\n",
    "print(f\"\\nConsistency: {100*n_agreements/total_comparisons:.1f}%\")\n",
    "\n",
    "print(\"\\n\" + \"=\"*70)"
   ]
  },
  {
   "cell_type": "code",
   "execution_count": null,
   "metadata": {},
   "outputs": [],
   "source": []
  }
 ],
 "metadata": {
  "kernelspec": {
   "display_name": "Python 3 (ipykernel)",
   "language": "python",
   "name": "python3"
  },
  "language_info": {
   "codemirror_mode": {
    "name": "ipython",
    "version": 3
   },
   "file_extension": ".py",
   "mimetype": "text/x-python",
   "name": "python",
   "nbconvert_exporter": "python",
   "pygments_lexer": "ipython3",
   "version": "3.11.12"
  }
 },
 "nbformat": 4,
 "nbformat_minor": 4
}
