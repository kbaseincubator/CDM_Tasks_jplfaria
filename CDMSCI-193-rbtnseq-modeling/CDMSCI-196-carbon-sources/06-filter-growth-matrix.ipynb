{
 "cells": [
  {
   "cell_type": "markdown",
   "metadata": {},
   "source": [
    "# Filter Growth Matrix to Suitable Carbon Sources and Organisms\n",
    "\n",
    "**Parent**: CDMSCI-193 - RBTnSeq Modeling Analysis\n",
    "\n",
    "**Ticket**: CDMSCI-196 - Compile Carbon Sources List\n",
    "\n",
    "## Objective\n",
    "\n",
    "Create a filtered growth matrix containing only:\n",
    "1. Carbon sources suitable for metabolic modeling (recommendation: 'use')\n",
    "2. Organisms with at least some growth data for those carbon sources\n",
    "\n",
    "## Approach\n",
    "\n",
    "1. Load the carbon source evaluation results from notebook 05\n",
    "2. Filter for compounds with `Recommendation == 'use'` only (direct usage)\n",
    "3. Create filtered growth matrix with only these compounds\n",
    "4. Remove organisms that have no data (all Unknown) for the filtered compounds\n",
    "5. Compare statistics between full and filtered datasets\n",
    "\n",
    "## Outputs\n",
    "\n",
    "- `results/combined_growth_matrix_filtered.csv` - Filtered growth matrix (141 'use' compounds × organisms with data)\n",
    "\n",
    "**Last updated**: 2025-10-15"
   ]
  },
  {
   "cell_type": "markdown",
   "metadata": {},
   "source": [
    "## Setup"
   ]
  },
  {
   "cell_type": "code",
   "execution_count": 1,
   "metadata": {},
   "outputs": [
    {
     "name": "stdout",
     "output_type": "stream",
     "text": [
      "Imports successful\n"
     ]
    }
   ],
   "source": [
    "import pandas as pd\n",
    "import numpy as np\n",
    "from pathlib import Path\n",
    "\n",
    "print(\"Imports successful\")"
   ]
  },
  {
   "cell_type": "markdown",
   "metadata": {},
   "source": [
    "## Configuration"
   ]
  },
  {
   "cell_type": "code",
   "execution_count": 2,
   "metadata": {},
   "outputs": [
    {
     "name": "stdout",
     "output_type": "stream",
     "text": [
      "Configuration set\n",
      "  Evaluation: results/carbon_source_evaluation_final.csv\n",
      "  Full matrix: results/combined_growth_matrix.csv\n",
      "  Output: results/combined_growth_matrix_filtered.csv\n"
     ]
    }
   ],
   "source": [
    "# Input files\n",
    "EVALUATION_FILE = Path('results/carbon_source_evaluation_final.csv')\n",
    "FULL_MATRIX_FILE = Path('results/combined_growth_matrix.csv')\n",
    "\n",
    "# Output file\n",
    "OUTPUT_DIR = Path('results')\n",
    "FILTERED_MATRIX_FILE = OUTPUT_DIR / 'combined_growth_matrix_filtered.csv'\n",
    "\n",
    "print(f\"Configuration set\")\n",
    "print(f\"  Evaluation: {EVALUATION_FILE}\")\n",
    "print(f\"  Full matrix: {FULL_MATRIX_FILE}\")\n",
    "print(f\"  Output: {FILTERED_MATRIX_FILE}\")"
   ]
  },
  {
   "cell_type": "markdown",
   "metadata": {},
   "source": [
    "## Load Data"
   ]
  },
  {
   "cell_type": "code",
   "execution_count": 3,
   "metadata": {},
   "outputs": [
    {
     "name": "stdout",
     "output_type": "stream",
     "text": [
      "Loading carbon source evaluation...\n",
      "  Loaded 207 evaluated compounds\n",
      "\n",
      "Loading full growth matrix...\n",
      "  Shape: 208 carbon sources × 57 organisms\n",
      "  Total cells: 11,856\n"
     ]
    }
   ],
   "source": [
    "# Load evaluation results\n",
    "print(\"Loading carbon source evaluation...\")\n",
    "evaluation_df = pd.read_csv(EVALUATION_FILE)\n",
    "print(f\"  Loaded {len(evaluation_df)} evaluated compounds\")\n",
    "\n",
    "# Load full growth matrix\n",
    "print(\"\\nLoading full growth matrix...\")\n",
    "full_matrix = pd.read_csv(FULL_MATRIX_FILE, index_col=0)\n",
    "print(f\"  Shape: {full_matrix.shape[0]} carbon sources × {full_matrix.shape[1]} organisms\")\n",
    "print(f\"  Total cells: {full_matrix.shape[0] * full_matrix.shape[1]:,}\")"
   ]
  },
  {
   "cell_type": "markdown",
   "metadata": {},
   "source": [
    "## Exclude Sucrose (Experimental Issue)\n",
    "\n",
    "**Issue**: Sucrose growth data is unreliable due to stock solution contamination (reported by experiment author, 2025-10-15).\n",
    "\n",
    "**Action**: Explicitly remove Sucrose from the growth matrix before filtering."
   ]
  },
  {
   "cell_type": "code",
   "execution_count": 4,
   "metadata": {},
   "outputs": [
    {
     "name": "stdout",
     "output_type": "stream",
     "text": [
      "Checking for Sucrose in growth matrix...\n",
      "  Found Sucrose - removing due to stock solution contamination issue\n",
      "  Updated matrix shape: 207 carbon sources × 57 organisms\n"
     ]
    }
   ],
   "source": [
    "# Remove Sucrose from growth matrix due to experimental issue\n",
    "print(\"Checking for Sucrose in growth matrix...\")\n",
    "if \"Sucrose\" in full_matrix.index:\n",
    "    print(\"  Found Sucrose - removing due to stock solution contamination issue\")\n",
    "    full_matrix = full_matrix.drop(\"Sucrose\")\n",
    "    print(f\"  Updated matrix shape: {full_matrix.shape[0]} carbon sources × {full_matrix.shape[1]} organisms\")\n",
    "else:\n",
    "    print(\"  Sucrose not found in matrix (already excluded)\")"
   ]
  },
  {
   "cell_type": "markdown",
   "metadata": {},
   "source": [
    "## Filter for 'use' Recommendation Only\n",
    "\n",
    "We want only compounds that can be used **directly** without modifications."
   ]
  },
  {
   "cell_type": "code",
   "execution_count": 5,
   "metadata": {},
   "outputs": [
    {
     "name": "stdout",
     "output_type": "stream",
     "text": [
      "Carbon sources with 'use' recommendation: 140\n",
      "\n",
      "Breakdown by recommendation:\n",
      "  use                 : 140 ( 67.6%)\n",
      "  use_monomer         :  29 ( 14.0%)\n",
      "  use_alternative     :  23 ( 11.1%)\n",
      "  exclude             :  15 (  7.2%)\n",
      "\n",
      "Carbon sources to keep in filtered matrix: 140\n"
     ]
    }
   ],
   "source": [
    "# Filter evaluation for 'use' recommendation only\n",
    "use_compounds = evaluation_df[evaluation_df['Recommendation'] == 'use']\n",
    "\n",
    "print(f\"Carbon sources with 'use' recommendation: {len(use_compounds)}\")\n",
    "print(f\"\\nBreakdown by recommendation:\")\n",
    "for rec, count in evaluation_df['Recommendation'].value_counts().items():\n",
    "    pct = 100 * count / len(evaluation_df)\n",
    "    print(f\"  {rec:20s}: {count:3d} ({pct:5.1f}%)\")\n",
    "\n",
    "# Get list of carbon sources to keep\n",
    "carbon_sources_to_keep = use_compounds['Carbon_Source'].tolist()\n",
    "print(f\"\\nCarbon sources to keep in filtered matrix: {len(carbon_sources_to_keep)}\")"
   ]
  },
  {
   "cell_type": "markdown",
   "metadata": {},
   "source": [
    "## Create Filtered Growth Matrix"
   ]
  },
  {
   "cell_type": "code",
   "execution_count": 6,
   "metadata": {},
   "outputs": [
    {
     "name": "stdout",
     "output_type": "stream",
     "text": [
      "Creating filtered growth matrix...\n",
      "\n",
      "Filtered matrix shape: 140 carbon sources × 57 organisms\n",
      "Total cells: 7,980\n"
     ]
    }
   ],
   "source": [
    "# Filter growth matrix to keep only 'use' compounds\n",
    "print(\"Creating filtered growth matrix...\")\n",
    "\n",
    "# Find which carbon sources exist in the growth matrix\n",
    "# (handle potential mismatches between evaluation and matrix)\n",
    "available_in_matrix = [cs for cs in carbon_sources_to_keep if cs in full_matrix.index]\n",
    "missing_from_matrix = [cs for cs in carbon_sources_to_keep if cs not in full_matrix.index]\n",
    "\n",
    "if missing_from_matrix:\n",
    "    print(f\"\\n⚠ Warning: {len(missing_from_matrix)} compounds in evaluation not found in growth matrix:\")\n",
    "    for cs in missing_from_matrix[:10]:  # Show first 10\n",
    "        print(f\"    - {cs}\")\n",
    "    if len(missing_from_matrix) > 10:\n",
    "        print(f\"    ... and {len(missing_from_matrix) - 10} more\")\n",
    "\n",
    "# Create filtered matrix\n",
    "filtered_matrix = full_matrix.loc[available_in_matrix].copy()\n",
    "\n",
    "print(f\"\\nFiltered matrix shape: {filtered_matrix.shape[0]} carbon sources × {filtered_matrix.shape[1]} organisms\")\n",
    "print(f\"Total cells: {filtered_matrix.shape[0] * filtered_matrix.shape[1]:,}\")"
   ]
  },
  {
   "cell_type": "code",
   "execution_count": 7,
   "metadata": {},
   "outputs": [
    {
     "name": "stdout",
     "output_type": "stream",
     "text": [
      "Checking for organisms without any carbon source data...\n",
      "\n",
      "Organisms with data: 44\n",
      "Organisms without data: 13\n",
      "\n",
      "Organisms to remove (no data for filtered carbon sources):\n",
      "  - Desulfovibrio vulgaris Hildenborough JW710\n",
      "  - Kangiella aquimarina DSM 16071\n",
      "  - Methanococcus maripaludis JJ\n",
      "  - Methanococcus maripaludis S2\n",
      "  - Pontibacter actiniarum KMM 6156, DSM 19842\n",
      "  - Ralstonia solanacearum IBSBF1503\n",
      "  - Ralstonia solanacearum GMI1000\n",
      "  - Ralstonia solanacearum PSI07\n",
      "  - Ralstonia solanacearum UW163\n",
      "  - Synechococcus elongatus PCC 7942\n",
      "  - Pseudomonas syringae pv. syringae B728a\n",
      "  - Pseudomonas syringae pv. syringae B728a &Delta;mexB\n",
      "  - Xanthomonas campestris pv. campestris strain 8004\n",
      "\n",
      "Filtering matrix to keep only organisms with data...\n",
      "  New shape: 140 carbon sources × 44 organisms\n"
     ]
    }
   ],
   "source": [
    "print(\"Checking for organisms without any carbon source data...\\n\")\n",
    "\n",
    "# For each organism, count how many non-unknown cells it has\n",
    "organisms_with_data = []\n",
    "organisms_without_data = []\n",
    "\n",
    "for organism in filtered_matrix.columns:\n",
    "    # Count cells that are Growth or No Growth (not empty/unknown)\n",
    "    n_tested = ((filtered_matrix[organism] == 'Growth') | (filtered_matrix[organism] == 'No Growth')).sum()\n",
    "    \n",
    "    if n_tested > 0:\n",
    "        organisms_with_data.append(organism)\n",
    "    else:\n",
    "        organisms_without_data.append(organism)\n",
    "\n",
    "print(f\"Organisms with data: {len(organisms_with_data)}\")\n",
    "print(f\"Organisms without data: {len(organisms_without_data)}\")\n",
    "\n",
    "if organisms_without_data:\n",
    "    print(f\"\\nOrganisms to remove (no data for filtered carbon sources):\")\n",
    "    for org in organisms_without_data:\n",
    "        print(f\"  - {org}\")\n",
    "    \n",
    "    # Filter matrix to keep only organisms with data\n",
    "    print(f\"\\nFiltering matrix to keep only organisms with data...\")\n",
    "    filtered_matrix = filtered_matrix[organisms_with_data].copy()\n",
    "    print(f\"  New shape: {filtered_matrix.shape[0]} carbon sources × {filtered_matrix.shape[1]} organisms\")\n",
    "else:\n",
    "    print(f\"\\n✓ All organisms have data for at least one filtered carbon source\")"
   ]
  },
  {
   "cell_type": "code",
   "execution_count": 8,
   "metadata": {},
   "outputs": [
    {
     "name": "stdout",
     "output_type": "stream",
     "text": [
      "================================================================================\n",
      "COMPARISON: FULL vs FILTERED DATASET\n",
      "================================================================================\n",
      "\n",
      "FULL DATASET:\n",
      "  Carbon sources: 207\n",
      "  Organisms: 57\n",
      "  Total cells: 11,799\n",
      "  Growth: 1,237 (10.5%)\n",
      "  No Growth: 1,327 (11.2%)\n",
      "  Unknown: 9,235 (78.3%)\n",
      "\n",
      "FILTERED DATASET (use only + organisms with data):\n",
      "  Carbon sources: 140\n",
      "  Organisms: 44\n",
      "  Total cells: 6,160\n",
      "  Growth: 1,085 (17.6%)\n",
      "  No Growth: 1,115 (18.1%)\n",
      "  Unknown: 3,960 (64.3%)\n",
      "\n",
      "--------------------------------------------------------------------------------\n",
      "REDUCTION:\n",
      "--------------------------------------------------------------------------------\n",
      "  Carbon sources removed: 67 (32.4%)\n",
      "  Organisms removed: 13 (22.8%)\n",
      "  Total cells removed: 5,639 (47.8%)\n",
      "  Growth calls removed: 152\n",
      "  No Growth calls removed: 212\n",
      "  Unknown cells removed: 5,275\n"
     ]
    }
   ],
   "source": [
    "print(\"=\" * 80)\n",
    "print(\"COMPARISON: FULL vs FILTERED DATASET\")\n",
    "print(\"=\" * 80)\n",
    "\n",
    "# Function to calculate stats\n",
    "def calculate_stats(matrix, label):\n",
    "    total_cells = matrix.shape[0] * matrix.shape[1]\n",
    "    \n",
    "    # Count values\n",
    "    growth_cells = (matrix == 'Growth').sum().sum()\n",
    "    no_growth_cells = (matrix == 'No Growth').sum().sum()\n",
    "    unknown_cells = total_cells - growth_cells - no_growth_cells\n",
    "    \n",
    "    print(f\"\\n{label}:\")\n",
    "    print(f\"  Carbon sources: {matrix.shape[0]}\")\n",
    "    print(f\"  Organisms: {matrix.shape[1]}\")\n",
    "    print(f\"  Total cells: {total_cells:,}\")\n",
    "    print(f\"  Growth: {growth_cells:,} ({100*growth_cells/total_cells:.1f}%)\")\n",
    "    print(f\"  No Growth: {no_growth_cells:,} ({100*no_growth_cells/total_cells:.1f}%)\")\n",
    "    print(f\"  Unknown: {unknown_cells:,} ({100*unknown_cells/total_cells:.1f}%)\")\n",
    "    \n",
    "    return {\n",
    "        'carbon_sources': matrix.shape[0],\n",
    "        'organisms': matrix.shape[1],\n",
    "        'total': total_cells,\n",
    "        'growth': growth_cells,\n",
    "        'no_growth': no_growth_cells,\n",
    "        'unknown': unknown_cells\n",
    "    }\n",
    "\n",
    "full_stats = calculate_stats(full_matrix, \"FULL DATASET\")\n",
    "filtered_stats = calculate_stats(filtered_matrix, \"FILTERED DATASET (use only + organisms with data)\")\n",
    "\n",
    "# Show reduction\n",
    "print(\"\\n\" + \"-\" * 80)\n",
    "print(\"REDUCTION:\")\n",
    "print(\"-\" * 80)\n",
    "print(f\"  Carbon sources removed: {full_stats['carbon_sources'] - filtered_stats['carbon_sources']} \"\n",
    "      f\"({100*(full_stats['carbon_sources'] - filtered_stats['carbon_sources'])/full_stats['carbon_sources']:.1f}%)\")\n",
    "print(f\"  Organisms removed: {full_stats['organisms'] - filtered_stats['organisms']} \"\n",
    "      f\"({100*(full_stats['organisms'] - filtered_stats['organisms'])/full_stats['organisms']:.1f}%)\")\n",
    "print(f\"  Total cells removed: {full_stats['total'] - filtered_stats['total']:,} \"\n",
    "      f\"({100*(full_stats['total'] - filtered_stats['total'])/full_stats['total']:.1f}%)\")\n",
    "print(f\"  Growth calls removed: {full_stats['growth'] - filtered_stats['growth']:,}\")\n",
    "print(f\"  No Growth calls removed: {full_stats['no_growth'] - filtered_stats['no_growth']:,}\")\n",
    "print(f\"  Unknown cells removed: {full_stats['unknown'] - filtered_stats['unknown']:,}\")"
   ]
  },
  {
   "cell_type": "markdown",
   "metadata": {},
   "source": [
    "## Compare Statistics"
   ]
  },
  {
   "cell_type": "code",
   "execution_count": 9,
   "metadata": {},
   "outputs": [
    {
     "name": "stdout",
     "output_type": "stream",
     "text": [
      "================================================================================\n",
      "COMPARISON: FULL vs FILTERED DATASET\n",
      "================================================================================\n",
      "\n",
      "FULL DATASET:\n",
      "  Carbon sources: 207\n",
      "  Organisms: 57\n",
      "  Total cells: 11,799\n",
      "  Growth: 1,237 (10.5%)\n",
      "  No Growth: 1,327 (11.2%)\n",
      "  Unknown: 9,235 (78.3%)\n",
      "\n",
      "FILTERED DATASET (use only):\n",
      "  Carbon sources: 140\n",
      "  Organisms: 44\n",
      "  Total cells: 6,160\n",
      "  Growth: 1,085 (17.6%)\n",
      "  No Growth: 1,115 (18.1%)\n",
      "  Unknown: 3,960 (64.3%)\n",
      "\n",
      "--------------------------------------------------------------------------------\n",
      "REDUCTION:\n",
      "--------------------------------------------------------------------------------\n",
      "  Carbon sources removed: 67 (32.4%)\n",
      "  Total cells removed: 5,639 (47.8%)\n",
      "  Growth calls removed: 152\n",
      "  No Growth calls removed: 212\n",
      "  Unknown cells removed: 5,275\n"
     ]
    }
   ],
   "source": [
    "print(\"=\" * 80)\n",
    "print(\"COMPARISON: FULL vs FILTERED DATASET\")\n",
    "print(\"=\" * 80)\n",
    "\n",
    "# Function to calculate stats\n",
    "def calculate_stats(matrix, label):\n",
    "    total_cells = matrix.shape[0] * matrix.shape[1]\n",
    "    \n",
    "    # Count values\n",
    "    growth_cells = (matrix == 'Growth').sum().sum()\n",
    "    no_growth_cells = (matrix == 'No Growth').sum().sum()\n",
    "    unknown_cells = total_cells - growth_cells - no_growth_cells\n",
    "    \n",
    "    print(f\"\\n{label}:\")\n",
    "    print(f\"  Carbon sources: {matrix.shape[0]}\")\n",
    "    print(f\"  Organisms: {matrix.shape[1]}\")\n",
    "    print(f\"  Total cells: {total_cells:,}\")\n",
    "    print(f\"  Growth: {growth_cells:,} ({100*growth_cells/total_cells:.1f}%)\")\n",
    "    print(f\"  No Growth: {no_growth_cells:,} ({100*no_growth_cells/total_cells:.1f}%)\")\n",
    "    print(f\"  Unknown: {unknown_cells:,} ({100*unknown_cells/total_cells:.1f}%)\")\n",
    "    \n",
    "    return {\n",
    "        'carbon_sources': matrix.shape[0],\n",
    "        'organisms': matrix.shape[1],\n",
    "        'total': total_cells,\n",
    "        'growth': growth_cells,\n",
    "        'no_growth': no_growth_cells,\n",
    "        'unknown': unknown_cells\n",
    "    }\n",
    "\n",
    "full_stats = calculate_stats(full_matrix, \"FULL DATASET\")\n",
    "filtered_stats = calculate_stats(filtered_matrix, \"FILTERED DATASET (use only)\")\n",
    "\n",
    "# Show reduction\n",
    "print(\"\\n\" + \"-\" * 80)\n",
    "print(\"REDUCTION:\")\n",
    "print(\"-\" * 80)\n",
    "print(f\"  Carbon sources removed: {full_stats['carbon_sources'] - filtered_stats['carbon_sources']} \"\n",
    "      f\"({100*(full_stats['carbon_sources'] - filtered_stats['carbon_sources'])/full_stats['carbon_sources']:.1f}%)\")\n",
    "print(f\"  Total cells removed: {full_stats['total'] - filtered_stats['total']:,} \"\n",
    "      f\"({100*(full_stats['total'] - filtered_stats['total'])/full_stats['total']:.1f}%)\")\n",
    "print(f\"  Growth calls removed: {full_stats['growth'] - filtered_stats['growth']:,}\")\n",
    "print(f\"  No Growth calls removed: {full_stats['no_growth'] - filtered_stats['no_growth']:,}\")\n",
    "print(f\"  Unknown cells removed: {full_stats['unknown'] - filtered_stats['unknown']:,}\")"
   ]
  },
  {
   "cell_type": "markdown",
   "metadata": {},
   "source": [
    "## Summary\n",
    "\n",
    "**Output Created**:\n",
    "- `results/combined_growth_matrix_filtered.csv` - Filtered growth matrix with:\n",
    "  - 141 carbon sources (recommendation: 'use' only)\n",
    "  - Only organisms with at least some growth data for these carbon sources\n",
    "\n",
    "**Filtering Applied**:\n",
    "1. **Carbon Source Filtering**: Removed 67 carbon sources (32.2%)\n",
    "   - Excludes: polymers, proprietary blends, atypical compounds\n",
    "   - Keeps only: compounds suitable for direct metabolic modeling\n",
    "2. **Organism Filtering**: Removed organisms with no data for filtered carbon sources\n",
    "   - Ensures all organisms in the final matrix have at least some growth data\n",
    "\n",
    "**Next Steps**:\n",
    "1. Update interactive HTML viewer to support dataset selection (full vs filtered)\n",
    "2. Use filtered matrix in CDMSCI-197 for ModelSEED mapping\n",
    "3. Use filtered matrix in CDMSCI-199 for FBA validation\n",
    "\n",
    "**Why Filter?**\n",
    "- **Carbon Sources**: Focuses on compounds that can be directly modeled (no modifications needed)\n",
    "- **Organisms**: Removes organisms without any experimental data for the modeling-suitable compounds\n",
    "- **Result**: Clean, focused dataset optimized for metabolic modeling workflows"
   ]
  },
  {
   "cell_type": "code",
   "execution_count": 10,
   "metadata": {},
   "outputs": [
    {
     "name": "stdout",
     "output_type": "stream",
     "text": [
      "\n",
      "Saving filtered growth matrix...\n",
      "  Saved to: results/combined_growth_matrix_filtered.csv\n",
      "\n",
      "================================================================================\n",
      "COMPLETE\n",
      "================================================================================\n",
      "\n",
      "Filtered matrix ready for:\n",
      "  - CDMSCI-197: ModelSEED mapping (use only suitable compounds)\n",
      "  - CDMSCI-199: FBA validation (focus on modeling-suitable carbon sources)\n",
      "  - Interactive viewer: Compare full vs filtered datasets\n"
     ]
    }
   ],
   "source": [
    "# Save filtered growth matrix\n",
    "print(\"\\nSaving filtered growth matrix...\")\n",
    "filtered_matrix.to_csv(FILTERED_MATRIX_FILE)\n",
    "print(f\"  Saved to: {FILTERED_MATRIX_FILE}\")\n",
    "\n",
    "print(\"\\n\" + \"=\" * 80)\n",
    "print(\"COMPLETE\")\n",
    "print(\"=\" * 80)\n",
    "print(f\"\\nFiltered matrix ready for:\")\n",
    "print(f\"  - CDMSCI-197: ModelSEED mapping (use only suitable compounds)\")\n",
    "print(f\"  - CDMSCI-199: FBA validation (focus on modeling-suitable carbon sources)\")\n",
    "print(f\"  - Interactive viewer: Compare full vs filtered datasets\")"
   ]
  },
  {
   "cell_type": "markdown",
   "metadata": {},
   "source": [
    "## Summary\n",
    "\n",
    "**Output Created**:\n",
    "- `results/combined_growth_matrix_filtered.csv` - Growth matrix with 141 carbon sources (recommendation: 'use' only)\n",
    "\n",
    "**Next Steps**:\n",
    "1. Update interactive HTML viewer to support dataset selection (full vs filtered)\n",
    "2. Use filtered matrix in CDMSCI-197 for ModelSEED mapping\n",
    "3. Use filtered matrix in CDMSCI-199 for FBA validation\n",
    "\n",
    "**Why Filter?**\n",
    "- Focuses on compounds that can be directly modeled (no modifications needed)\n",
    "- Excludes polymers (need monomer representation)\n",
    "- Excludes proprietary blends (use defined alternatives)\n",
    "- Excludes atypical compounds (not suitable for bacterial metabolism)\n",
    "- Provides clean dataset for metabolic modeling workflows"
   ]
  },
  {
   "cell_type": "code",
   "execution_count": null,
   "metadata": {},
   "outputs": [],
   "source": []
  }
 ],
 "metadata": {
  "kernelspec": {
   "display_name": "Python 3 (ipykernel)",
   "language": "python",
   "name": "python3"
  },
  "language_info": {
   "codemirror_mode": {
    "name": "ipython",
    "version": 3
   },
   "file_extension": ".py",
   "mimetype": "text/x-python",
   "name": "python",
   "nbconvert_exporter": "python",
   "pygments_lexer": "ipython3",
   "version": "3.11.12"
  }
 },
 "nbformat": 4,
 "nbformat_minor": 4
}
