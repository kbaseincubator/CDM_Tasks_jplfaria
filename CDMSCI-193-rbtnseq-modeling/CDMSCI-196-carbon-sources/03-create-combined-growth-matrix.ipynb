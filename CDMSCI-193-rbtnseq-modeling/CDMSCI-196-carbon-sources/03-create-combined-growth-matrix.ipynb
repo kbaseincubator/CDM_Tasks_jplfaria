{
 "cells": [
  {
   "cell_type": "markdown",
   "metadata": {},
   "source": "# Create Combined Growth Matrix (Integrated Data)\n\n**Purpose**: Integrate 2018 paper and Fitness Browser data with proper hierarchy\n\n**Data Strategy (Tiered Approach)**:\n- **Tier 1**: Supplementary Table S2 (2018 paper) - use for BOTH growth and no-growth calls\n- **Tier 2**: Fitness Browser - use for growth calls ONLY (if experiment exists)\n- **Important**: Do NOT assume absence of Fitness Browser data means \"No Growth\"\n\n**Why This Strategy?**:\n- 170 cases where Supplementary Table shows growth but Fitness Browser has no data\n- All Fitness Browser experiments already pass quality filters (gMed >= 50, mad12 <= 0.5)\n- Missing data could mean: never tested, failed experiment, or not published\n- Both sources from same lab (Morgan group) - equally trustworthy\n- Difference: Paper reports Growth AND No Growth; Database reports Growth only\n\n**Discrepancies Found**:\n- Type 1: 170 cases - Paper shows growth, FB has no data (experiments not in public database)\n- Type 2: 3 cases - FB shows growth, paper shows no growth (Tier 1 takes precedence)\n\n**Output File**:\n- `results/combined_growth_matrix.csv` - Master growth matrix (57 organisms × 208 carbon sources)\n\n**Values**:\n- `Growth` - Confirmed growth (from either source)\n- `No Growth` - Confirmed no growth (from Supplementary Table ONLY)\n- ` ` (blank) - Unknown/not tested\n\n**Last updated**: 2025-10-15"
  },
  {
   "cell_type": "markdown",
   "metadata": {},
   "source": [
    "## Setup"
   ]
  },
  {
   "cell_type": "code",
   "execution_count": 1,
   "metadata": {},
   "outputs": [
    {
     "name": "stdout",
     "output_type": "stream",
     "text": [
      "Imports successful\n"
     ]
    }
   ],
   "source": [
    "import sqlite3\n",
    "import pandas as pd\n",
    "import numpy as np\n",
    "from pathlib import Path\n",
    "import re\n",
    "\n",
    "print(\"Imports successful\")"
   ]
  },
  {
   "cell_type": "markdown",
   "metadata": {},
   "source": [
    "## Configuration"
   ]
  },
  {
   "cell_type": "code",
   "execution_count": 2,
   "metadata": {},
   "outputs": [
    {
     "name": "stdout",
     "output_type": "stream",
     "text": [
      "Configuration set\n",
      "  Database: ../data/source/feba.db\n",
      "  Supplementary table: results/supplementary_table_s2_clean.csv\n",
      "  Organism metadata: results/organism_metadata.csv\n",
      "  Output: results/combined_growth_matrix.csv\n"
     ]
    }
   ],
   "source": [
    "# Paths\n",
    "DB_PATH = Path(\"../data/source/feba.db\")\n",
    "RESULTS_DIR = Path(\"results\")\n",
    "\n",
    "# Input files (created by previous notebooks)\n",
    "SUPP_TABLE_FILE = RESULTS_DIR / \"supplementary_table_s2_clean.csv\"\n",
    "ORGANISM_METADATA_FILE = RESULTS_DIR / \"organism_metadata.csv\"\n",
    "\n",
    "# Output file\n",
    "OUTPUT_FILE = RESULTS_DIR / \"combined_growth_matrix.csv\"\n",
    "\n",
    "print(f\"Configuration set\")\n",
    "print(f\"  Database: {DB_PATH}\")\n",
    "print(f\"  Supplementary table: {SUPP_TABLE_FILE}\")\n",
    "print(f\"  Organism metadata: {ORGANISM_METADATA_FILE}\")\n",
    "print(f\"  Output: {OUTPUT_FILE}\")"
   ]
  },
  {
   "cell_type": "markdown",
   "metadata": {},
   "source": [
    "## Load Tier 1 Data (2018 Paper)"
   ]
  },
  {
   "cell_type": "code",
   "execution_count": 3,
   "metadata": {},
   "outputs": [
    {
     "name": "stdout",
     "output_type": "stream",
     "text": [
      "Loading Tier 1 data (Supplementary Table S2 - 2018 paper)...\n",
      "\n",
      "Loaded Tier 1 data:\n",
      "  Shape: 94 carbon sources × 28 organisms\n",
      "  Growth calls: 931\n",
      "  No Growth calls: 1701\n",
      "\n",
      "Organisms in supplementary table:\n",
      "  - Acidovorax sp. GW101-3H11\n",
      "  - Azospirillum brasilense sp. 245\n",
      "  - Burkholderia phytofirmans PsJN\n",
      "  - Caulobacter crescentus NA1000\n",
      "  - Cupriavidus basilensis 4G11\n",
      "  - Dechlorosoma suillum PS\n",
      "  - Dinoroseobacter shibae DFL-12\n",
      "  - Dyella japonica UNC79MFTsu3.2 IMG taxon ID 2556921674\n",
      "  - Echinicola vietnamensis DSM 17526\n",
      "  - Escherichia coli BW25113\n",
      "  - Herbaspirillum seropedicae SmR1\n",
      "  - Klebsiella michiganensis M5a1\n",
      "  - Marinobacter adhaerens HP15\n",
      "  - Pedobacter sp. GW460-11-11-14-LB5\n",
      "  - Phaeobacter inhibens BS107\n",
      "  - Pseudomonas fluorescens FW300-N1B4\n",
      "  - Pseudomonas fluorescens FW300-N2C3\n",
      "  - Pseudomonas fluorescens FW300-N2E2\n",
      "  - Pseudomonas fluorescens FW300-N2E3\n",
      "  - Pseudomonas fluorescens GW456-L13\n",
      "  - Pseudomonas simiae WCS417\n",
      "  - Pseudomonas stutzeri RCH2\n",
      "  - Shewanella amazonensis SB2B\n",
      "  - Shewanella loihica PV-4\n",
      "  - Shewanella oneidensis MR-1\n",
      "  - Shewanella sp. ANA-3\n",
      "  - Sinorhizobium meliloti 1021\n",
      "  - Sphingomonas koreensis DSMZ 15582\n"
     ]
    }
   ],
   "source": [
    "print(\"Loading Tier 1 data (Supplementary Table S2 - 2018 paper)...\")\n",
    "supp_data = pd.read_csv(SUPP_TABLE_FILE, index_col=0)\n",
    "\n",
    "print(f\"\\nLoaded Tier 1 data:\")\n",
    "print(f\"  Shape: {supp_data.shape[0]} carbon sources × {supp_data.shape[1]} organisms\")\n",
    "print(f\"  Growth calls: {(supp_data == 'Growth').sum().sum()}\")\n",
    "print(f\"  No Growth calls: {(supp_data == 'No Growth').sum().sum()}\")\n",
    "\n",
    "print(f\"\\nOrganisms in supplementary table:\")\n",
    "for org in supp_data.columns:\n",
    "    print(f\"  - {org}\")"
   ]
  },
  {
   "cell_type": "markdown",
   "metadata": {},
   "source": [
    "## Load Organism Metadata"
   ]
  },
  {
   "cell_type": "code",
   "execution_count": 4,
   "metadata": {},
   "outputs": [
    {
     "name": "stdout",
     "output_type": "stream",
     "text": [
      "\n",
      "Loading organism metadata...\n",
      "Loaded metadata for 57 organisms\n",
      "\n",
      "Creating orgId to Species_Name mapping...\n",
      "Created mappings for 57 organisms\n"
     ]
    }
   ],
   "source": [
    "print(\"\\nLoading organism metadata...\")\n",
    "metadata = pd.read_csv(ORGANISM_METADATA_FILE)\n",
    "\n",
    "print(f\"Loaded metadata for {len(metadata)} organisms\")\n",
    "print(f\"\\nCreating orgId to Species_Name mapping...\")\n",
    "\n",
    "# Create mapping dictionaries\n",
    "orgid_to_species = dict(zip(metadata['orgId'], metadata['Species_Name']))\n",
    "species_to_orgid = dict(zip(metadata['Species_Name'], metadata['orgId']))\n",
    "\n",
    "print(f\"Created mappings for {len(orgid_to_species)} organisms\")"
   ]
  },
  {
   "cell_type": "markdown",
   "metadata": {},
   "source": [
    "## Load Tier 2 Data (Fitness Browser)"
   ]
  },
  {
   "cell_type": "code",
   "execution_count": 5,
   "metadata": {},
   "outputs": [
    {
     "name": "stdout",
     "output_type": "stream",
     "text": [
      "\n",
      "Loading Tier 2 data (Fitness Browser database)...\n",
      "\n",
      "Loaded Fitness Browser data:\n",
      "  Organism-carbon pairs: 1,089\n",
      "  Unique organisms: 44\n",
      "  Unique carbon sources: 198\n",
      "\n",
      "Note: All experiments already pass quality filters (gMed >= 50, mad12 <= 0.5)\n"
     ]
    }
   ],
   "source": [
    "print(\"\\nLoading Tier 2 data (Fitness Browser database)...\")\n",
    "conn = sqlite3.connect(str(DB_PATH))\n",
    "\n",
    "# Query carbon source experiments\n",
    "# Note: ALL experiments in feba.db already pass quality filters\n",
    "query = \"\"\"\n",
    "SELECT DISTINCT\n",
    "    e.orgId,\n",
    "    e.condition_1 as carbon_source,\n",
    "    COUNT(DISTINCT e.expName) as n_experiments\n",
    "FROM Experiment e\n",
    "WHERE e.expGroup = 'carbon source'\n",
    "  AND e.num > 0\n",
    "GROUP BY e.orgId, e.condition_1\n",
    "ORDER BY e.orgId, e.condition_1\n",
    "\"\"\"\n",
    "\n",
    "fb_data = pd.read_sql_query(query, conn)\n",
    "conn.close()\n",
    "\n",
    "print(f\"\\nLoaded Fitness Browser data:\")\n",
    "print(f\"  Organism-carbon pairs: {len(fb_data):,}\")\n",
    "print(f\"  Unique organisms: {fb_data['orgId'].nunique()}\")\n",
    "print(f\"  Unique carbon sources: {fb_data['carbon_source'].nunique()}\")\n",
    "\n",
    "print(f\"\\nNote: All experiments already pass quality filters (gMed >= 50, mad12 <= 0.5)\")"
   ]
  },
  {
   "cell_type": "markdown",
   "metadata": {},
   "source": [
    "## Match Carbon Source Names"
   ]
  },
  {
   "cell_type": "code",
   "execution_count": 6,
   "metadata": {},
   "outputs": [
    {
     "name": "stdout",
     "output_type": "stream",
     "text": [
      "Normalized carbon source names for matching\n",
      "  Supplementary table: 94 unique names\n",
      "  Fitness Browser: 198 unique names\n"
     ]
    }
   ],
   "source": [
    "def normalize_carbon_name(name):\n",
    "    \"\"\"Normalize carbon source name for matching\"\"\"\n",
    "    if pd.isna(name):\n",
    "        return name\n",
    "    \n",
    "    name = str(name).lower().strip()\n",
    "    \n",
    "    # Remove common suffixes\n",
    "    name = re.sub(r'\\s+(monohydrate|dihydrate|trihydrate|pentahydrate|hexahydrate)', '', name)\n",
    "    name = re.sub(r'\\s+(salt|potassium salt|sodium salt|disodium salt|hydrochloride|hcl)', '', name)\n",
    "    \n",
    "    # Normalize stereochemistry prefixes\n",
    "    name = re.sub(r'd-\\(-\\)-', 'd-', name)\n",
    "    name = re.sub(r'l-\\(-\\)-', 'l-', name)\n",
    "    \n",
    "    # Remove punctuation\n",
    "    name = re.sub(r'[,\\.]', '', name)\n",
    "    \n",
    "    # Normalize whitespace\n",
    "    name = ' '.join(name.split())\n",
    "    \n",
    "    return name\n",
    "\n",
    "# Create normalized versions for matching\n",
    "supp_carbons_normalized = {normalize_carbon_name(c): c for c in supp_data.index}\n",
    "fb_carbons_normalized = {normalize_carbon_name(c): c for c in fb_data['carbon_source'].unique()}\n",
    "\n",
    "print(f\"Normalized carbon source names for matching\")\n",
    "print(f\"  Supplementary table: {len(supp_carbons_normalized)} unique names\")\n",
    "print(f\"  Fitness Browser: {len(fb_carbons_normalized)} unique names\")"
   ]
  },
  {
   "cell_type": "markdown",
   "metadata": {},
   "source": [
    "## Create Combined Matrix Framework"
   ]
  },
  {
   "cell_type": "code",
   "execution_count": 7,
   "metadata": {},
   "outputs": [
    {
     "name": "stdout",
     "output_type": "stream",
     "text": [
      "\n",
      "Creating combined matrix framework...\n",
      "Created empty matrix:\n",
      "  Shape: 208 carbon sources × 57 organisms\n",
      "  Total cells: 11,856\n"
     ]
    }
   ],
   "source": [
    "print(\"\\nCreating combined matrix framework...\")\n",
    "\n",
    "# Get all organisms (57 from Fitness Browser)\n",
    "all_organisms = metadata['Species_Name'].tolist()\n",
    "\n",
    "# Get all carbon sources (union of both sources)\n",
    "all_carbon_sources = sorted(\n",
    "    set(supp_data.index.tolist()) | \n",
    "    set(fb_data['carbon_source'].unique())\n",
    ")\n",
    "\n",
    "# Create empty matrix\n",
    "combined_matrix = pd.DataFrame(\n",
    "    index=all_carbon_sources,\n",
    "    columns=all_organisms,\n",
    "    dtype=str\n",
    ")\n",
    "\n",
    "# Fill with empty strings (will use \"\" for unknown)\n",
    "combined_matrix[:] = ''\n",
    "\n",
    "print(f\"Created empty matrix:\")\n",
    "print(f\"  Shape: {combined_matrix.shape[0]} carbon sources × {combined_matrix.shape[1]} organisms\")\n",
    "print(f\"  Total cells: {combined_matrix.size:,}\")"
   ]
  },
  {
   "cell_type": "markdown",
   "metadata": {},
   "source": [
    "## Fill Matrix: Tier 1 (Supplementary Table)"
   ]
  },
  {
   "cell_type": "code",
   "execution_count": 8,
   "metadata": {},
   "outputs": [
    {
     "name": "stdout",
     "output_type": "stream",
     "text": [
      "\n",
      "Filling matrix with Tier 1 data (2018 paper)...\n",
      "Filled 2,068 cells from Supplementary Table S2\n",
      "  Growth: 737\n",
      "  No Growth: 1331\n"
     ]
    }
   ],
   "source": [
    "print(\"\\nFilling matrix with Tier 1 data (2018 paper)...\")\n",
    "\n",
    "n_filled = 0\n",
    "for carbon in supp_data.index:\n",
    "    for organism in supp_data.columns:\n",
    "        if organism in combined_matrix.columns:\n",
    "            value = supp_data.loc[carbon, organism]\n",
    "            if pd.notna(value) and value != '':\n",
    "                combined_matrix.loc[carbon, organism] = value\n",
    "                n_filled += 1\n",
    "\n",
    "print(f\"Filled {n_filled:,} cells from Supplementary Table S2\")\n",
    "print(f\"  Growth: {(combined_matrix == 'Growth').sum().sum()}\")\n",
    "print(f\"  No Growth: {(combined_matrix == 'No Growth').sum().sum()}\")"
   ]
  },
  {
   "cell_type": "markdown",
   "metadata": {},
   "source": [
    "## Fill Matrix: Tier 2 (Fitness Browser - Growth Only)"
   ]
  },
  {
   "cell_type": "code",
   "execution_count": 9,
   "metadata": {},
   "outputs": [
    {
     "name": "stdout",
     "output_type": "stream",
     "text": [
      "\n",
      "Filling matrix with Tier 2 data (Fitness Browser growth calls)...\n",
      "Added 519 additional growth calls from Fitness Browser\n",
      "\n",
      "Final matrix composition:\n",
      "  Growth: 1256\n",
      "  No Growth: 1331\n",
      "  Unknown (blank): 9269\n"
     ]
    }
   ],
   "source": [
    "print(\"\\nFilling matrix with Tier 2 data (Fitness Browser growth calls)...\")\n",
    "\n",
    "n_added = 0\n",
    "for _, row in fb_data.iterrows():\n",
    "    org_species = orgid_to_species.get(row['orgId'])\n",
    "    carbon = row['carbon_source']\n",
    "    \n",
    "    if org_species in combined_matrix.columns and carbon in combined_matrix.index:\n",
    "        # Only add if cell is currently empty (Tier 1 takes precedence)\n",
    "        if combined_matrix.loc[carbon, org_species] == '':\n",
    "            combined_matrix.loc[carbon, org_species] = 'Growth'\n",
    "            n_added += 1\n",
    "\n",
    "print(f\"Added {n_added:,} additional growth calls from Fitness Browser\")\n",
    "print(f\"\\nFinal matrix composition:\")\n",
    "print(f\"  Growth: {(combined_matrix == 'Growth').sum().sum()}\")\n",
    "print(f\"  No Growth: {(combined_matrix == 'No Growth').sum().sum()}\")\n",
    "print(f\"  Unknown (blank): {(combined_matrix == '').sum().sum()}\")"
   ]
  },
  {
   "cell_type": "markdown",
   "metadata": {},
   "source": [
    "## Save Combined Matrix"
   ]
  },
  {
   "cell_type": "code",
   "execution_count": 10,
   "metadata": {},
   "outputs": [
    {
     "name": "stdout",
     "output_type": "stream",
     "text": [
      "\n",
      "Saving combined growth matrix to: results/combined_growth_matrix.csv\n",
      "Saved 208 carbon sources × 57 organisms\n"
     ]
    }
   ],
   "source": [
    "print(f\"\\nSaving combined growth matrix to: {OUTPUT_FILE}\")\n",
    "combined_matrix.to_csv(OUTPUT_FILE)\n",
    "print(f\"Saved {combined_matrix.shape[0]} carbon sources × {combined_matrix.shape[1]} organisms\")"
   ]
  },
  {
   "cell_type": "markdown",
   "metadata": {},
   "source": [
    "## Summary Statistics"
   ]
  },
  {
   "cell_type": "code",
   "execution_count": 11,
   "metadata": {},
   "outputs": [
    {
     "name": "stdout",
     "output_type": "stream",
     "text": [
      "======================================================================\n",
      "COMBINED GROWTH MATRIX SUMMARY\n",
      "======================================================================\n",
      "\n",
      "Data sources (tiered approach):\n",
      "  Tier 1: Supplementary Table S2 (2018 paper)\n",
      "    - Use for: BOTH growth and no-growth\n",
      "    - Coverage: 28 organisms × 94 carbon sources\n",
      "  Tier 2: Fitness Browser\n",
      "    - Use for: Growth calls ONLY\n",
      "    - Coverage: 57 organisms × 198 carbon sources\n",
      "\n",
      "Matrix dimensions:\n",
      "  Organisms: 57\n",
      "  Carbon sources: 208\n",
      "  Total cells: 11,856\n",
      "\n",
      "Data composition:\n",
      "  Growth: 1,256 (10.6%)\n",
      "  No Growth: 1,331 (11.2%)\n",
      "  Unknown: 9,269 (78.2%)\n",
      "\n",
      "Interpretation:\n",
      "  'Growth' = Confirmed growth (high confidence)\n",
      "  'No Growth' = Confirmed no growth (conservative threshold)\n",
      "  '' (blank) = Unknown/not tested\n",
      "\n",
      "Files created:\n",
      "  results/combined_growth_matrix.csv\n",
      "\n",
      "Next step:\n",
      "  Run 04-analyze-data-discrepancies.ipynb to find conflicts\n",
      "\n",
      "======================================================================\n"
     ]
    }
   ],
   "source": [
    "print(\"=\"*70)\n",
    "print(\"COMBINED GROWTH MATRIX SUMMARY\")\n",
    "print(\"=\"*70)\n",
    "\n",
    "print(f\"\\nData sources (tiered approach):\")\n",
    "print(f\"  Tier 1: Supplementary Table S2 (2018 paper)\")\n",
    "print(f\"    - Use for: BOTH growth and no-growth\")\n",
    "print(f\"    - Coverage: 28 organisms × 94 carbon sources\")\n",
    "print(f\"  Tier 2: Fitness Browser\")\n",
    "print(f\"    - Use for: Growth calls ONLY\")\n",
    "print(f\"    - Coverage: 57 organisms × 198 carbon sources\")\n",
    "\n",
    "print(f\"\\nMatrix dimensions:\")\n",
    "print(f\"  Organisms: {len(combined_matrix.columns)}\")\n",
    "print(f\"  Carbon sources: {len(combined_matrix.index)}\")\n",
    "print(f\"  Total cells: {combined_matrix.size:,}\")\n",
    "\n",
    "n_growth = (combined_matrix == 'Growth').sum().sum()\n",
    "n_no_growth = (combined_matrix == 'No Growth').sum().sum()\n",
    "n_unknown = (combined_matrix == '').sum().sum()\n",
    "\n",
    "print(f\"\\nData composition:\")\n",
    "print(f\"  Growth: {n_growth:,} ({100*n_growth/combined_matrix.size:.1f}%)\")\n",
    "print(f\"  No Growth: {n_no_growth:,} ({100*n_no_growth/combined_matrix.size:.1f}%)\")\n",
    "print(f\"  Unknown: {n_unknown:,} ({100*n_unknown/combined_matrix.size:.1f}%)\")\n",
    "\n",
    "print(f\"\\nInterpretation:\")\n",
    "print(f\"  'Growth' = Confirmed growth (high confidence)\")\n",
    "print(f\"  'No Growth' = Confirmed no growth (conservative threshold)\")\n",
    "print(f\"  '' (blank) = Unknown/not tested\")\n",
    "\n",
    "print(f\"\\nFiles created:\")\n",
    "print(f\"  {OUTPUT_FILE}\")\n",
    "\n",
    "print(f\"\\nNext step:\")\n",
    "print(f\"  Run 04-analyze-data-discrepancies.ipynb to find conflicts\")\n",
    "\n",
    "print(\"\\n\" + \"=\"*70)"
   ]
  },
  {
   "cell_type": "code",
   "execution_count": null,
   "metadata": {},
   "outputs": [],
   "source": []
  }
 ],
 "metadata": {
  "kernelspec": {
   "display_name": "Python 3 (ipykernel)",
   "language": "python",
   "name": "python3"
  },
  "language_info": {
   "codemirror_mode": {
    "name": "ipython",
    "version": 3
   },
   "file_extension": ".py",
   "mimetype": "text/x-python",
   "name": "python",
   "nbconvert_exporter": "python",
   "pygments_lexer": "ipython3",
   "version": "3.11.12"
  }
 },
 "nbformat": 4,
 "nbformat_minor": 4
}