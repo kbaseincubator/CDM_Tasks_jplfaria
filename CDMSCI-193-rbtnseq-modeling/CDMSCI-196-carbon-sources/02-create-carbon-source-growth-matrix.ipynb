{
 "cells": [
  {
   "cell_type": "markdown",
   "metadata": {},
   "source": "# Carbon Source Growth Matrix from Fitness Browser Database\n\n**Purpose**: Create organism × carbon source growth/no-growth matrix\n\n**Data Source**: Fitness Browser SQLite database (feba.db) with all 57 organisms from Deutschbauer lab\n\n**Assumption**: \n- If organism has experiment data for a carbon source → **Growth = 1**\n- If organism lacks data for a carbon source → **No Growth = 0**\n\n**Output**: Binary matrix for metabolic model validation\n\n**Last updated**: 2025-10-01"
  },
  {
   "cell_type": "markdown",
   "metadata": {},
   "source": [
    "## Setup"
   ]
  },
  {
   "cell_type": "code",
   "execution_count": null,
   "metadata": {},
   "outputs": [],
   "source": [
    "import sqlite3\n",
    "import pandas as pd\n",
    "import numpy as np\n",
    "from pathlib import Path\n",
    "import matplotlib.pyplot as plt\n",
    "import seaborn as sns\n",
    "\n",
    "print(\"✓ Imports successful\")"
   ]
  },
  {
   "cell_type": "markdown",
   "metadata": {},
   "source": [
    "## Configuration"
   ]
  },
  {
   "cell_type": "code",
   "execution_count": null,
   "metadata": {},
   "outputs": [],
   "source": [
    "# Database path\n",
    "DB_PATH = Path(\"../downloads/feba.db\")\n",
    "\n",
    "# Output directory\n",
    "OUTPUT_DIR = Path(\"../data/processed\")\n",
    "OUTPUT_DIR.mkdir(parents=True, exist_ok=True)\n",
    "\n",
    "# Output files\n",
    "MATRIX_FILE = OUTPUT_DIR / \"carbon_source_growth_matrix.csv\"\n",
    "STATS_FILE = OUTPUT_DIR / \"carbon_source_growth_matrix_stats.txt\"\n",
    "HEATMAP_FILE = OUTPUT_DIR / \"carbon_source_growth_heatmap.png\"\n",
    "\n",
    "# Quality filters (optional - set to False to include all experiments)\n",
    "APPLY_QUALITY_FILTERS = True\n",
    "MIN_GMED = 50  # Minimum median reads per gene\n",
    "MAX_MAD12 = 0.5  # Maximum median absolute difference\n",
    "\n",
    "print(f\"✓ Configuration set\")\n",
    "print(f\"  Database: {DB_PATH}\")\n",
    "print(f\"  Output: {OUTPUT_DIR}\")\n",
    "print(f\"  Quality filters: {APPLY_QUALITY_FILTERS}\")\n",
    "\n",
    "# Check database exists\n",
    "if not DB_PATH.exists():\n",
    "    print(f\"\\n⚠ ERROR: Database not found at {DB_PATH}\")\n",
    "    print(f\"Please ensure feba.db is in the downloads/ directory\")\n",
    "else:\n",
    "    print(f\"\\n✓ Database found: {DB_PATH.stat().st_size / 1e9:.1f} GB\")"
   ]
  },
  {
   "cell_type": "markdown",
   "metadata": {},
   "source": [
    "## Connect to Database"
   ]
  },
  {
   "cell_type": "code",
   "execution_count": null,
   "metadata": {},
   "outputs": [],
   "source": [
    "# Connect to database\n",
    "print(f\"Connecting to database: {DB_PATH}\")\n",
    "conn = sqlite3.connect(str(DB_PATH))\n",
    "print(\"✓ Connected\")"
   ]
  },
  {
   "cell_type": "markdown",
   "metadata": {},
   "source": [
    "## Explore Database Contents"
   ]
  },
  {
   "cell_type": "code",
   "execution_count": null,
   "metadata": {},
   "outputs": [],
   "source": [
    "# Count organisms\n",
    "query = \"SELECT COUNT(DISTINCT orgId) as n_organisms FROM Gene\"\n",
    "n_organisms = pd.read_sql_query(query, conn).iloc[0]['n_organisms']\n",
    "print(f\"Total organisms in database: {n_organisms}\")\n",
    "\n",
    "# Count experiments\n",
    "query = \"SELECT COUNT(DISTINCT expName) as n_experiments FROM Experiment\"\n",
    "n_experiments = pd.read_sql_query(query, conn).iloc[0]['n_experiments']\n",
    "print(f\"Total experiments in database: {n_experiments:,}\")\n",
    "\n",
    "# Count experiment groups\n",
    "query = \"SELECT expGroup, COUNT(*) as n FROM Experiment GROUP BY expGroup ORDER BY n DESC\"\n",
    "exp_groups = pd.read_sql_query(query, conn)\n",
    "print(f\"\\nExperiment groups:\")\n",
    "print(exp_groups)"
   ]
  },
  {
   "cell_type": "markdown",
   "metadata": {},
   "source": [
    "## List All Organisms"
   ]
  },
  {
   "cell_type": "code",
   "execution_count": null,
   "metadata": {},
   "outputs": [],
   "source": [
    "# Get all organism IDs\n",
    "query = \"\"\"\n",
    "SELECT DISTINCT orgId, COUNT(*) as n_genes\n",
    "FROM Gene\n",
    "WHERE type = 1  -- protein-coding genes only\n",
    "GROUP BY orgId\n",
    "ORDER BY orgId\n",
    "\"\"\"\n",
    "organisms_df = pd.read_sql_query(query, conn)\n",
    "\n",
    "print(f\"All {len(organisms_df)} organisms:\")\n",
    "print(\"=\"*70)\n",
    "for idx, row in organisms_df.iterrows():\n",
    "    print(f\"  {row['orgId']:40s} {row['n_genes']:5,d} genes\")"
   ]
  },
  {
   "cell_type": "markdown",
   "metadata": {},
   "source": [
    "## Extract Carbon Source Experiments"
   ]
  },
  {
   "cell_type": "code",
   "execution_count": null,
   "metadata": {},
   "outputs": [],
   "source": [
    "# Build query\n",
    "query = \"\"\"\n",
    "SELECT DISTINCT\n",
    "    e.orgId,\n",
    "    e.condition_1 as carbon_source,\n",
    "    COUNT(DISTINCT e.expName) as n_experiments,\n",
    "    AVG(e.gMed) as avg_gMed,\n",
    "    AVG(e.mad12) as avg_mad12\n",
    "FROM Experiment e\n",
    "WHERE e.expGroup = 'carbon source'\n",
    "\"\"\"\n",
    "\n",
    "# Add quality filters if requested\n",
    "if APPLY_QUALITY_FILTERS:\n",
    "    query += f\"\"\"\n",
    "    AND e.num > 0\n",
    "    AND e.gMed >= {MIN_GMED}\n",
    "    AND (e.mad12 IS NULL OR e.mad12 <= {MAX_MAD12})\n",
    "    AND (e.u IS NULL OR e.u = '')\n",
    "    \"\"\"\n",
    "\n",
    "query += \"\"\"\n",
    "GROUP BY e.orgId, e.condition_1\n",
    "ORDER BY e.orgId, e.condition_1\n",
    "\"\"\"\n",
    "\n",
    "print(\"Executing query...\")\n",
    "carbon_experiments = pd.read_sql_query(query, conn)\n",
    "\n",
    "print(f\"\\n✓ Extracted carbon source data\")\n",
    "print(f\"  Organism-carbon pairs: {len(carbon_experiments):,}\")\n",
    "print(f\"  Unique organisms: {carbon_experiments['orgId'].nunique()}\")\n",
    "print(f\"  Unique carbon sources: {carbon_experiments['carbon_source'].nunique()}\")\n",
    "\n",
    "if APPLY_QUALITY_FILTERS:\n",
    "    print(f\"\\nQuality filters applied:\")\n",
    "    print(f\"  gMed >= {MIN_GMED}\")\n",
    "    print(f\"  mad12 <= {MAX_MAD12}\")\n",
    "else:\n",
    "    print(f\"\\nNo quality filters applied\")"
   ]
  },
  {
   "cell_type": "markdown",
   "metadata": {},
   "source": [
    "## Create Growth Matrix"
   ]
  },
  {
   "cell_type": "code",
   "execution_count": null,
   "metadata": {},
   "outputs": [],
   "source": [
    "print(\"Creating growth matrix...\")\n",
    "\n",
    "# Create pivot table: organisms × carbon sources\n",
    "growth_matrix = carbon_experiments.pivot_table(\n",
    "    index='orgId',\n",
    "    columns='carbon_source',\n",
    "    values='n_experiments',\n",
    "    aggfunc='sum',\n",
    "    fill_value=0\n",
    ")\n",
    "\n",
    "# Get all organisms from database to ensure complete matrix\n",
    "all_orgs = organisms_df['orgId'].unique()\n",
    "growth_matrix = growth_matrix.reindex(all_orgs, fill_value=0)\n",
    "\n",
    "# Convert to binary (1 = has data/growth, 0 = no data/no growth)\n",
    "growth_matrix_binary = (growth_matrix > 0).astype(int)\n",
    "\n",
    "print(f\"\\n✓ Growth matrix created\")\n",
    "print(f\"  Shape: {growth_matrix_binary.shape[0]} organisms × {growth_matrix_binary.shape[1]} carbon sources\")\n",
    "print(f\"  Total cells: {growth_matrix_binary.size:,}\")\n",
    "print(f\"  Growth (1): {growth_matrix_binary.sum().sum():,} ({100 * growth_matrix_binary.sum().sum() / growth_matrix_binary.size:.1f}%)\")\n",
    "print(f\"  No growth (0): {(growth_matrix_binary == 0).sum().sum():,} ({100 * (growth_matrix_binary == 0).sum().sum() / growth_matrix_binary.size:.1f}%)\")"
   ]
  },
  {
   "cell_type": "markdown",
   "metadata": {},
   "source": [
    "## Matrix Statistics"
   ]
  },
  {
   "cell_type": "code",
   "execution_count": null,
   "metadata": {},
   "outputs": [],
   "source": [
    "print(\"=\"*70)\n",
    "print(\"CARBON SOURCE GROWTH MATRIX STATISTICS\")\n",
    "print(\"=\"*70)\n",
    "\n",
    "# Overall\n",
    "print(f\"\\nOverall:\")\n",
    "print(f\"  Organisms: {len(growth_matrix_binary)}\")\n",
    "print(f\"  Carbon sources: {len(growth_matrix_binary.columns)}\")\n",
    "print(f\"  Total cells: {growth_matrix_binary.size:,}\")\n",
    "print(f\"  Cells with growth: {growth_matrix_binary.sum().sum():,}\")\n",
    "print(f\"  Coverage: {100 * growth_matrix_binary.sum().sum() / growth_matrix_binary.size:.2f}%\")\n",
    "\n",
    "# Per organism\n",
    "per_org = growth_matrix_binary.sum(axis=1).sort_values(ascending=False)\n",
    "print(f\"\\nPer Organism:\")\n",
    "print(f\"  Most carbon sources tested: {per_org.index[0]} ({per_org.iloc[0]} sources)\")\n",
    "print(f\"  Fewest carbon sources tested: {per_org.index[-1]} ({per_org.iloc[-1]} sources)\")\n",
    "print(f\"  Median: {per_org.median():.1f} sources\")\n",
    "print(f\"  Mean: {per_org.mean():.1f} sources\")\n",
    "\n",
    "# Per carbon source\n",
    "per_carbon = growth_matrix_binary.sum(axis=0).sort_values(ascending=False)\n",
    "print(f\"\\nPer Carbon Source:\")\n",
    "print(f\"  Most organisms tested: {per_carbon.index[0]} ({per_carbon.iloc[0]} organisms)\")\n",
    "print(f\"  Fewest organisms tested: {per_carbon.index[-1]} ({per_carbon.iloc[-1]} organisms)\")\n",
    "print(f\"  Median: {per_carbon.median():.1f} organisms\")\n",
    "print(f\"  Mean: {per_carbon.mean():.1f} organisms\")\n",
    "\n",
    "print(\"\\n\" + \"=\"*70)"
   ]
  },
  {
   "cell_type": "markdown",
   "metadata": {},
   "source": [
    "## Top Carbon Sources by Coverage"
   ]
  },
  {
   "cell_type": "code",
   "execution_count": null,
   "metadata": {},
   "outputs": [],
   "source": [
    "# Show top 30 carbon sources\n",
    "print(\"Top 30 carbon sources by number of organisms:\")\n",
    "print(\"=\"*70)\n",
    "top_carbons = per_carbon.head(30)\n",
    "for carbon, count in top_carbons.items():\n",
    "    pct = 100 * count / len(growth_matrix_binary)\n",
    "    print(f\"  {carbon:45s} {int(count):3d} organisms ({pct:5.1f}%)\")"
   ]
  },
  {
   "cell_type": "markdown",
   "metadata": {},
   "source": [
    "## Organisms by Carbon Source Coverage"
   ]
  },
  {
   "cell_type": "code",
   "execution_count": null,
   "metadata": {},
   "outputs": [],
   "source": [
    "# Show all organisms with their carbon source counts\n",
    "print(\"All organisms ranked by number of carbon sources tested:\")\n",
    "print(\"=\"*70)\n",
    "for org, count in per_org.items():\n",
    "    pct = 100 * count / len(growth_matrix_binary.columns)\n",
    "    print(f\"  {org:40s} {int(count):3d} carbon sources ({pct:5.1f}%)\")"
   ]
  },
  {
   "cell_type": "markdown",
   "metadata": {},
   "source": [
    "## Save Matrix"
   ]
  },
  {
   "cell_type": "code",
   "execution_count": null,
   "metadata": {},
   "outputs": [],
   "source": [
    "# Save binary matrix\n",
    "print(f\"Saving matrix to: {MATRIX_FILE}\")\n",
    "growth_matrix_binary.to_csv(MATRIX_FILE)\n",
    "print(f\"✓ Saved\")\n",
    "\n",
    "# Save statistics\n",
    "print(f\"\\nSaving statistics to: {STATS_FILE}\")\n",
    "with open(STATS_FILE, 'w') as f:\n",
    "    f.write(\"Carbon Source Growth Matrix Statistics\\n\")\n",
    "    f.write(\"=\"*70 + \"\\n\\n\")\n",
    "    f.write(f\"Generated: {pd.Timestamp.now()}\\n\")\n",
    "    f.write(f\"Database: {DB_PATH}\\n\\n\")\n",
    "    \n",
    "    f.write(\"Overall:\\n\")\n",
    "    f.write(f\"  Organisms: {len(growth_matrix_binary)}\\n\")\n",
    "    f.write(f\"  Carbon sources: {len(growth_matrix_binary.columns)}\\n\")\n",
    "    f.write(f\"  Total cells: {growth_matrix_binary.size:,}\\n\")\n",
    "    f.write(f\"  Cells with growth: {growth_matrix_binary.sum().sum():,}\\n\")\n",
    "    f.write(f\"  Coverage: {100 * growth_matrix_binary.sum().sum() / growth_matrix_binary.size:.2f}%\\n\\n\")\n",
    "    \n",
    "    f.write(\"Per Organism:\\n\")\n",
    "    f.write(f\"  Max carbon sources: {per_org.max():.0f}\\n\")\n",
    "    f.write(f\"  Min carbon sources: {per_org.min():.0f}\\n\")\n",
    "    f.write(f\"  Median: {per_org.median():.1f}\\n\")\n",
    "    f.write(f\"  Mean: {per_org.mean():.1f}\\n\\n\")\n",
    "    \n",
    "    f.write(\"Per Carbon Source:\\n\")\n",
    "    f.write(f\"  Max organisms: {per_carbon.max():.0f}\\n\")\n",
    "    f.write(f\"  Min organisms: {per_carbon.min():.0f}\\n\")\n",
    "    f.write(f\"  Median: {per_carbon.median():.1f}\\n\")\n",
    "    f.write(f\"  Mean: {per_carbon.mean():.1f}\\n\\n\")\n",
    "    \n",
    "    f.write(\"Assumption:\\n\")\n",
    "    f.write(\"  1 = Organism has data for carbon source (GROWTH)\\n\")\n",
    "    f.write(\"  0 = Organism lacks data for carbon source (NO GROWTH)\\n\\n\")\n",
    "    \n",
    "    if APPLY_QUALITY_FILTERS:\n",
    "        f.write(\"Quality Filters Applied:\\n\")\n",
    "        f.write(f\"  gMed >= {MIN_GMED}\\n\")\n",
    "        f.write(f\"  mad12 <= {MAX_MAD12}\\n\")\n",
    "    else:\n",
    "        f.write(\"Quality Filters: None\\n\")\n",
    "\n",
    "print(f\"✓ Saved\")"
   ]
  },
  {
   "cell_type": "markdown",
   "metadata": {},
   "source": [
    "## Visualize Matrix as Heatmap"
   ]
  },
  {
   "cell_type": "code",
   "execution_count": null,
   "metadata": {},
   "outputs": [],
   "source": [
    "# Create heatmap\n",
    "fig, ax = plt.subplots(figsize=(24, 14))\n",
    "\n",
    "# Sort by coverage for better visualization\n",
    "sorted_organisms = per_org.index\n",
    "sorted_carbons = per_carbon.index\n",
    "\n",
    "# Reorder matrix\n",
    "matrix_sorted = growth_matrix_binary.loc[sorted_organisms, sorted_carbons]\n",
    "\n",
    "# Plot heatmap\n",
    "sns.heatmap(\n",
    "    matrix_sorted,\n",
    "    cmap=['white', 'darkgreen'],\n",
    "    cbar_kws={'label': 'Growth (1) / No Growth (0)'},\n",
    "    linewidths=0.3,\n",
    "    linecolor='lightgray',\n",
    "    ax=ax\n",
    ")\n",
    "\n",
    "ax.set_xlabel('Carbon Source', fontsize=12, fontweight='bold')\n",
    "ax.set_ylabel('Organism', fontsize=12, fontweight='bold')\n",
    "ax.set_title(f'Carbon Source Growth Matrix - {len(growth_matrix_binary)} Organisms × {len(growth_matrix_binary.columns)} Carbon Sources\\n(Green = Growth, White = No Growth)', \n",
    "             fontsize=14, fontweight='bold')\n",
    "\n",
    "plt.xticks(rotation=90, ha='right', fontsize=7)\n",
    "plt.yticks(fontsize=8)\n",
    "plt.tight_layout()\n",
    "\n",
    "# Save\n",
    "print(f\"Saving heatmap to: {HEATMAP_FILE}\")\n",
    "plt.savefig(HEATMAP_FILE, dpi=300, bbox_inches='tight')\n",
    "print(f\"✓ Saved\")\n",
    "\n",
    "plt.show()"
   ]
  },
  {
   "cell_type": "markdown",
   "metadata": {},
   "source": [
    "## Inspect Specific Examples"
   ]
  },
  {
   "cell_type": "code",
   "execution_count": null,
   "metadata": {},
   "outputs": [],
   "source": [
    "# Example: Which organisms grow on glucose?\n",
    "glucose_cols = [col for col in growth_matrix_binary.columns if 'glucose' in col.lower()]\n",
    "\n",
    "if glucose_cols:\n",
    "    print(\"Glucose-related carbon sources found:\")\n",
    "    for col in glucose_cols:\n",
    "        print(f\"  {col}\")\n",
    "    \n",
    "    # Use first glucose column\n",
    "    glucose_col = glucose_cols[0]\n",
    "    glucose_growth = growth_matrix_binary[glucose_col]\n",
    "    \n",
    "    print(f\"\\n{glucose_col} growth:\")\n",
    "    print(f\"  Total organisms: {len(glucose_growth)}\")\n",
    "    print(f\"  Organisms with growth (1): {glucose_growth.sum()}\")\n",
    "    print(f\"  Organisms without data (0): {(glucose_growth == 0).sum()}\")\n",
    "    print(f\"\\nOrganisms that GROW on {glucose_col}:\")\n",
    "    for org in glucose_growth[glucose_growth == 1].index:\n",
    "        print(f\"    {org}\")\n",
    "    print(f\"\\nOrganisms with NO DATA (assumed no growth) on {glucose_col}:\")\n",
    "    for org in glucose_growth[glucose_growth == 0].index:\n",
    "        print(f\"    {org}\")\n",
    "else:\n",
    "    print(\"No glucose carbon sources found\")"
   ]
  },
  {
   "cell_type": "markdown",
   "metadata": {},
   "source": [
    "## Close Database Connection"
   ]
  },
  {
   "cell_type": "code",
   "execution_count": null,
   "metadata": {},
   "outputs": [],
   "source": [
    "conn.close()\n",
    "print(\"✓ Database connection closed\")"
   ]
  },
  {
   "cell_type": "markdown",
   "metadata": {},
   "source": [
    "## Summary"
   ]
  },
  {
   "cell_type": "code",
   "execution_count": null,
   "metadata": {},
   "outputs": [],
   "source": [
    "print(\"=\"*70)\n",
    "print(\"SUMMARY\")\n",
    "print(\"=\"*70)\n",
    "print(f\"\\n✓ Carbon source growth matrix created from full database\")\n",
    "print(f\"\\nFiles created:\")\n",
    "print(f\"  {MATRIX_FILE}\")\n",
    "print(f\"  {STATS_FILE}\")\n",
    "print(f\"  {HEATMAP_FILE}\")\n",
    "print(f\"\\nMatrix details:\")\n",
    "print(f\"  {len(growth_matrix_binary)} organisms (ALL organisms from database)\")\n",
    "print(f\"  {len(growth_matrix_binary.columns)} carbon sources\")\n",
    "print(f\"  {100 * growth_matrix_binary.sum().sum() / growth_matrix_binary.size:.1f}% coverage\")\n",
    "print(f\"\\nInterpretation:\")\n",
    "print(f\"  1 = Organism has data (GROWTH assumed)\")\n",
    "print(f\"  0 = Organism lacks data (NO GROWTH assumed)\")\n",
    "print(f\"\\nNext steps:\")\n",
    "print(f\"  1. Build metabolic models for {len(growth_matrix_binary)} organisms\")\n",
    "print(f\"  2. Simulate growth on {len(growth_matrix_binary.columns)} carbon sources\")\n",
    "print(f\"  3. Compare in silico predictions vs experimental matrix\")\n",
    "print(f\"  4. Generate confusion matrix\")\n",
    "print(\"\\n\" + \"=\"*70)"
   ]
  }
 ],
 "metadata": {
  "kernelspec": {
   "display_name": "Python 3",
   "language": "python",
   "name": "python3"
  },
  "language_info": {
   "codemirror_mode": {
    "name": "ipython",
    "version": 3
   },
   "file_extension": ".py",
   "mimetype": "text/x-python",
   "name": "python",
   "nbconvert_exporter": "python",
   "pygments_lexer": "ipython3",
   "version": "3.8.0"
  }
 },
 "nbformat": 4,
 "nbformat_minor": 4
}